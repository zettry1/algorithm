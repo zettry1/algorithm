{
 "cells": [
  {
   "cell_type": "code",
   "execution_count": 15,
   "metadata": {
    "vscode": {
     "languageId": "ruby"
    }
   },
   "outputs": [
    {
     "name": "stdout",
     "output_type": "stream",
     "text": [
      "3\n"
     ]
    }
   ],
   "source": [
    "\n",
    "def foo(n,memo={}):\n",
    "    if n in memo:\n",
    "        return memo[n]\n",
    "    if n<=2:\n",
    "        return 1\n",
    "    memo[n]= foo(n-1,memo)+foo(n-2,memo);\n",
    "    return memo[n]\n",
    "\n",
    "\n",
    "print(foo(4))"
   ]
  },
  {
   "cell_type": "code",
   "execution_count": 3,
   "metadata": {
    "collapsed": false,
    "pycharm": {
     "name": "#%%\n"
    },
    "vscode": {
     "languageId": "ruby"
    }
   },
   "outputs": [
    {
     "name": "stdout",
     "output_type": "stream",
     "text": [
      "1\n",
      "3\n",
      "6\n",
      "2333606220\n",
      "22750883079422934966181954039568885395604168260154104734000\n"
     ]
    }
   ],
   "source": [
    "def gridTravelers(m,n,memo={}):\n",
    "    key=str(m)+\",\"+str(n)\n",
    "    \n",
    "    if key in memo:\n",
    "        return memo[key]\n",
    "\n",
    "\n",
    "    if m==1 and n==1:\n",
    "        return 1\n",
    "    if m==0 or n==0:\n",
    "        return 0\n",
    "    memo[key]= gridTravelers(m-1,n,memo)+gridTravelers(m,n-1,memo)\n",
    "    return memo[key]\n",
    "\n",
    "print(gridTravelers(1,1))\n",
    "print(gridTravelers(3,2))\n",
    "print(gridTravelers(3,3))\n",
    "print(gridTravelers(18,18))\n",
    "print(gridTravelers(100,100))\n",
    "    \n",
    "    "
   ]
  },
  {
   "cell_type": "code",
   "execution_count": 4,
   "metadata": {
    "vscode": {
     "languageId": "ruby"
    }
   },
   "outputs": [],
   "source": [
    "#Memo recipe\n",
    "# 1.Make it work \n",
    "        #- visualize the problem as a tree \n",
    "        #- implement the tree using recursion\n",
    "# 2.Make it efficient\n",
    "        #- add a memo object\n",
    "        #- add a base case to return memo values\n",
    "        #- store return values into the memo\n",
    "        \n",
    "\n"
   ]
  },
  {
   "cell_type": "code",
   "execution_count": 51,
   "metadata": {
    "vscode": {
     "languageId": "ruby"
    }
   },
   "outputs": [
    {
     "name": "stdout",
     "output_type": "stream",
     "text": [
      "True\n"
     ]
    }
   ],
   "source": [
    "#write functnio cansum(targetsum,numbers) ,return true if it is possible \n",
    "#we can re use numbers many as we can\n",
    "#Brute O(n^m)|O(m)  => memo  O(m*n)|O(m)\n",
    "def canSum(targetSum,numbers,memo={}):\n",
    "    if targetSum in memo:\n",
    "        return memo[targetSum]\n",
    "\n",
    "    if targetSum==0:\n",
    "        return True\n",
    "    if targetSum<0:\n",
    "        return False\n",
    "    for num in numbers:\n",
    "        remainder = targetSum-num\n",
    "        if canSum(remainder,numbers,memo):\n",
    "            memo[targetSum] = True\n",
    "            return True\n",
    "            \n",
    "    memo[targetSum] = False\n",
    "    return False\n",
    "\n",
    "print(canSum(7,[2,3,4]))\n",
    "# print(canSum(7,[2,3]))\n",
    "# print(canSum(7,[2,3,7]))\n",
    "# print(canSum(300,[7,14]))"
   ]
  },
  {
   "cell_type": "code",
   "execution_count": null,
   "metadata": {
    "vscode": {
     "languageId": "ruby"
    }
   },
   "outputs": [],
   "source": []
  }
 ],
 "metadata": {
  "kernelspec": {
   "display_name": "Python 3.9.13 64-bit",
   "language": "python",
   "name": "python3"
  },
  "language_info": {
   "codemirror_mode": {
    "name": "ipython",
    "version": 3
   },
   "file_extension": ".py",
   "mimetype": "text/x-python",
   "name": "python",
   "nbconvert_exporter": "python",
   "pygments_lexer": "ipython3",
   "version": "3.9.13"
  },
  "orig_nbformat": 4,
  "vscode": {
   "interpreter": {
    "hash": "b0fa6594d8f4cbf19f97940f81e996739fb7646882a419484c72d19e05852a7e"
   }
  }
 },
 "nbformat": 4,
 "nbformat_minor": 2
}
