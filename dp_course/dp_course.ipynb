{
 "cells": [
  {
   "cell_type": "code",
   "execution_count": 15,
   "metadata": {
    "vscode": {
     "languageId": "ruby"
    }
   },
   "outputs": [
    {
     "name": "stdout",
     "output_type": "stream",
     "text": [
      "3\n"
     ]
    }
   ],
   "source": [
    "\n",
    "def foo(n,memo={}):\n",
    "    if n in memo:\n",
    "        return memo[n]\n",
    "    if n<=2:\n",
    "        return 1\n",
    "    memo[n]= foo(n-1,memo)+foo(n-2,memo);\n",
    "    return memo[n]\n",
    "\n",
    "\n",
    "print(foo(4))"
   ]
  },
  {
   "cell_type": "code",
   "execution_count": 25,
   "metadata": {
    "collapsed": false,
    "pycharm": {
     "name": "#%%\n"
    },
    "vscode": {
     "languageId": "ruby"
    }
   },
   "outputs": [
    {
     "name": "stdout",
     "output_type": "stream",
     "text": [
      "1\n",
      "3\n",
      "6\n",
      "2333606220\n",
      "22750883079422934966181954039568885395604168260154104734000\n"
     ]
    }
   ],
   "source": [
    "def gridTravelers(m,n,memo={}):\n",
    "    key=str(m)+\",\"+str(n)\n",
    "    \n",
    "    if key in memo:\n",
    "        return memo[key]\n",
    "\n",
    "\n",
    "    if m==1 and n==1:\n",
    "        return 1\n",
    "    if m==0 or n==0:\n",
    "        return 0\n",
    "    memo[key]= gridTravelers(m-1,n,memo)+gridTravelers(m,n-1,memo)\n",
    "    return memo[key]\n",
    "\n",
    "print(gridTravelers(1,1))\n",
    "print(gridTravelers(3,2))\n",
    "print(gridTravelers(3,3))\n",
    "print(gridTravelers(18,18))\n",
    "print(gridTravelers(100,100))\n",
    "    \n",
    "    "
   ]
  },
  {
   "cell_type": "code",
   "execution_count": null,
   "metadata": {
    "vscode": {
     "languageId": "ruby"
    }
   },
   "outputs": [],
   "source": []
  }
 ],
 "metadata": {
  "kernelspec": {
   "display_name": "Python 3.9.13 64-bit",
   "language": "python",
   "name": "python3"
  },
  "language_info": {
   "codemirror_mode": {
    "name": "ipython",
    "version": 3
   },
   "file_extension": ".py",
   "mimetype": "text/x-python",
   "name": "python",
   "nbconvert_exporter": "python",
   "pygments_lexer": "ipython3",
   "version": "3.9.13"
  },
  "orig_nbformat": 4,
  "vscode": {
   "interpreter": {
    "hash": "b0fa6594d8f4cbf19f97940f81e996739fb7646882a419484c72d19e05852a7e"
   }
  }
 },
 "nbformat": 4,
 "nbformat_minor": 2
}
