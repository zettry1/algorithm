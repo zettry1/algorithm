{
 "cells": [
  {
   "cell_type": "code",
   "execution_count": 1,
   "metadata": {
    "vscode": {
     "languageId": "ruby"
    }
   },
   "outputs": [
    {
     "name": "stdout",
     "output_type": "stream",
     "text": [
      "Level order traversal: [[12], [7, 1], [9, 10, 5]]\n"
     ]
    }
   ],
   "source": [
    "#Breadth First search technique to traverse a tree.\n",
    "#any problem involving the traversal of a tree in a level-by-level order can be efficiently\n",
    "#solved using this approach. We all use a Queue to keep track of all the nof of a level before \n",
    "#we jump onto the next level. This also means that the space complexity of the algorithm will be O(W),\n",
    "#where W is the maximum number of nodes on any level.\n",
    "\n",
    "\n",
    "#Binary Tree level order Traversal (easy)\n",
    "\n",
    "\n",
    "from collections import deque\n",
    "\n",
    "class TreeNode:\n",
    "    def __init__(self,val):\n",
    "        self.val = val\n",
    "        self.left,self.right = None, None\n",
    "\n",
    "def traverse(root):\n",
    "    result = []\n",
    "    if root is None:\n",
    "        return result\n",
    "    queue = deque()\n",
    "    queue.append(root)\n",
    "    while queue:\n",
    "        levelZie = len(queue)\n",
    "        currLevel =[]\n",
    "        print('levelZie',levelZie)\n",
    "        for _ in range(levelZie):\n",
    "            currNode = queue.popleft()\n",
    "\n",
    "            currLevel.append(currNode.val)\n",
    "            if currNode.left:\n",
    "                queue.append(currNode.left)\n",
    "\n",
    "            if currNode.right:\n",
    "                queue.append(currNode.right)\n",
    "        result.append(currLevel)\n",
    "\n",
    "    return result\n",
    "\n",
    "root = TreeNode(12)\n",
    "root.left = TreeNode(7)\n",
    "root.right = TreeNode(1)\n",
    "root.left.left = TreeNode(9)\n",
    "root.right.left = TreeNode(10)\n",
    "root.right.right = TreeNode(5)\n",
    "print(\"Level order traversal: \" + str(traverse(root)))\n",
    "\n",
    "\n"
   ]
  }
 ],
 "metadata": {
  "interpreter": {
   "hash": "b0fa6594d8f4cbf19f97940f81e996739fb7646882a419484c72d19e05852a7e"
  },
  "kernelspec": {
   "display_name": "Python 3.9.10 64-bit",
   "language": "python",
   "name": "python3"
  },
  "language_info": {
   "codemirror_mode": {
    "name": "ipython",
    "version": 3
   },
   "file_extension": ".py",
   "mimetype": "text/x-python",
   "name": "python",
   "nbconvert_exporter": "python",
   "pygments_lexer": "ipython3",
   "version": "3.9.10"
  },
  "orig_nbformat": 4
 },
 "nbformat": 4,
 "nbformat_minor": 2
}
