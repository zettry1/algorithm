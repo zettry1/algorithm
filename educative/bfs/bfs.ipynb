{
 "cells": [
  {
   "cell_type": "code",
   "execution_count": 1,
   "metadata": {
    "vscode": {
     "languageId": "ruby"
    }
   },
   "outputs": [
    {
     "name": "stdout",
     "output_type": "stream",
     "text": [
      "Level order traversal: None\n"
     ]
    }
   ],
   "source": [
    "#Breadth First search technique to traverse a tree.\n",
    "#any problem involving the traversal of a tree in a level-by-level order can be efficiently\n",
    "#solved using this approach. We all use a Queue to keep track of all the nof of a level before \n",
    "#we jump onto the next level. This also means that the space complexity of the algorithm will be O(W),\n",
    "#where W is the maximum number of nodes on any level.\n",
    "\n",
    "\n",
    "#Binary Tree level order Traversal (easy)\n",
    "\n",
    "\n",
    "from collections import deque\n",
    "\n",
    "class TreeNode:\n",
    "    def __init__(self,val):\n",
    "        self.val = val\n",
    "        self.left,self.right = None, None\n",
    "\n",
    "def traverse(root):\n",
    "    result = []\n",
    "    if root is None:\n",
    "        return result\n",
    "    queue = deque()\n",
    "    queue.append(root)\n",
    "    while queue:\n",
    "        levelZie = len(queue)\n",
    "        currLevel =[]\n",
    "        \n",
    "        for _ in range(levelZie):\n",
    "            currNode = queue.popleft()\n",
    "\n",
    "            currLevel.append(currNode.val)\n",
    "            if currNode.left:\n",
    "                queue.append(currNode.left)\n",
    "\n",
    "            if currNode.right:\n",
    "                queue.append(currNode.right)\n",
    "        result.append(currLevel)\n",
    "\n",
    "        \n",
    "\n",
    "root = TreeNode(12)\n",
    "root.left = TreeNode(7)\n",
    "root.right = TreeNode(1)\n",
    "root.left.left = TreeNode(9)\n",
    "root.right.left = TreeNode(10)\n",
    "root.right.right = TreeNode(5)\n",
    "print(\"Level order traversal: \" + str(traverse(root)))\n",
    "\n",
    "\n"
   ]
  },
  {
   "cell_type": "code",
   "execution_count": 7,
   "metadata": {
    "vscode": {
     "languageId": "ruby"
    }
   },
   "outputs": [
    {
     "name": "stdout",
     "output_type": "stream",
     "text": [
      "Reverse level order traversal: deque([[9, 10, 5], [7, 1], [12]])\n"
     ]
    }
   ],
   "source": [
    "#reverse level order traversal easy\n",
    "\n",
    "from collections import deque\n",
    "\n",
    "class TreeNode:\n",
    "  def __init__(self, val):\n",
    "    self.val = val\n",
    "    self.left, self.right = None, None\n",
    "\n",
    "def traverse(root):\n",
    "    result = deque()\n",
    "    if root is None:\n",
    "        return result\n",
    "    queue = deque()\n",
    "    queue.append(root)\n",
    "    while queue:\n",
    "        level=[]\n",
    "        for _ in range(len(queue)):\n",
    "            curNode = queue.popleft()\n",
    "\n",
    "            level.append(curNode.val)\n",
    "            \n",
    "            if curNode.left:\n",
    "                queue.append(curNode.left)\n",
    "            if curNode.right:\n",
    "                queue.append(curNode.right)\n",
    "        result.appendleft(level)\n",
    "\n",
    "    return result\n",
    "\n",
    "\n",
    "\n",
    "root = TreeNode(12)\n",
    "root.left = TreeNode(7)\n",
    "root.right = TreeNode(1)\n",
    "root.left.left = TreeNode(9)\n",
    "root.right.left = TreeNode(10)\n",
    "root.right.right = TreeNode(5)\n",
    "print(\"Reverse level order traversal: \" + str(traverse(root)))\n",
    "\n",
    "\n"
   ]
  },
  {
   "cell_type": "code",
   "execution_count": 4,
   "metadata": {
    "vscode": {
     "languageId": "ruby"
    }
   },
   "outputs": [
    {
     "name": "stdout",
     "output_type": "stream",
     "text": [
      "Zigzag traversal: [[12], [1, 7], [9, 10, 5], [17, 20]]\n"
     ]
    }
   ],
   "source": [
    "from collections import deque\n",
    "\n",
    "class TreeNode:\n",
    "    def __init__(self,val):\n",
    "        self.val = val\n",
    "        self.left, self.right = None, None\n",
    "\n",
    "\n",
    "def traverse(root):\n",
    "    result=[]\n",
    "\n",
    "    if root is None:\n",
    "        return result\n",
    "\n",
    "    queue = deque()\n",
    "    queue.append(root)\n",
    "\n",
    "    leftToRight= True\n",
    "    while queue:\n",
    "        currentLevel=deque()\n",
    "\n",
    "        for _ in range(len(queue)):\n",
    "            curNode = queue.popleft()\n",
    "            # add the node to the current level based on the traverse direction\n",
    "            if leftToRight:\n",
    "                currentLevel.append(curNode.val)\n",
    "            else:\n",
    "                currentLevel.appendleft(curNode.val)\n",
    "\n",
    "            # insert the children of current node in the queue\n",
    "            if curNode.left:\n",
    "                queue.append(curNode.left)\n",
    "            if curNode.right:\n",
    "                queue.append(curNode.right)\n",
    "\n",
    "        result.append(list(currentLevel))\n",
    "        # reverse the traversal direction\n",
    "        leftToRight = not leftToRight\n",
    "        \n",
    "    return result\n",
    "\n",
    "\n",
    "root = TreeNode(12)\n",
    "root.left = TreeNode(7)\n",
    "root.right = TreeNode(1)\n",
    "root.left.left = TreeNode(9)\n",
    "root.right.left = TreeNode(10)\n",
    "root.right.right = TreeNode(5)\n",
    "root.right.left.left = TreeNode(20)\n",
    "root.right.left.right = TreeNode(17)\n",
    "print(\"Zigzag traversal: \" + str(traverse(root)))\n"
   ]
  },
  {
   "cell_type": "code",
   "execution_count": 10,
   "metadata": {
    "vscode": {
     "languageId": "ruby"
    }
   },
   "outputs": [
    {
     "name": "stdout",
     "output_type": "stream",
     "text": [
      "Level averages are: [12.0, 4.0, 6.5]\n"
     ]
    }
   ],
   "source": [
    "\n",
    "class TreeNode:\n",
    "  def __init__(self, val):\n",
    "    self.val = val\n",
    "    self.left, self.right = None, None\n",
    "\n",
    "\n",
    "def find_level_averages(root):\n",
    "    result = []\n",
    "    if root is None:\n",
    "        return result\n",
    "    queue = deque()\n",
    "    queue.append(root)\n",
    "\n",
    "    while queue:\n",
    "        levelSize = len(queue)\n",
    "        levelSum=0\n",
    "        for _ in range(len(queue)):\n",
    "            curNode = queue.popleft()\n",
    "            levelSum+=curNode.val\n",
    "            if curNode.left:\n",
    "                queue.append(curNode.left)\n",
    "            if curNode.right:\n",
    "                queue.append(curNode.right)\n",
    "        result.append(levelSum/levelSize)\n",
    "\n",
    "    return result\n",
    "\n",
    "\n",
    "\n",
    "root = TreeNode(12)\n",
    "root.left = TreeNode(7)\n",
    "root.right = TreeNode(1)\n",
    "root.left.left = TreeNode(9)\n",
    "root.left.right = TreeNode(2)\n",
    "root.right.left = TreeNode(10)\n",
    "root.right.right = TreeNode(5)\n",
    "print(\"Level averages are: \" + str(find_level_averages(root)))\n",
    "\n",
    "\n",
    "\n",
    "\n",
    "\n",
    "\n",
    "\n",
    "\n"
   ]
  },
  {
   "cell_type": "code",
   "execution_count": 14,
   "metadata": {
    "vscode": {
     "languageId": "ruby"
    }
   },
   "outputs": [
    {
     "name": "stdout",
     "output_type": "stream",
     "text": [
      "Tree Minimum Depth: 2\n",
      "Tree Minimum Depth: 3\n"
     ]
    }
   ],
   "source": [
    "class TreeNode:\n",
    "    def __init__(self,val):\n",
    "        self.val = val\n",
    "        self.left, self.right = None,None\n",
    "\n",
    "def find_minimum_depth(root):\n",
    "    minDepth=0\n",
    "    if root is None:\n",
    "        return minDepth\n",
    "    \n",
    "    queue = deque()\n",
    "    queue.append(root)\n",
    "\n",
    "    while queue:\n",
    "        minDepth+=1\n",
    "        for _ in range(len(queue)):\n",
    "            curNode = queue.popleft()\n",
    "            if not curNode.left and not curNode.right:\n",
    "                return minDepth\n",
    "            if curNode.left:\n",
    "                queue.append(curNode.left)\n",
    "            if curNode.right:\n",
    "                queue.append(curNode.right)\n",
    "\n",
    "\n",
    "    return minDepth\n",
    "        \n",
    "\n",
    "root = TreeNode(12)\n",
    "root.left = TreeNode(7)\n",
    "root.right = TreeNode(1)\n",
    "root.right.left = TreeNode(10)\n",
    "root.right.right = TreeNode(5)\n",
    "print(\"Tree Minimum Depth: \" + str(find_minimum_depth(root)))\n",
    "root.left.left = TreeNode(9)\n",
    "root.right.left.left = TreeNode(11)\n",
    "print(\"Tree Minimum Depth: \" + str(find_minimum_depth(root)))\n"
   ]
  },
  {
   "cell_type": "code",
   "execution_count": 24,
   "metadata": {
    "vscode": {
     "languageId": "ruby"
    }
   },
   "outputs": [
    {
     "name": "stdout",
     "output_type": "stream",
     "text": [
      "1\n",
      "2\n",
      "3\n",
      "4\n",
      "12\n",
      "7\n",
      "1\n",
      "9\n",
      "10\n",
      "12\n",
      "7\n"
     ]
    }
   ],
   "source": [
    "class TreeNode:\n",
    "    def __init__(self,val):\n",
    "        self.val = val\n",
    "        self.left, self.right = None, None\n",
    "\n",
    "def find_successor(root,key):\n",
    "\n",
    "    if root is None:\n",
    "        return None\n",
    "    queue = deque()\n",
    "    queue.append(root)\n",
    "    \n",
    "    while queue:\n",
    "        \n",
    "        curNode = queue.popleft()\n",
    "        print(curNode.val)\n",
    "        if curNode.left:\n",
    "            queue.append(curNode.left)\n",
    "        if curNode.right:\n",
    "                queue.append(curNode.right)\n",
    "        if curNode.val==key:\n",
    "            break\n",
    "\n",
    "    return queue[0] if queue else None\n",
    "\n",
    "                \n",
    "root = TreeNode(1);\n",
    "root.left = TreeNode(2);\n",
    "root.right = TreeNode(3);\n",
    "root.left.left = TreeNode(4);\n",
    "root.left.right = TreeNode(5);\n",
    "\n",
    "result = find_successor(root, 3)\n",
    "if result:\n",
    "    print(result.val)\n",
    "\n",
    "root = TreeNode(12)\n",
    "root.left = TreeNode(7)\n",
    "root.right = TreeNode(1)\n",
    "root.left.left = TreeNode(9)\n",
    "root.right.left = TreeNode(10)\n",
    "root.right.right = TreeNode(5)\n",
    "\n",
    "result = find_successor(root, 9)\n",
    "if result:\n",
    "    print(result.val)\n",
    "\n",
    "result = find_successor(root, 12)\n",
    "if result:\n",
    "    print(result.val)\n"
   ]
  },
  {
   "cell_type": "code",
   "execution_count": 31,
   "metadata": {
    "vscode": {
     "languageId": "ruby"
    }
   },
   "outputs": [
    {
     "name": "stdout",
     "output_type": "stream",
     "text": [
      "Level order traversal using 'next' pointer: \n",
      "12 \n",
      "7 1 \n",
      "9 10 5 \n"
     ]
    }
   ],
   "source": [
    "from __future__ import print_function\n",
    "from collections import deque\n",
    "\n",
    "\n",
    "class TreeNode:\n",
    "  def __init__(self, val):\n",
    "    self.val = val\n",
    "    self.left, self.right, self.next = None, None, None\n",
    "\n",
    "  # level order traversal using 'next' pointer\n",
    "  def print_level_order(self):\n",
    "    nextLevelRoot = self\n",
    "    while nextLevelRoot:\n",
    "      current = nextLevelRoot\n",
    "      nextLevelRoot = None\n",
    "      while current:\n",
    "        print(str(current.val) + \" \", end='')\n",
    "        if not nextLevelRoot:\n",
    "          if current.left:\n",
    "            nextLevelRoot = current.left\n",
    "          elif current.right:\n",
    "            nextLevelRoot = current.right\n",
    "        current = current.next\n",
    "      print()\n",
    "\n",
    "\n",
    "def connect_level_order_siblings(root):\n",
    "    if root is None:\n",
    "        return None\n",
    "    queue = deque()\n",
    "    queue.append(root)\n",
    "    while queue:\n",
    "        prevNode=None\n",
    "\n",
    "        for _ in range(len(queue)):\n",
    "            curNode = queue.popleft()\n",
    "            if prevNode:\n",
    "                prevNode.next = curNode\n",
    "            prevNode = curNode\n",
    "            if curNode.left:\n",
    "                queue.append(curNode.left)\n",
    "            if curNode.right:\n",
    "                queue.append(curNode.right)\n",
    "        \n",
    "\n",
    "root = TreeNode(12)\n",
    "root.left = TreeNode(7)\n",
    "root.right = TreeNode(1)\n",
    "root.left.left = TreeNode(9)\n",
    "root.right.left = TreeNode(10)\n",
    "root.right.right = TreeNode(5)\n",
    "connect_level_order_siblings(root)\n",
    "\n",
    "print(\"Level order traversal using 'next' pointer: \")\n",
    "root.print_level_order()\n",
    "\n"
   ]
  },
  {
   "cell_type": "code",
   "execution_count": 34,
   "metadata": {
    "vscode": {
     "languageId": "ruby"
    }
   },
   "outputs": [
    {
     "name": "stdout",
     "output_type": "stream",
     "text": [
      "12\n",
      "7\n",
      "1\n",
      "9\n",
      "10\n",
      "5\n",
      "Traversal using 'next' pointer: 12 "
     ]
    }
   ],
   "source": [
    "#Problem challenge 1 \n",
    "#connect all level order siblings medium\n",
    "\n",
    "from __future__ import print_function\n",
    "from collections import deque\n",
    "\n",
    "\n",
    "class TreeNode:\n",
    "  def __init__(self, val):\n",
    "    self.val = val\n",
    "    self.left, self.right, self.next = None, None, None\n",
    "\n",
    "  # tree traversal using 'next' pointer\n",
    "  def print_tree(self):\n",
    "    print(\"Traversal using 'next' pointer: \", end='')\n",
    "    current = self\n",
    "    while current:\n",
    "      print(str(current.val) + \" \", end='')\n",
    "      current = current.next\n",
    "\n",
    "\n",
    "def connect_all_siblings(root):\n",
    "    if root is None:\n",
    "        return None\n",
    "    queue = deque()\n",
    "    queue.append(root)\n",
    "    prevNode=None\n",
    "    while queue:\n",
    "        \n",
    "        curNode = queue.popleft()\n",
    "        if prevNode:\n",
    "            prevNode.next = curNode\n",
    "        prevNode = curNode\n",
    "        if curNode.left:\n",
    "            queue.append(curNode.left)\n",
    "        if curNode.right:\n",
    "            queue.append(curNode.right)\n",
    "\n",
    "    return\n",
    "\n",
    "root = TreeNode(12)\n",
    "root.left = TreeNode(7)\n",
    "root.right = TreeNode(1)\n",
    "root.left.left = TreeNode(9)\n",
    "root.right.left = TreeNode(10)\n",
    "root.right.right = TreeNode(5)\n",
    "connect_all_siblings(root)\n",
    "root.print_tree()\n",
    "\n"
   ]
  }
 ],
 "metadata": {
  "interpreter": {
   "hash": "b0fa6594d8f4cbf19f97940f81e996739fb7646882a419484c72d19e05852a7e"
  },
  "kernelspec": {
   "display_name": "Python 3.9.10 64-bit",
   "language": "python",
   "name": "python3"
  },
  "language_info": {
   "codemirror_mode": {
    "name": "ipython",
    "version": 3
   },
   "file_extension": ".py",
   "mimetype": "text/x-python",
   "name": "python",
   "nbconvert_exporter": "python",
   "pygments_lexer": "ipython3",
   "version": "3.9.10"
  },
  "orig_nbformat": 4
 },
 "nbformat": 4,
 "nbformat_minor": 2
}
