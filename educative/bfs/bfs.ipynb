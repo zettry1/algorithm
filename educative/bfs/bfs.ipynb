{
 "cells": [
  {
   "cell_type": "code",
   "execution_count": 1,
   "metadata": {
    "vscode": {
     "languageId": "ruby"
    }
   },
   "outputs": [
    {
     "name": "stdout",
     "output_type": "stream",
     "text": [
      "Level order traversal: None\n"
     ]
    }
   ],
   "source": [
    "#Breadth First search technique to traverse a tree.\n",
    "#any problem involving the traversal of a tree in a level-by-level order can be efficiently\n",
    "#solved using this approach. We all use a Queue to keep track of all the nof of a level before \n",
    "#we jump onto the next level. This also means that the space complexity of the algorithm will be O(W),\n",
    "#where W is the maximum number of nodes on any level.\n",
    "\n",
    "\n",
    "#Binary Tree level order Traversal (easy)\n",
    "\n",
    "\n",
    "from collections import deque\n",
    "\n",
    "class TreeNode:\n",
    "    def __init__(self,val):\n",
    "        self.val = val\n",
    "        self.left,self.right = None, None\n",
    "\n",
    "def traverse(root):\n",
    "    result = []\n",
    "    if root is None:\n",
    "        return result\n",
    "    queue = deque()\n",
    "    queue.append(root)\n",
    "    while queue:\n",
    "        levelZie = len(queue)\n",
    "        currLevel =[]\n",
    "        \n",
    "        for _ in range(levelZie):\n",
    "            currNode = queue.popleft()\n",
    "\n",
    "            currLevel.append(currNode.val)\n",
    "            if currNode.left:\n",
    "                queue.append(currNode.left)\n",
    "\n",
    "            if currNode.right:\n",
    "                queue.append(currNode.right)\n",
    "        result.append(currLevel)\n",
    "\n",
    "        \n",
    "\n",
    "root = TreeNode(12)\n",
    "root.left = TreeNode(7)\n",
    "root.right = TreeNode(1)\n",
    "root.left.left = TreeNode(9)\n",
    "root.right.left = TreeNode(10)\n",
    "root.right.right = TreeNode(5)\n",
    "print(\"Level order traversal: \" + str(traverse(root)))\n",
    "\n",
    "\n"
   ]
  },
  {
   "cell_type": "code",
   "execution_count": 7,
   "metadata": {
    "vscode": {
     "languageId": "ruby"
    }
   },
   "outputs": [
    {
     "name": "stdout",
     "output_type": "stream",
     "text": [
      "Reverse level order traversal: deque([[9, 10, 5], [7, 1], [12]])\n"
     ]
    }
   ],
   "source": [
    "#reverse level order traversal easy\n",
    "\n",
    "from collections import deque\n",
    "\n",
    "class TreeNode:\n",
    "  def __init__(self, val):\n",
    "    self.val = val\n",
    "    self.left, self.right = None, None\n",
    "\n",
    "def traverse(root):\n",
    "    result = deque()\n",
    "    if root is None:\n",
    "        return result\n",
    "    queue = deque()\n",
    "    queue.append(root)\n",
    "    while queue:\n",
    "        level=[]\n",
    "        for _ in range(len(queue)):\n",
    "            curNode = queue.popleft()\n",
    "\n",
    "            level.append(curNode.val)\n",
    "            \n",
    "            if curNode.left:\n",
    "                queue.append(curNode.left)\n",
    "            if curNode.right:\n",
    "                queue.append(curNode.right)\n",
    "        result.appendleft(level)\n",
    "\n",
    "    return result\n",
    "\n",
    "\n",
    "\n",
    "root = TreeNode(12)\n",
    "root.left = TreeNode(7)\n",
    "root.right = TreeNode(1)\n",
    "root.left.left = TreeNode(9)\n",
    "root.right.left = TreeNode(10)\n",
    "root.right.right = TreeNode(5)\n",
    "print(\"Reverse level order traversal: \" + str(traverse(root)))\n",
    "\n",
    "\n"
   ]
  },
  {
   "cell_type": "code",
   "execution_count": 3,
   "metadata": {
    "vscode": {
     "languageId": "ruby"
    }
   },
   "outputs": [
    {
     "ename": "NameError",
     "evalue": "name 'true' is not defined",
     "output_type": "error",
     "traceback": [
      "\u001b[0;31m---------------------------------------------------------------------------\u001b[0m",
      "\u001b[0;31mNameError\u001b[0m                                 Traceback (most recent call last)",
      "\u001b[1;32m/Users/orgilbatbatsaikhan/my_docs/my_git/algorithm/educative/bfs/bfs.ipynb Cell 3'\u001b[0m in \u001b[0;36m<cell line: 51>\u001b[0;34m()\u001b[0m\n\u001b[1;32m     <a href='vscode-notebook-cell:/Users/orgilbatbatsaikhan/my_docs/my_git/algorithm/educative/bfs/bfs.ipynb#ch0000002?line=48'>49</a>\u001b[0m root\u001b[39m.\u001b[39mright\u001b[39m.\u001b[39mleft\u001b[39m.\u001b[39mleft \u001b[39m=\u001b[39m TreeNode(\u001b[39m20\u001b[39m)\n\u001b[1;32m     <a href='vscode-notebook-cell:/Users/orgilbatbatsaikhan/my_docs/my_git/algorithm/educative/bfs/bfs.ipynb#ch0000002?line=49'>50</a>\u001b[0m root\u001b[39m.\u001b[39mright\u001b[39m.\u001b[39mleft\u001b[39m.\u001b[39mright \u001b[39m=\u001b[39m TreeNode(\u001b[39m17\u001b[39m)\n\u001b[0;32m---> <a href='vscode-notebook-cell:/Users/orgilbatbatsaikhan/my_docs/my_git/algorithm/educative/bfs/bfs.ipynb#ch0000002?line=50'>51</a>\u001b[0m \u001b[39mprint\u001b[39m(\u001b[39m\"\u001b[39m\u001b[39mZigzag traversal: \u001b[39m\u001b[39m\"\u001b[39m \u001b[39m+\u001b[39m \u001b[39mstr\u001b[39m(traverse(root)))\n",
      "\u001b[1;32m/Users/orgilbatbatsaikhan/my_docs/my_git/algorithm/educative/bfs/bfs.ipynb Cell 3'\u001b[0m in \u001b[0;36mtraverse\u001b[0;34m(root)\u001b[0m\n\u001b[1;32m     <a href='vscode-notebook-cell:/Users/orgilbatbatsaikhan/my_docs/my_git/algorithm/educative/bfs/bfs.ipynb#ch0000002?line=14'>15</a>\u001b[0m queue \u001b[39m=\u001b[39m deque()\n\u001b[1;32m     <a href='vscode-notebook-cell:/Users/orgilbatbatsaikhan/my_docs/my_git/algorithm/educative/bfs/bfs.ipynb#ch0000002?line=15'>16</a>\u001b[0m queue\u001b[39m.\u001b[39mappend(root)\n\u001b[0;32m---> <a href='vscode-notebook-cell:/Users/orgilbatbatsaikhan/my_docs/my_git/algorithm/educative/bfs/bfs.ipynb#ch0000002?line=17'>18</a>\u001b[0m leftToRight\u001b[39m=\u001b[39mtrue\n\u001b[1;32m     <a href='vscode-notebook-cell:/Users/orgilbatbatsaikhan/my_docs/my_git/algorithm/educative/bfs/bfs.ipynb#ch0000002?line=18'>19</a>\u001b[0m \u001b[39mwhile\u001b[39;00m queue:\n\u001b[1;32m     <a href='vscode-notebook-cell:/Users/orgilbatbatsaikhan/my_docs/my_git/algorithm/educative/bfs/bfs.ipynb#ch0000002?line=19'>20</a>\u001b[0m     currentLevel\u001b[39m=\u001b[39mdeque()\n",
      "\u001b[0;31mNameError\u001b[0m: name 'true' is not defined"
     ]
    }
   ],
   "source": [
    "from collections import deque\n",
    "\n",
    "class TreeNode:\n",
    "    def __init__(self,val):\n",
    "        self.val = val\n",
    "        self.left, self.right = None, None\n",
    "\n",
    "\n",
    "def traverse(root):\n",
    "    result=[]\n",
    "\n",
    "    if root is None:\n",
    "        return result\n",
    "\n",
    "    queue = deque()\n",
    "    queue.append(root)\n",
    "\n",
    "    leftToRight=True\n",
    "    while queue:\n",
    "        currentLevel=deque()\n",
    "\n",
    "        for _ in range(len(queue)):\n",
    "            curNode = queue.popleft()\n",
    "            # add the node to the current level based on the traverse direction\n",
    "            if leftToRight:\n",
    "                currentLevel.append(curNode.val)\n",
    "            else:\n",
    "                currentLevel.appendleft(curNode.val)\n",
    "\n",
    "            # insert the children of current node in the queue\n",
    "            if curNode.left:\n",
    "                queue.append(curNode.left)\n",
    "            if curNode.right:\n",
    "                queue.append(curNode.right)\n",
    "\n",
    "        result.append(list(currentLevel))\n",
    "        # reverse the traversal direction\n",
    "        leftToRight = not leftToRight\n",
    "        \n",
    "    return result\n",
    "\n",
    "\n",
    "root = TreeNode(12)\n",
    "root.left = TreeNode(7)\n",
    "root.right = TreeNode(1)\n",
    "root.left.left = TreeNode(9)\n",
    "root.right.left = TreeNode(10)\n",
    "root.right.right = TreeNode(5)\n",
    "root.right.left.left = TreeNode(20)\n",
    "root.right.left.right = TreeNode(17)\n",
    "print(\"Zigzag traversal: \" + str(traverse(root)))\n"
   ]
  },
  {
   "cell_type": "code",
   "execution_count": null,
   "metadata": {
    "vscode": {
     "languageId": "ruby"
    }
   },
   "outputs": [],
   "source": []
  }
 ],
 "metadata": {
  "interpreter": {
   "hash": "b0fa6594d8f4cbf19f97940f81e996739fb7646882a419484c72d19e05852a7e"
  },
  "kernelspec": {
   "display_name": "Python 3.9.10 64-bit",
   "language": "python",
   "name": "python3"
  },
  "language_info": {
   "codemirror_mode": {
    "name": "ipython",
    "version": 3
   },
   "file_extension": ".py",
   "mimetype": "text/x-python",
   "name": "python",
   "nbconvert_exporter": "python",
   "pygments_lexer": "ipython3",
   "version": "3.9.10"
  },
  "orig_nbformat": 4
 },
 "nbformat": 4,
 "nbformat_minor": 2
}
