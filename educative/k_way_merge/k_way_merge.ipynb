{
 "cells": [
  {
   "cell_type": "code",
   "execution_count": 1,
   "metadata": {
    "vscode": {
     "languageId": "ruby"
    }
   },
   "outputs": [],
   "source": [
    "# Introduction\n",
    "# This pattern helps us solve problems that involve a list of sorted arrays.\n",
    "\n",
    "\n",
    "# Whenever we are given ‘K’ sorted arrays, we can use a Heap to efficiently perform \n",
    "# a sorted traversal of all the elements of all arrays. We can push the smallest (first) element \n",
    "# of each sorted array in a Min Heap to get the overall minimum. While inserting elements to the Min \n",
    "# Heap we keep track of which array the element came from. We can, then, remove the top element from the \n",
    "# heap to get the smallest element and push the next element from the same array, to which this smallest \n",
    "# element belonged, to the heap. We can repeat this process to make a sorted traversal of all elements.\n",
    "\n"
   ]
  },
  {
   "cell_type": "code",
   "execution_count": 4,
   "metadata": {
    "vscode": {
     "languageId": "ruby"
    }
   },
   "outputs": [
    {
     "name": "stdout",
     "output_type": "stream",
     "text": [
      "Here are the elements form the merged list: 1 2 3 3 4 6 6 7 8 "
     ]
    }
   ],
   "source": [
    "from __future__ import print_function\n",
    "from heapq import *\n",
    "\n",
    "\n",
    "class ListNode:\n",
    "  def __init__(self, value):\n",
    "    self.value = value\n",
    "    self.next = None\n",
    "\n",
    "  # used for the min-heap\n",
    "  def __lt__(self, other):\n",
    "    return self.value < other.value\n",
    "\n",
    "\n",
    "def merge_lists(lists):\n",
    "  minHeap = []\n",
    "\n",
    "  # put the root of each list in the min heap\n",
    "  for root in lists:\n",
    "    if root is not None:\n",
    "      heappush(minHeap, root)\n",
    "\n",
    "  # take the smallest(top) element form the min-heap and add it to the result\n",
    "  # if the top element has a next element add it to the heap\n",
    "  resultHead, resultTail = None, None\n",
    "  while minHeap:\n",
    "    node = heappop(minHeap)\n",
    "    if resultHead is None:\n",
    "      resultHead = resultTail = node\n",
    "    else:\n",
    "      resultTail.next = node\n",
    "      resultTail = resultTail.next\n",
    "\n",
    "    if node.next is not None:\n",
    "      heappush(minHeap, node.next)\n",
    "\n",
    "  return resultHead\n",
    "\n",
    "\n",
    "l1 = ListNode(2)\n",
    "l1.next = ListNode(6)\n",
    "l1.next.next = ListNode(8)\n",
    "\n",
    "l2 = ListNode(3)\n",
    "l2.next = ListNode(6)\n",
    "l2.next.next = ListNode(7)\n",
    "\n",
    "l3 = ListNode(1)\n",
    "l3.next = ListNode(3)\n",
    "l3.next.next = ListNode(4)\n",
    "\n",
    "result = merge_lists([l1, l2, l3])\n",
    "print(\"Here are the elements form the merged list: \", end='')\n",
    "while result is not None:\n",
    "    print(str(result.value) + \" \", end='')\n",
    "    result = result.next\n"
   ]
  }
 ],
 "metadata": {
  "interpreter": {
   "hash": "b0fa6594d8f4cbf19f97940f81e996739fb7646882a419484c72d19e05852a7e"
  },
  "kernelspec": {
   "display_name": "Python 3.9.10 64-bit",
   "language": "python",
   "name": "python3"
  },
  "language_info": {
   "codemirror_mode": {
    "name": "ipython",
    "version": 3
   },
   "file_extension": ".py",
   "mimetype": "text/x-python",
   "name": "python",
   "nbconvert_exporter": "python",
   "pygments_lexer": "ipython3",
   "version": "3.9.13"
  },
  "orig_nbformat": 4
 },
 "nbformat": 4,
 "nbformat_minor": 2
}
