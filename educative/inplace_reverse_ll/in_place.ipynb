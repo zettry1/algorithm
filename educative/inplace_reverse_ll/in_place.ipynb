{
 "cells": [
  {
   "cell_type": "code",
   "execution_count": 3,
   "metadata": {
    "vscode": {
     "languageId": "ruby"
    }
   },
   "outputs": [
    {
     "name": "stdout",
     "output_type": "stream",
     "text": [
      "Nodes of original LinkedList are: 2 4 6 8 10 \n",
      "Nodes of reversed LinkedList are: 10 8 6 4 2 \n"
     ]
    }
   ],
   "source": [
    "# Revese linked list \n",
    "\n",
    "from __future__ import print_function\n",
    "\n",
    "\n",
    "class Node:\n",
    "  def __init__(self, value, next=None):\n",
    "    self.value = value\n",
    "    self.next = next\n",
    "\n",
    "  def print_list(self):\n",
    "    temp = self\n",
    "    while temp is not None:\n",
    "      print(temp.value, end=\" \")\n",
    "      temp = temp.next\n",
    "    print()\n",
    "\n",
    "\n",
    "def reverse(head):\n",
    "  prev=None\n",
    "  while(head):\n",
    "    next = head.next\n",
    "    head.next = prev\n",
    "    prev = head \n",
    "    head = next\n",
    "  return prev\n",
    "\n",
    "\n",
    "head = Node(2)\n",
    "head.next = Node(4)\n",
    "head.next.next = Node(6)\n",
    "head.next.next.next = Node(8)\n",
    "head.next.next.next.next = Node(10)\n",
    "\n",
    "print(\"Nodes of original LinkedList are: \", end='')\n",
    "head.print_list()\n",
    "result = reverse(head)\n",
    "print(\"Nodes of reversed LinkedList are: \", end='')\n",
    "result.print_list()\n"
   ]
  },
  {
   "cell_type": "code",
   "execution_count": null,
   "metadata": {
    "vscode": {
     "languageId": "ruby"
    }
   },
   "outputs": [],
   "source": [
    "#Reverse sub- list medium\n",
    "\n",
    "from __future__ import print_function\n",
    "\n",
    "\n",
    "class Node:\n",
    "  def __init__(self, value, next=None):\n",
    "    self.value = value\n",
    "    self.next = next\n",
    "\n",
    "  def print_list(self):\n",
    "    temp = self\n",
    "    while temp is not None:\n",
    "      print(temp.value, end=\" \")\n",
    "      temp = temp.next\n",
    "    print()\n",
    "\n",
    "\n",
    "def reverse_sub_list(head, p, q):\n",
    "  if p == q:\n",
    "    return head\n",
    "\n",
    "  # after skipping 'p-1' nodes, current will point to 'p'th node\n",
    "  current, previous = head, None\n",
    "  i = 0\n",
    "  while current is not None and i < p - 1:\n",
    "    previous = current\n",
    "    current = current.next\n",
    "    i += 1\n",
    "\n",
    "  # we are interested in three parts of the LinkedList, the part before index 'p',\n",
    "  # the part between 'p' and 'q', and the part after index 'q'\n",
    "  last_node_of_first_part = previous\n",
    "  # after reversing the LinkedList 'current' will become the last node of the sub-list\n",
    "  last_node_of_sub_list = current\n",
    "  next = None  # will be used to temporarily store the next node\n",
    "\n",
    "  i = 0\n",
    "  # reverse nodes between 'p' and 'q'\n",
    "  while current is not None and i < q - p + 1:\n",
    "    next = current.next\n",
    "    current.next = previous\n",
    "    previous = current\n",
    "    current = next\n",
    "    i += 1\n",
    "\n",
    "  # connect with the first part\n",
    "  if last_node_of_first_part is not None:\n",
    "    # 'previous' is now the first node of the sub-list\n",
    "    last_node_of_first_part.next = previous\n",
    "  # this means p == 1 i.e., we are changing the first node (head) of the LinkedList\n",
    "  else:\n",
    "    head = previous\n",
    "\n",
    "  # connect with the last part\n",
    "  last_node_of_sub_list.next = current\n",
    "  return head\n",
    "\n",
    "\n",
    "head = Node(1)\n",
    "head.next = Node(2)\n",
    "head.next.next = Node(3)\n",
    "head.next.next.next = Node(4)\n",
    "head.next.next.next.next = Node(5)\n",
    "\n",
    "print(\"Nodes of original LinkedList are: \", end='')\n",
    "head.print_list()\n",
    "result = reverse_sub_list(head, 2, 4)\n",
    "print(\"Nodes of reversed LinkedList are: \", end='')\n",
    "result.print_list()\n"
   ]
  }
 ],
 "metadata": {
  "interpreter": {
   "hash": "31f2aee4e71d21fbe5cf8b01ff0e069b9275f58929596ceb00d14d90e3e16cd6"
  },
  "kernelspec": {
   "display_name": "Python 3.8.9 64-bit",
   "language": "python",
   "name": "python3"
  },
  "language_info": {
   "codemirror_mode": {
    "name": "ipython",
    "version": 3
   },
   "file_extension": ".py",
   "mimetype": "text/x-python",
   "name": "python",
   "nbconvert_exporter": "python",
   "pygments_lexer": "ipython3",
   "version": "3.8.9"
  },
  "orig_nbformat": 4
 },
 "nbformat": 4,
 "nbformat_minor": 2
}
