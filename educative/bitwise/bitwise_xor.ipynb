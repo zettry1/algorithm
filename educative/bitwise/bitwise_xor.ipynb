{
 "cells": [
  {
   "cell_type": "code",
   "execution_count": 4,
   "metadata": {
    "vscode": {
     "languageId": "ruby"
    }
   },
   "outputs": [
    {
     "name": "stdout",
     "output_type": "stream",
     "text": [
      "6\n",
      "Missing number is:3\n"
     ]
    }
   ],
   "source": [
    "\n",
    "#Find missing number\n",
    "\n",
    "def find_missing_number(arr):\n",
    "    n = len(arr)+1\n",
    "    print(n)\n",
    "\n",
    "    x1=1\n",
    "    for i in range(2,n+1):\n",
    "        x1 = x1^i\n",
    "    \n",
    "    x2=arr[0]\n",
    "\n",
    "    for i in range(1,n-1):\n",
    "        x2 = x2^arr[i]\n",
    "    \n",
    "   \n",
    "    return x1^x2\n",
    "\n",
    "\n",
    "arr = [1, 5, 2, 6, 4] \n",
    "print('Missing number is:' + str(find_missing_number(arr)))\n",
    "\n",
    "\n",
    "\n",
    "\n"
   ]
  },
  {
   "cell_type": "code",
   "execution_count": 8,
   "metadata": {
    "vscode": {
     "languageId": "ruby"
    }
   },
   "outputs": [
    {
     "name": "stdout",
     "output_type": "stream",
     "text": [
      "4\n"
     ]
    }
   ],
   "source": [
    "def find_single_number(arr):\n",
    "  num = 0\n",
    "  for i in arr:\n",
    "      num ^= i\n",
    "  return num\n",
    "\n",
    "arr = [1, 4, 2, 1, 3, 2, 3]\n",
    "print(find_single_number(arr))\n"
   ]
  },
  {
   "cell_type": "code",
   "execution_count": 10,
   "metadata": {
    "vscode": {
     "languageId": "ruby"
    }
   },
   "outputs": [
    {
     "name": "stdout",
     "output_type": "stream",
     "text": [
      "Single numbers are:[6, 4]\n",
      "Single numbers are:[3, 1]\n"
     ]
    }
   ],
   "source": [
    "def find_single_numbers(nums):\n",
    "    # get the XOR of the all the numbers\n",
    "    n1xn2 = 0\n",
    "    for num in nums:\n",
    "        n1xn2 ^= num\n",
    "\n",
    "    # get the rightmost bit that is '1'\n",
    "    rightmost_set_bit = 1\n",
    "    while (rightmost_set_bit & n1xn2) == 0:\n",
    "        rightmost_set_bit = rightmost_set_bit << 1\n",
    "    num1, num2 = 0, 0\n",
    "\n",
    "    for num in nums:\n",
    "        if (num & rightmost_set_bit) != 0:  # the bit is set\n",
    "            num1 ^= num\n",
    "        else:  # the bit is not set\n",
    "            num2 ^= num\n",
    "\n",
    "    return [num1, num2]\n",
    "\n",
    "\n",
    "print('Single numbers are:' +\n",
    "        str(find_single_numbers([1, 4, 2, 1, 3, 5, 6, 2, 3, 5])))\n",
    "print('Single numbers are:' + str(find_single_numbers([2, 1, 3, 2])))\n",
    "\n"
   ]
  },
  {
   "cell_type": "code",
   "execution_count": 12,
   "metadata": {
    "vscode": {
     "languageId": "ruby"
    }
   },
   "outputs": [
    {
     "name": "stdout",
     "output_type": "stream",
     "text": [
      "Bitwise complement is: 7\n",
      "Bitwise complement is: 5\n"
     ]
    }
   ],
   "source": [
    "def calculate_bitwise_complement(num):\n",
    "  # count number of total bits in 'num'\n",
    "  bit_count, n = 0, num\n",
    "  while n > 0:\n",
    "    bit_count += 1\n",
    "    n = n >> 1\n",
    "\n",
    "  # for a number which is a complete power of '2' i.e., it can be written as pow(2, n), if we\n",
    "  # subtract '1' from such a number, we get a number which has 'n' least significant bits set to '1'.\n",
    "  # For example, '4' which is a complete power of '2', and '3' (which is one less than 4) has a binary\n",
    "  # representation of '11' i.e., it has '2' least significant bits set to '1'\n",
    "  all_bits_set = pow(2, bit_count) - 1\n",
    "\n",
    "  # from the solution description: complement = number ^ all_bits_set\n",
    "  return num ^ all_bits_set\n",
    "\n",
    "\n",
    "print('Bitwise complement is: ' + str(calculate_bitwise_complement(8)))\n",
    "print('Bitwise complement is: ' + str(calculate_bitwise_complement(10)))"
   ]
  },
  {
   "cell_type": "code",
   "execution_count": 13,
   "metadata": {
    "vscode": {
     "languageId": "ruby"
    }
   },
   "outputs": [
    {
     "name": "stdout",
     "output_type": "stream",
     "text": [
      "[[0, 1, 0], [0, 0, 0], [0, 0, 1]]\n",
      "[[1, 1, 0, 0], [0, 1, 1, 0], [0, 0, 0, 1], [1, 0, 1, 0]]\n"
     ]
    }
   ],
   "source": [
    "def flip_an_invert_image(matrix):\n",
    "  C = len(matrix)\n",
    "  for row in matrix:\n",
    "    for i in range((C+1)//2):\n",
    "      row[i], row[C - i - 1] = row[C - i - 1] ^ 1, row[i] ^ 1\n",
    "      \n",
    "  return matrix\n",
    "\n",
    "print(flip_an_invert_image([[1,0,1], [1,1,1], [0,1,1]]))\n",
    "print(flip_an_invert_image([[1,1,0,0],[1,0,0,1],[0,1,1,1],[1,0,1,0]]))\n"
   ]
  }
 ],
 "metadata": {
  "interpreter": {
   "hash": "b0fa6594d8f4cbf19f97940f81e996739fb7646882a419484c72d19e05852a7e"
  },
  "kernelspec": {
   "display_name": "Python 3.9.10 64-bit",
   "language": "python",
   "name": "python3"
  },
  "language_info": {
   "codemirror_mode": {
    "name": "ipython",
    "version": 3
   },
   "file_extension": ".py",
   "mimetype": "text/x-python",
   "name": "python",
   "nbconvert_exporter": "python",
   "pygments_lexer": "ipython3",
   "version": "3.9.13"
  },
  "orig_nbformat": 4
 },
 "nbformat": 4,
 "nbformat_minor": 2
}
