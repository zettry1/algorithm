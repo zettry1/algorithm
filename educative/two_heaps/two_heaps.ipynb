{
 "cells": [
  {
   "cell_type": "code",
   "execution_count": 1,
   "metadata": {
    "vscode": {
     "languageId": "ruby"
    }
   },
   "outputs": [],
   "source": [
    "#Introduction\n",
    "#In many problems, where we are given a set of elements such that we can divide them into two parts.\n",
    "# We are interested in knowing the smallest element in one part and the biggest \n",
    "#element in the other part. The Two Heaps pattern is an efficient approach to solve such problems.\n",
    "\n",
    "#As the name suggests, this pattern uses two Heaps; A Min Heap to find the smallest\n",
    "#element and a Max Heap to find the biggest element.\n",
    "\n",
    "\n",
    "\n"
   ]
  },
  {
   "cell_type": "code",
   "execution_count": 14,
   "metadata": {
    "vscode": {
     "languageId": "ruby"
    }
   },
   "outputs": [
    {
     "name": "stdout",
     "output_type": "stream",
     "text": [
      "The median is: 2.0\n",
      "The median is: 3.0\n",
      "The median is: 3.5\n"
     ]
    }
   ],
   "source": [
    "from heapq import *\n",
    "\n",
    "\n",
    "class MedianOfAStream:\n",
    "\n",
    "  maxHeap = []  # containing first half of numbers\n",
    "  minHeap = []  # containing second half of numbers\n",
    "\n",
    "  def insert_num(self, num):\n",
    "    if not self.maxHeap or -self.maxHeap[0] >= num:\n",
    "      heappush(self.maxHeap, -num)\n",
    "    else:\n",
    "      heappush(self.minHeap, num)\n",
    "\n",
    "    # either both the heaps will have equal number of elements or max-heap will have one\n",
    "    # more element than the min-heap\n",
    "    if len(self.maxHeap) > len(self.minHeap) + 1:\n",
    "      heappush(self.minHeap, -heappop(self.maxHeap))\n",
    "    elif len(self.maxHeap) < len(self.minHeap):\n",
    "      heappush(self.maxHeap, -heappop(self.minHeap))\n",
    "\n",
    "  def find_median(self):\n",
    "    if len(self.maxHeap) == len(self.minHeap):\n",
    "      # we have even number of elements, take the average of middle two elements\n",
    "      return (-self.maxHeap[0]  + self.minHeap[0]) / 2.0\n",
    "\n",
    "    # because max-heap will have one more element than the min-heap\n",
    "    return -self.maxHeap[0] /1.0\n",
    "\n",
    "\n",
    "medianOfAStream = MedianOfAStream()\n",
    "medianOfAStream.insert_num(3)\n",
    "medianOfAStream.insert_num(1)\n",
    "print(\"The median is: \" + str(medianOfAStream.find_median()))\n",
    "medianOfAStream.insert_num(5)\n",
    "print(\"The median is: \" + str(medianOfAStream.find_median()))\n",
    "medianOfAStream.insert_num(4)\n",
    "print(\"The median is: \" + str(medianOfAStream.find_median()))\n"
   ]
  },
  {
   "cell_type": "code",
   "execution_count": 28,
   "metadata": {
    "vscode": {
     "languageId": "ruby"
    }
   },
   "outputs": [
    {
     "name": "stdout",
     "output_type": "stream",
     "text": [
      "Sliding window medians are: [1.5, 0.5, 1.0, 4.0]\n"
     ]
    },
    {
     "ename": "NameError",
     "evalue": "name 'heapq' is not defined",
     "output_type": "error",
     "traceback": [
      "\u001b[0;31m---------------------------------------------------------------------------\u001b[0m",
      "\u001b[0;31mNameError\u001b[0m                                 Traceback (most recent call last)",
      "Input \u001b[0;32mIn [28]\u001b[0m, in \u001b[0;36m<cell line: 59>\u001b[0;34m()\u001b[0m\n\u001b[1;32m     56\u001b[0m \u001b[39mprint\u001b[39m(\u001b[39m\"\u001b[39m\u001b[39mSliding window medians are: \u001b[39m\u001b[39m\"\u001b[39m \u001b[39m+\u001b[39m \u001b[39mstr\u001b[39m(result))\n\u001b[1;32m     58\u001b[0m slidingWindowMedian \u001b[39m=\u001b[39m SlidingWindowMedian()\n\u001b[0;32m---> 59\u001b[0m result \u001b[39m=\u001b[39m slidingWindowMedian\u001b[39m.\u001b[39;49mfind_sliding_window_median(\n\u001b[1;32m     60\u001b[0m [\u001b[39m1\u001b[39;49m, \u001b[39m2\u001b[39;49m, \u001b[39m-\u001b[39;49m\u001b[39m1\u001b[39;49m, \u001b[39m3\u001b[39;49m, \u001b[39m5\u001b[39;49m], \u001b[39m3\u001b[39;49m)\n\u001b[1;32m     61\u001b[0m \u001b[39mprint\u001b[39m(\u001b[39m\"\u001b[39m\u001b[39mSliding window medians are: \u001b[39m\u001b[39m\"\u001b[39m \u001b[39m+\u001b[39m \u001b[39mstr\u001b[39m(result))\n",
      "Input \u001b[0;32mIn [28]\u001b[0m, in \u001b[0;36mSlidingWindowMedian.find_sliding_window_median\u001b[0;34m(self, nums, k)\u001b[0m\n\u001b[1;32m     26\u001b[0m elementToBeRemoved\u001b[39m=\u001b[39mnums[i\u001b[39m-\u001b[39mk\u001b[39m+\u001b[39m\u001b[39m1\u001b[39m]\n\u001b[1;32m     27\u001b[0m \u001b[39mif\u001b[39;00m elementToBeRemoved \u001b[39m<\u001b[39m\u001b[39m=\u001b[39m \u001b[39m-\u001b[39m\u001b[39mself\u001b[39m\u001b[39m.\u001b[39mmaxHeap[\u001b[39m0\u001b[39m]:\n\u001b[0;32m---> 28\u001b[0m     \u001b[39mself\u001b[39;49m\u001b[39m.\u001b[39;49mremove(\u001b[39mself\u001b[39;49m\u001b[39m.\u001b[39;49mmaxHeap,\u001b[39m-\u001b[39;49melementToBeRemoved)\n\u001b[1;32m     29\u001b[0m \u001b[39melse\u001b[39;00m:\n\u001b[1;32m     30\u001b[0m     \u001b[39mself\u001b[39m\u001b[39m.\u001b[39mremove(\u001b[39mself\u001b[39m\u001b[39m.\u001b[39mminHeap,elementToBeRemoved)\n",
      "Input \u001b[0;32mIn [28]\u001b[0m, in \u001b[0;36mSlidingWindowMedian.remove\u001b[0;34m(self, heap, element)\u001b[0m\n\u001b[1;32m     39\u001b[0m \u001b[39mdel\u001b[39;00m heap[\u001b[39m-\u001b[39m\u001b[39m1\u001b[39m]\n\u001b[1;32m     41\u001b[0m \u001b[39mif\u001b[39;00m ind \u001b[39m<\u001b[39m \u001b[39mlen\u001b[39m(heap):\n\u001b[0;32m---> 42\u001b[0m     heapq\u001b[39m.\u001b[39m_siftup(heap,ind)\n\u001b[1;32m     43\u001b[0m     heapq\u001b[39m.\u001b[39m_siftdown(heap,\u001b[39m0\u001b[39m,ind)\n",
      "\u001b[0;31mNameError\u001b[0m: name 'heapq' is not defined"
     ]
    }
   ],
   "source": [
    "from heapq import * \n",
    "import heapq\n",
    "class SlidingWindowMedian:\n",
    "    def __init__(self):\n",
    "        self.maxHeap,self.minHeap = [],[]\n",
    "\n",
    "    def find_sliding_window_median(self,nums,k):\n",
    "        result=[0.0 for x in range(len(nums)-k+1)]\n",
    "        \n",
    "        for i in range(0,len(nums)):\n",
    "            if not self.maxHeap or nums[i]<=-self.maxHeap[0]:\n",
    "                heappush(self.maxHeap,-nums[i])\n",
    "            else:\n",
    "                heappush(self.minHeap,nums[i])\n",
    "            \n",
    "            self.rebalance()\n",
    "\n",
    "            if i-k+1>=0:\n",
    "\n",
    "                if len(self.maxHeap) == len(self.minHeap):\n",
    "                    result[i-k+1] = (-self.maxHeap[0] + self.minHeap[0]) / 2.0\n",
    "                \n",
    "                else:\n",
    "                    result[i-k+1] = -self.maxHeap[0]/1.0\n",
    "\n",
    "                elementToBeRemoved=nums[i-k+1]\n",
    "                if elementToBeRemoved <= -self.maxHeap[0]:\n",
    "                    self.remove(self.maxHeap,-elementToBeRemoved)\n",
    "                else:\n",
    "                    self.remove(self.minHeap,elementToBeRemoved)\n",
    "\n",
    "                self.rebalance()\n",
    "        \n",
    "        return result\n",
    "\n",
    "    def remove(self,heap,element):\n",
    "        ind = heap.index(element)\n",
    "        heap[ind] = heap[-1]\n",
    "        del heap[-1]\n",
    "\n",
    "        if ind < len(heap):\n",
    "            heapq._siftup(heap,ind)\n",
    "            heapq._siftdown(heap,0,ind)\n",
    "\n",
    "    def rebalance(self):\n",
    "        if len(self.maxHeap) > len(self.minHeap)+1:\n",
    "            heappush(self.minHeap,-heappop(self.maxHeap))\n",
    "        elif len(self.maxHeap) < len(self.minHeap):\n",
    "            heappush(self.maxHeap,-heappop(self.minHeap))\n",
    "\n",
    "\n",
    "\n",
    "slidingWindowMedian = SlidingWindowMedian()\n",
    "result = slidingWindowMedian.find_sliding_window_median(\n",
    "[1, 2, -1, 3, 5], 2)\n",
    "print(\"Sliding window medians are: \" + str(result))\n",
    "\n",
    "slidingWindowMedian = SlidingWindowMedian()\n",
    "result = slidingWindowMedian.find_sliding_window_median(\n",
    "[1, 2, -1, 3, 5], 3)\n",
    "print(\"Sliding window medians are: \" + str(result))\n",
    "\n",
    "    "
   ]
  }
 ],
 "metadata": {
  "interpreter": {
   "hash": "b0fa6594d8f4cbf19f97940f81e996739fb7646882a419484c72d19e05852a7e"
  },
  "kernelspec": {
   "display_name": "Python 3.9.10 64-bit",
   "language": "python",
   "name": "python3"
  },
  "language_info": {
   "codemirror_mode": {
    "name": "ipython",
    "version": 3
   },
   "file_extension": ".py",
   "mimetype": "text/x-python",
   "name": "python",
   "nbconvert_exporter": "python",
   "pygments_lexer": "ipython3",
   "version": "3.9.10"
  },
  "orig_nbformat": 4
 },
 "nbformat": 4,
 "nbformat_minor": 2
}
