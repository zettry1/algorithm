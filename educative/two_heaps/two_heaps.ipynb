{
 "cells": [
  {
   "cell_type": "code",
   "execution_count": 1,
   "metadata": {
    "vscode": {
     "languageId": "ruby"
    }
   },
   "outputs": [],
   "source": [
    "#Introduction\n",
    "#In many problems, where we are given a set of elements such that we can divide them into two parts.\n",
    "# We are interested in knowing the smallest element in one part and the biggest \n",
    "#element in the other part. The Two Heaps pattern is an efficient approach to solve such problems.\n",
    "\n",
    "#As the name suggests, this pattern uses two Heaps; A Min Heap to find the smallest\n",
    "#element and a Max Heap to find the biggest element.\n",
    "\n",
    "\n",
    "\n"
   ]
  },
  {
   "cell_type": "code",
   "execution_count": 14,
   "metadata": {
    "vscode": {
     "languageId": "ruby"
    }
   },
   "outputs": [
    {
     "name": "stdout",
     "output_type": "stream",
     "text": [
      "The median is: 2.0\n",
      "The median is: 3.0\n",
      "The median is: 3.5\n"
     ]
    }
   ],
   "source": [
    "from heapq import *\n",
    "\n",
    "\n",
    "class MedianOfAStream:\n",
    "\n",
    "  maxHeap = []  # containing first half of numbers\n",
    "  minHeap = []  # containing second half of numbers\n",
    "\n",
    "  def insert_num(self, num):\n",
    "    if not self.maxHeap or -self.maxHeap[0] >= num:\n",
    "      heappush(self.maxHeap, -num)\n",
    "    else:\n",
    "      heappush(self.minHeap, num)\n",
    "\n",
    "    # either both the heaps will have equal number of elements or max-heap will have one\n",
    "    # more element than the min-heap\n",
    "    if len(self.maxHeap) > len(self.minHeap) + 1:\n",
    "      heappush(self.minHeap, -heappop(self.maxHeap))\n",
    "    elif len(self.maxHeap) < len(self.minHeap):\n",
    "      heappush(self.maxHeap, -heappop(self.minHeap))\n",
    "\n",
    "  def find_median(self):\n",
    "    if len(self.maxHeap) == len(self.minHeap):\n",
    "      # we have even number of elements, take the average of middle two elements\n",
    "      return (-self.maxHeap[0]  + self.minHeap[0]) / 2.0\n",
    "\n",
    "    # because max-heap will have one more element than the min-heap\n",
    "    return -self.maxHeap[0] /1.0\n",
    "\n",
    "\n",
    "medianOfAStream = MedianOfAStream()\n",
    "medianOfAStream.insert_num(3)\n",
    "medianOfAStream.insert_num(1)\n",
    "print(\"The median is: \" + str(medianOfAStream.find_median()))\n",
    "medianOfAStream.insert_num(5)\n",
    "print(\"The median is: \" + str(medianOfAStream.find_median()))\n",
    "medianOfAStream.insert_num(4)\n",
    "print(\"The median is: \" + str(medianOfAStream.find_median()))\n"
   ]
  },
  {
   "cell_type": "markdown",
   "metadata": {},
   "source": []
  }
 ],
 "metadata": {
  "interpreter": {
   "hash": "b0fa6594d8f4cbf19f97940f81e996739fb7646882a419484c72d19e05852a7e"
  },
  "kernelspec": {
   "display_name": "Python 3.9.10 64-bit",
   "language": "python",
   "name": "python3"
  },
  "language_info": {
   "codemirror_mode": {
    "name": "ipython",
    "version": 3
   },
   "file_extension": ".py",
   "mimetype": "text/x-python",
   "name": "python",
   "nbconvert_exporter": "python",
   "pygments_lexer": "ipython3",
   "version": "3.9.10"
  },
  "orig_nbformat": 4
 },
 "nbformat": 4,
 "nbformat_minor": 2
}
