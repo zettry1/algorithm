{
 "cells": [
  {
   "cell_type": "code",
   "execution_count": 1,
   "metadata": {
    "vscode": {
     "languageId": "ruby"
    }
   },
   "outputs": [],
   "source": [
    "#Introduction\n",
    "#In many problems, where we are given a set of elements such that we can divide them into two parts.\n",
    "# We are interested in knowing the smallest element in one part and the biggest \n",
    "#element in the other part. The Two Heaps pattern is an efficient approach to solve such problems.\n",
    "\n",
    "#As the name suggests, this pattern uses two Heaps; A Min Heap to find the smallest\n",
    "#element and a Max Heap to find the biggest element.\n",
    "\n",
    "\n",
    "\n"
   ]
  },
  {
   "cell_type": "code",
   "execution_count": 14,
   "metadata": {
    "vscode": {
     "languageId": "ruby"
    }
   },
   "outputs": [
    {
     "name": "stdout",
     "output_type": "stream",
     "text": [
      "The median is: 2.0\n",
      "The median is: 3.0\n",
      "The median is: 3.5\n"
     ]
    }
   ],
   "source": [
    "from heapq import *\n",
    "\n",
    "\n",
    "class MedianOfAStream:\n",
    "\n",
    "  maxHeap = []  # containing first half of numbers\n",
    "  minHeap = []  # containing second half of numbers\n",
    "\n",
    "  def insert_num(self, num):\n",
    "    if not self.maxHeap or -self.maxHeap[0] >= num:\n",
    "      heappush(self.maxHeap, -num)\n",
    "    else:\n",
    "      heappush(self.minHeap, num)\n",
    "\n",
    "    # either both the heaps will have equal number of elements or max-heap will have one\n",
    "    # more element than the min-heap\n",
    "    if len(self.maxHeap) > len(self.minHeap) + 1:\n",
    "      heappush(self.minHeap, -heappop(self.maxHeap))\n",
    "    elif len(self.maxHeap) < len(self.minHeap):\n",
    "      heappush(self.maxHeap, -heappop(self.minHeap))\n",
    "\n",
    "  def find_median(self):\n",
    "    if len(self.maxHeap) == len(self.minHeap):\n",
    "      # we have even number of elements, take the average of middle two elements\n",
    "      return (-self.maxHeap[0]  + self.minHeap[0]) / 2.0\n",
    "\n",
    "    # because max-heap will have one more element than the min-heap\n",
    "    return -self.maxHeap[0] /1.0\n",
    "\n",
    "\n",
    "medianOfAStream = MedianOfAStream()\n",
    "medianOfAStream.insert_num(3)\n",
    "medianOfAStream.insert_num(1)\n",
    "print(\"The median is: \" + str(medianOfAStream.find_median()))\n",
    "medianOfAStream.insert_num(5)\n",
    "print(\"The median is: \" + str(medianOfAStream.find_median()))\n",
    "medianOfAStream.insert_num(4)\n",
    "print(\"The median is: \" + str(medianOfAStream.find_median()))\n"
   ]
  },
  {
   "cell_type": "code",
   "execution_count": 30,
   "metadata": {
    "vscode": {
     "languageId": "ruby"
    }
   },
   "outputs": [
    {
     "name": "stdout",
     "output_type": "stream",
     "text": [
      "Sliding window medians are: [1.5, 0.5, 1.0, 4.0]\n",
      "Sliding window medians are: [1.0, 2.0, 3.0]\n"
     ]
    }
   ],
   "source": [
    "from heapq import * \n",
    "import heapq\n",
    "class SlidingWindowMedian:\n",
    "    def __init__(self):\n",
    "        self.maxHeap,self.minHeap = [],[]\n",
    "\n",
    "    def find_sliding_window_median(self,nums,k):\n",
    "        result=[0.0 for x in range(len(nums)-k+1)]\n",
    "        \n",
    "        for i in range(0,len(nums)):\n",
    "            if not self.maxHeap or nums[i]<=-self.maxHeap[0]:\n",
    "                heappush(self.maxHeap,-nums[i])\n",
    "            else:\n",
    "                heappush(self.minHeap,nums[i])\n",
    "            \n",
    "            self.rebalance()\n",
    "\n",
    "            if i-k+1>=0:\n",
    "\n",
    "                if len(self.maxHeap) == len(self.minHeap):\n",
    "                    result[i-k+1] = (-self.maxHeap[0] + self.minHeap[0]) / 2.0\n",
    "                \n",
    "                else:\n",
    "                    result[i-k+1] = -self.maxHeap[0]/1.0\n",
    "\n",
    "                elementToBeRemoved=nums[i-k+1]\n",
    "                if elementToBeRemoved <= -self.maxHeap[0]:\n",
    "                    self.remove(self.maxHeap,-elementToBeRemoved)\n",
    "                else:\n",
    "                    self.remove(self.minHeap,elementToBeRemoved)\n",
    "\n",
    "                self.rebalance()\n",
    "        \n",
    "        return result\n",
    "\n",
    "    def remove(self,heap,element):\n",
    "        ind = heap.index(element)\n",
    "        heap[ind] = heap[-1]\n",
    "        del heap[-1]\n",
    "\n",
    "        if ind < len(heap):\n",
    "            heapq._siftup(heap,ind)\n",
    "            heapq._siftdown(heap,0,ind)\n",
    "\n",
    "    def rebalance(self):\n",
    "        if len(self.maxHeap) > len(self.minHeap)+1:\n",
    "            heappush(self.minHeap,-heappop(self.maxHeap))\n",
    "        elif len(self.maxHeap) < len(self.minHeap):\n",
    "            heappush(self.maxHeap,-heappop(self.minHeap))\n",
    "\n",
    "\n",
    "\n",
    "slidingWindowMedian = SlidingWindowMedian()\n",
    "result = slidingWindowMedian.find_sliding_window_median(\n",
    "[1, 2, -1, 3, 5], 2)\n",
    "print(\"Sliding window medians are: \" + str(result))\n",
    "\n",
    "slidingWindowMedian = SlidingWindowMedian()\n",
    "result = slidingWindowMedian.find_sliding_window_median(\n",
    "[1, 2, -1, 3, 5], 3)\n",
    "print(\"Sliding window medians are: \" + str(result))\n",
    "\n",
    "    "
   ]
  },
  {
   "cell_type": "code",
   "execution_count": 3,
   "metadata": {
    "vscode": {
     "languageId": "ruby"
    }
   },
   "outputs": [
    {
     "name": "stdout",
     "output_type": "stream",
     "text": [
      "Maximum capital:6\n",
      "Maximum capital:8\n"
     ]
    }
   ],
   "source": [
    "#Maximize capital hard\n",
    "#given set of investment projects with their repective profits, we need to find the most\n",
    "#profitable projects. We are given an initial capital and are allow to invest only in \n",
    "#fixed number of projects. Our goal is to choose projects that give us the max prfit.\n",
    "#Write function that returns the maximum total capital after selecting the most\n",
    "#profitable projects.\n",
    "#We can start an inverstment project only when we have the required capital.\n",
    "#Once a project is selected, we can assume that its profit has become our capital. \n",
    "from heapq import *\n",
    "\n",
    "def find_maximum_capital(capital,profits,numberOfProjects,initialCapital):\n",
    "    minCapitalHeap=[]\n",
    "    maxProfitHeap = []\n",
    "\n",
    "    for i in range(0,len(profits)):\n",
    "        heappush(minCapitalHeap,(capital[i],i))\n",
    "\n",
    "    availableCapital = initialCapital\n",
    "\n",
    "    for _ in range(numberOfProjects):\n",
    "\n",
    "        while minCapitalHeap and minCapitalHeap[0][0] <= availableCapital:\n",
    "            capital,i = heappop(minCapitalHeap)\n",
    "            heappush(maxProfitHeap, (-profits[i],i))\n",
    "\n",
    "        if not maxProfitHeap:\n",
    "            break\n",
    "\n",
    "        availableCapital += -heappop(maxProfitHeap)[0]\n",
    "    \n",
    "    return availableCapital\n",
    "\n",
    "\n",
    "print(\"Maximum capital:\"+ str(find_maximum_capital([0,1,2],[1,2,3],2,1)))\n",
    "print(\"Maximum capital:\"+ str(find_maximum_capital([0,1,2,3],[1,2,3,5],3,0)))\n",
    "\n"
   ]
  },
  {
   "cell_type": "code",
   "execution_count": 12,
   "metadata": {
    "vscode": {
     "languageId": "ruby"
    }
   },
   "outputs": [
    {
     "name": "stdout",
     "output_type": "stream",
     "text": [
      "[1, 2, -1]\n",
      "[2, -1, -1]\n"
     ]
    }
   ],
   "source": [
    "#Problem challenge 1 \n",
    "#next interval hard \n",
    "#given an array of interval, find the next interval of each interval. in a list of intervals, for an interval\n",
    "#'i' its next interval 'j' will have the smallest 'start' greater than or equal to the 'end' of 'i'.\n",
    "#write a function to return an array containing indices of the next interval of each input interval. if there is no next\n",
    "#interval of given interval, return-1. It is given that none of the intervals have same start point.\n",
    "from heapq import * \n",
    "\n",
    "class Interval:\n",
    "    def __init__(self, start,end):\n",
    "        self.start = start\n",
    "        self.end = end\n",
    "\n",
    "def find_next_interval(intervals):\n",
    "    n = len(intervals)\n",
    "\n",
    "    maxStartHeap,maxEndHeap=[],[]\n",
    "    result = [0 for x in range(n)]\n",
    "\n",
    "    for endIndex in range(n):\n",
    "        heappush(maxStartHeap,(-intervals[endIndex].start,endIndex))\n",
    "        heappush(maxEndHeap,(-intervals[endIndex].end,endIndex))\n",
    "\n",
    "    for _ in range(n):\n",
    "        topEnd, endIndex = heappop(maxEndHeap)\n",
    "        result[endIndex] = -1\n",
    "\n",
    "        if -maxStartHeap[0][0]>=-topEnd:\n",
    "            topStart,startIndex = heappop(maxStartHeap)\n",
    "\n",
    "            while maxStartHeap and -maxStartHeap[0][0] >= -topEnd:\n",
    "                topStart, startIndex = heappop(maxStartHeap)\n",
    "            result[endIndex] = startIndex\n",
    "\n",
    "            heappush(maxStartHeap,(topStart,startIndex))\n",
    "\n",
    "    return result\n",
    "\n",
    "print(find_next_interval([Interval(2,3),Interval(3,4),Interval(5,6)]))\n",
    "\n",
    "print(find_next_interval([Interval(3,4),Interval(1,5),Interval(4,6)]))"
   ]
  },
  {
   "cell_type": "code",
   "execution_count": null,
   "metadata": {
    "vscode": {
     "languageId": "ruby"
    }
   },
   "outputs": [],
   "source": [
    "It "
   ]
  }
 ],
 "metadata": {
  "interpreter": {
   "hash": "b0fa6594d8f4cbf19f97940f81e996739fb7646882a419484c72d19e05852a7e"
  },
  "kernelspec": {
   "display_name": "Python 3.9.10 64-bit",
   "language": "python",
   "name": "python3"
  },
  "language_info": {
   "codemirror_mode": {
    "name": "ipython",
    "version": 3
   },
   "file_extension": ".py",
   "mimetype": "text/x-python",
   "name": "python",
   "nbconvert_exporter": "python",
   "pygments_lexer": "ipython3",
   "version": "3.9.13"
  },
  "orig_nbformat": 4
 },
 "nbformat": 4,
 "nbformat_minor": 2
}
