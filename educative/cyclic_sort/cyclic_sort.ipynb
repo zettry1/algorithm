{
 "cells": [
  {
   "cell_type": "code",
   "execution_count": 7,
   "metadata": {
    "vscode": {
     "languageId": "ruby"
    }
   },
   "outputs": [
    {
     "name": "stdout",
     "output_type": "stream",
     "text": [
      "[1, 2, 3, 4, 5]\n",
      "[1, 2, 3, 4, 5, 6]\n"
     ]
    }
   ],
   "source": [
    "#Cyclic sort\n",
    "\n",
    "def cyclic_sort(nums):\n",
    "    i=0\n",
    "    while i <len(nums):\n",
    "        j = nums[i]-1\n",
    "        if nums[j]!=nums[i]:\n",
    "            nums[i],nums[j]=nums[j],nums[i]\n",
    "        else:\n",
    "            i+=1\n",
    "    return nums\n",
    "\n",
    "\n",
    "print(cyclic_sort([1,3,2,5,4]))\n",
    "print(cyclic_sort([1,6,2,5,4,3]))"
   ]
  },
  {
   "cell_type": "code",
   "execution_count": 10,
   "metadata": {
    "vscode": {
     "languageId": "ruby"
    }
   },
   "outputs": [
    {
     "name": "stdout",
     "output_type": "stream",
     "text": [
      "[0, 1, 2, 3, 5]\n",
      "4\n"
     ]
    }
   ],
   "source": [
    "def find_missing_number(nums):\n",
    "    i,n = 0,len(nums)\n",
    "    while i < n:\n",
    "        j = nums[i]\n",
    "        if nums[i] < n and nums[i]!=nums[j]:\n",
    "            nums[i],nums[j]=nums[j],nums[i]\n",
    "        else:\n",
    "            i+=1\n",
    "    for i in range(n):\n",
    "        if i!=nums[i]:\n",
    "            return i \n",
    "\n",
    "print(find_missing_number([5, 0, 3, 2,1]))\n",
    "  "
   ]
  }
 ],
 "metadata": {
  "interpreter": {
   "hash": "31f2aee4e71d21fbe5cf8b01ff0e069b9275f58929596ceb00d14d90e3e16cd6"
  },
  "kernelspec": {
   "display_name": "Python 3.8.9 64-bit",
   "language": "python",
   "name": "python3"
  },
  "language_info": {
   "codemirror_mode": {
    "name": "ipython",
    "version": 3
   },
   "file_extension": ".py",
   "mimetype": "text/x-python",
   "name": "python",
   "nbconvert_exporter": "python",
   "pygments_lexer": "ipython3",
   "version": "3.8.9"
  },
  "orig_nbformat": 4
 },
 "nbformat": 4,
 "nbformat_minor": 2
}
