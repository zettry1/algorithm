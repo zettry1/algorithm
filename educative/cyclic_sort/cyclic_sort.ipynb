{
 "cells": [
  {
   "cell_type": "code",
   "execution_count": 38,
   "metadata": {
    "vscode": {
     "languageId": "ruby"
    }
   },
   "outputs": [
    {
     "name": "stdout",
     "output_type": "stream",
     "text": [
      "[0, 1, 2, 3, 4, 5, 6, 7]\n",
      "[0, 1, 2, 3, 4, 5, 6]\n"
     ]
    }
   ],
   "source": [
    "#Cyclic sort\n",
    "\n",
    "def cyclic_sort(nums):\n",
    "    i=0\n",
    "    while i <len(nums):\n",
    "        j = nums[i]\n",
    "        if nums[i]<len(nums) and nums[j]!=nums[i]:\n",
    "            nums[i],nums[j]=nums[j],nums[i]\n",
    "        else:\n",
    "            i+=1\n",
    "    return nums\n",
    "\n",
    "\n",
    "print(cyclic_sort([0,1,3,2,5,4,7,6]))\n",
    "print(cyclic_sort([1,6,2,0,5,4,3]))"
   ]
  },
  {
   "cell_type": "code",
   "execution_count": 1,
   "metadata": {
    "vscode": {
     "languageId": "ruby"
    }
   },
   "outputs": [
    {
     "name": "stdout",
     "output_type": "stream",
     "text": [
      "4\n"
     ]
    }
   ],
   "source": [
    "def find_missing_number(nums):\n",
    "    i,n = 0,len(nums)\n",
    "    while i < n:\n",
    "        j = nums[i]\n",
    "        if nums[i] < n and nums[i]!=nums[j]:\n",
    "            nums[i],nums[j]=nums[j],nums[i]\n",
    "        else:\n",
    "            i+=1\n",
    "    for i in range(n):\n",
    "        if i!=nums[i]:\n",
    "            return i \n",
    "\n",
    "print(find_missing_number([5, 0, 3, 2,1]))\n",
    "  "
   ]
  },
  {
   "cell_type": "code",
   "execution_count": 7,
   "metadata": {
    "vscode": {
     "languageId": "ruby"
    }
   },
   "outputs": [
    {
     "name": "stdout",
     "output_type": "stream",
     "text": [
      "[1, 2, 3, 1, 5, 3, 2, 8]\n",
      "[4, 6, 7]\n"
     ]
    }
   ],
   "source": [
    "def find_missing_numbers(nums):\n",
    "    i=1 \n",
    "    \n",
    "    while i < len(nums):\n",
    "        j = nums[i]-1\n",
    "        if nums[i]!=nums[j]:\n",
    "            nums[i],nums[j]= nums[j],nums[i]   \n",
    "        else:\n",
    "            i+=1\n",
    "    \n",
    "    print(nums)\n",
    "    missingNumbers=[]\n",
    "    \n",
    "    for i in range(len(nums)):\n",
    "        if nums[i]!=i+1:\n",
    "            missingNumbers.append(i+1)\n",
    "    \n",
    "    return missingNumbers\n",
    "\n",
    "print(find_missing_numbers([2, 3, 1, 8, 2, 3, 5, 1]))"
   ]
  },
  {
   "cell_type": "code",
   "execution_count": 79,
   "metadata": {
    "vscode": {
     "languageId": "ruby"
    }
   },
   "outputs": [
    {
     "name": "stdout",
     "output_type": "stream",
     "text": [
      "[2, 1, 3, 5, 4, 3]\n",
      "0 1\n",
      "[1, 2, 3, 5, 4, 3]\n",
      "[1, 2, 3, 5, 4, 3]\n",
      "[1, 2, 3, 5, 4, 3]\n",
      "[1, 2, 3, 5, 4, 3]\n",
      "3 4\n",
      "[1, 2, 3, 4, 5, 3]\n",
      "[1, 2, 3, 4, 5, 3]\n",
      "[1, 2, 3, 4, 5, 3]\n",
      "5 2\n",
      "3\n"
     ]
    }
   ],
   "source": [
    "def find_duplicate(nums):\n",
    "    i=0\n",
    "\n",
    "    while i < len(nums):\n",
    "        print(nums)\n",
    "\n",
    "        if nums[i]!=i+1:\n",
    "            j = nums[i]-1\n",
    "            print(i,j)\n",
    "            if nums[i]!=nums[j]:\n",
    "                nums[i],nums[j] = nums[j], nums[i]\n",
    "            else:\n",
    "                return nums[i]\n",
    "        else:\n",
    "            i+=1\n",
    "   \n",
    "\n",
    "# print(find_duplicate([1, 4, 4, 3, 2]))\n",
    "print(find_duplicate([2, 1,  3,5,4, 3]))\n",
    "# print(find_duplicate([2, 4, 1, 4, 4]))\n"
   ]
  },
  {
   "cell_type": "code",
   "execution_count": 53,
   "metadata": {
    "vscode": {
     "languageId": "ruby"
    }
   },
   "outputs": [
    {
     "name": "stdout",
     "output_type": "stream",
     "text": [
      "[5, 4, 3, 4, 5]\n",
      "[5, 4]\n",
      "[1, 2, 3, 4, 5, 5, 7, 5, 3]\n",
      "[5, 5, 3]\n"
     ]
    }
   ],
   "source": [
    "def find_all_duplicates(nums):\n",
    "  i = 0\n",
    "  while i < len(nums):\n",
    "    j = nums[i] - 1\n",
    "    if nums[i] != nums[j]:\n",
    "      nums[i], nums[j] = nums[j], nums[i]  # swap\n",
    "    else:\n",
    "      i += 1\n",
    "\n",
    "  duplicateNumbers = []\n",
    "  print(nums)\n",
    "  for i in range(len(nums)):\n",
    "    if nums[i] != i + 1:\n",
    "      duplicateNumbers.append(nums[i])\n",
    "\n",
    "  return duplicateNumbers\n",
    "\n",
    "print(find_all_duplicates([3, 4, 4, 5, 5]))\n",
    "print(find_all_duplicates([5, 4, 7, 2, 3, 5,5,1, 3]))\n"
   ]
  },
  {
   "cell_type": "code",
   "execution_count": 54,
   "metadata": {
    "vscode": {
     "languageId": "ruby"
    }
   },
   "outputs": [
    {
     "name": "stdout",
     "output_type": "stream",
     "text": [
      "[2, 4]\n",
      "[3, 5]\n"
     ]
    }
   ],
   "source": [
    "#Problem challenge 1 \n",
    "#find corrupt pair easy\n",
    "\n",
    "def find_corrupt_numbers(nums):\n",
    "    result =[]\n",
    "    i,n=0,len(nums)\n",
    "\n",
    "    while i < n:\n",
    "        j = nums[i]-1\n",
    "        if nums[i]!=nums[j]:\n",
    "            nums[i],nums[j] = nums[j] , nums[i]\n",
    "        else:\n",
    "            i+=1\n",
    "\n",
    "    for i in range(n):\n",
    "        if nums[i]!=i+1:\n",
    "            result.append(nums[i],)\n",
    "            result.append(i+1)\n",
    "        \n",
    "    return result\n",
    "\n",
    "\n",
    "print(find_corrupt_numbers([3,1,2,5,2]))\n",
    "print(find_corrupt_numbers([3, 1, 2, 3, 6, 4]))\n",
    "\n"
   ]
  },
  {
   "cell_type": "code",
   "execution_count": 80,
   "metadata": {
    "vscode": {
     "languageId": "ruby"
    }
   },
   "outputs": [
    {
     "name": "stdout",
     "output_type": "stream",
     "text": [
      "4\n"
     ]
    }
   ],
   "source": [
    "# Find smallest missing positive number\n",
    "\n",
    "# Sort solution O(nlogn)|O(1)\n",
    "\n",
    "def find_smallest_missing_positive(nums):\n",
    "    nums.sort()\n",
    "    for i in range(len(nums)-1):\n",
    "        if nums[i]>1 and  nums[i]+1!=nums[i+1]:\n",
    "            return nums[i]+1\n",
    "    \n",
    "\n",
    "\n",
    "\n",
    "\n",
    "# More fast cyclic sort solution\n",
    "def find_smallest_missing_positive(nums):\n",
    "    i,n=0, len(nums)\n",
    "    \n",
    "    while i < n:\n",
    "        j = nums[i]-1\n",
    "        if nums[i]>0 and nums[i]<=n and nums[i]!=nums[j]:\n",
    "            nums[i],nums[j] = nums[j],nums[i]\n",
    "        else:\n",
    "            i+=1\n",
    "    for i in range(n):\n",
    "        if nums[i]!=i+1:\n",
    "            return i+1\n",
    "    return len(nums)+1\n",
    "        \n",
    "    \n",
    "\n",
    "# print(find_smallest_missing_positive([-3,1,5,4,2]))\n",
    "print(find_smallest_missing_positive([5,3, -2, 0, 1, 2]))"
   ]
  },
  {
   "cell_type": "code",
   "execution_count": 104,
   "metadata": {
    "vscode": {
     "languageId": "ruby"
    }
   },
   "outputs": [
    {
     "name": "stdout",
     "output_type": "stream",
     "text": [
      "[1, 2, 6]\n"
     ]
    }
   ],
   "source": [
    "#Find the first k missing positive nubers hard\n",
    "\n",
    "def find_first_k_missing_positive(nums,k):\n",
    "    i = 0\n",
    "    n = len(nums)\n",
    "    result=[]\n",
    "    cur_min=1\n",
    "    while i < n:\n",
    "        j = nums[i]-1\n",
    "        if  nums[i]<=n and nums[i]>0  and nums[i]!=nums[j]:\n",
    "            nums[i],nums[j] = nums[j],nums[i]\n",
    "        else:\n",
    "            i+=1\n",
    "    missingNumbers = []\n",
    "    extraNumbers = set()\n",
    "    for i in range(n):\n",
    "        if len(missingNumbers) < k:\n",
    "            if nums[i] != i + 1:\n",
    "                missingNumbers.append(i + 1)\n",
    "                extraNumbers.add(nums[i])\n",
    "\n",
    "\n",
    "      # add the remaining missing numbers\n",
    "    i = 1\n",
    "    while len(missingNumbers) < k:\n",
    "        candidateNumber = i + n\n",
    "        # ignore if the array contains the candidate number\n",
    "        if candidateNumber not in extraNumbers:\n",
    "            missingNumbers.append(candidateNumber)\n",
    "        i += 1\n",
    "        \n",
    "    return missingNumbers\n",
    "\n",
    "print(find_first_k_missing_positive([3,-1,4,5,5],3))\n"
   ]
  }
 ],
 "metadata": {
  "interpreter": {
   "hash": "31f2aee4e71d21fbe5cf8b01ff0e069b9275f58929596ceb00d14d90e3e16cd6"
  },
  "kernelspec": {
   "display_name": "Python 3.8.9 64-bit",
   "language": "python",
   "name": "python3"
  },
  "language_info": {
   "codemirror_mode": {
    "name": "ipython",
    "version": 3
   },
   "file_extension": ".py",
   "mimetype": "text/x-python",
   "name": "python",
   "nbconvert_exporter": "python",
   "pygments_lexer": "ipython3",
   "version": "3.8.9"
  },
  "orig_nbformat": 4
 },
 "nbformat": 4,
 "nbformat_minor": 2
}
