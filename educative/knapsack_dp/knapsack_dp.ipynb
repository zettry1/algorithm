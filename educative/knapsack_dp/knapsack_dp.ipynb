{
 "cells": [
  {
   "cell_type": "code",
   "execution_count": null,
   "metadata": {
    "vscode": {
     "languageId": "ruby"
    }
   },
   "outputs": [],
   "source": [
    "# Introduction\n",
    "# 0/1 Knapsack pattern is based on the famous problem with the same name\n",
    "#  which is efficiently solved using Dynamic Programming (DP).\n",
    "\n",
    "# In this pattern, we will go through a set of problems to develop an \n",
    "# understanding of DP. We will always start with a brute-force recursive\n",
    "#  solution to see the overlapping subproblems, i.e., realizing that we \n",
    "#  are solving the same problems repeatedly.\n",
    "\n",
    "# After the recursive solution, we will modify our algorithm to apply\n",
    "#  advanced techniques of Memoization and Bottom-Up Dynamic Programming\n",
    "#   to develop a complete understanding of this pattern.\n",
    "\n"
   ]
  },
  {
   "cell_type": "code",
   "execution_count": 1,
   "metadata": {
    "vscode": {
     "languageId": "ruby"
    }
   },
   "outputs": [
    {
     "name": "stdout",
     "output_type": "stream",
     "text": [
      "16\n",
      "17\n",
      "22\n"
     ]
    }
   ],
   "source": [
    "#0/1 Knapsack (medium)\n",
    "\n",
    "def solve_knapsack(profits, weights, capacity):\n",
    "  # basic checks\n",
    "  n = len(profits)\n",
    "  if capacity <= 0 or n == 0 or len(weights) != n:\n",
    "    return 0\n",
    "\n",
    "  dp = [[0 for x in range(capacity+1)] for y in range(n)]\n",
    "\n",
    "  # populate the capacity = 0 columns, with '0' capacity we have '0' profit\n",
    "  for i in range(0, n):\n",
    "    dp[i][0] = 0\n",
    "\n",
    "  # if we have only one weight, we will take it if it is not more than the capacity\n",
    "  for c in range(0, capacity+1):\n",
    "    if weights[0] <= c:\n",
    "      dp[0][c] = profits[0]\n",
    "\n",
    "  # process all sub-arrays for all the capacities\n",
    "  for i in range(1, n):\n",
    "    for c in range(1, capacity+1):\n",
    "      profit1, profit2 = 0, 0\n",
    "      # include the item, if it is not more than the capacity\n",
    "      if weights[i] <= c:\n",
    "        profit1 = profits[i] + dp[i - 1][c - weights[i]]\n",
    "      # exclude the item\n",
    "      profit2 = dp[i - 1][c]\n",
    "      # take maximum\n",
    "      dp[i][c] = max(profit1, profit2)\n",
    "\n",
    "  # maximum profit will be at the bottom-right corner.\n",
    "  return dp[n - 1][capacity]\n",
    "\n",
    "\n",
    "print(solve_knapsack([1, 6, 10, 16], [1, 2, 3, 5], 5))\n",
    "print(solve_knapsack([1, 6, 10, 16], [1, 2, 3, 5], 6))\n",
    "print(solve_knapsack([1, 6, 10, 16], [1, 2, 3, 5], 7))\n",
    "\n",
    "\n"
   ]
  }
 ],
 "metadata": {
  "interpreter": {
   "hash": "b0fa6594d8f4cbf19f97940f81e996739fb7646882a419484c72d19e05852a7e"
  },
  "kernelspec": {
   "display_name": "Python 3.9.10 64-bit",
   "language": "python",
   "name": "python3"
  },
  "language_info": {
   "codemirror_mode": {
    "name": "ipython",
    "version": 3
   },
   "file_extension": ".py",
   "mimetype": "text/x-python",
   "name": "python",
   "nbconvert_exporter": "python",
   "pygments_lexer": "ipython3",
   "version": "3.9.13"
  },
  "orig_nbformat": 4
 },
 "nbformat": 4,
 "nbformat_minor": 2
}
