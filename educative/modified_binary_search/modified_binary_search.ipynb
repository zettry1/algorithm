{
 "cells": [
  {
   "cell_type": "code",
   "execution_count": null,
   "metadata": {
    "vscode": {
     "languageId": "ruby"
    }
   },
   "outputs": [],
   "source": [
    "#Introduction\n",
    "\n",
    "# As we know, whenver we are given sorted\n",
    "#array or LL, or matix, we are asked to find certian element\n",
    "#best algorithm we can use is the Binary search\n",
    "#This pattern describes an efficient way to handle all\n",
    "#problems involving BS. We will go throught a set of problems that will help us\n",
    "#build an undersanding of this pattern so that we can apply this technique to other\n",
    "#problems we might come across in the interviews.\n",
    "\n"
   ]
  },
  {
   "cell_type": "code",
   "execution_count": 7,
   "metadata": {
    "vscode": {
     "languageId": "ruby"
    }
   },
   "outputs": [
    {
     "name": "stdout",
     "output_type": "stream",
     "text": [
      "2\n",
      "4\n",
      "0\n",
      "2\n"
     ]
    }
   ],
   "source": [
    "#Order agnostic binary search easy\n",
    "\n",
    "#O(logn)| O(1)\n",
    "\n",
    "def binary_search(arr,key):\n",
    "    l=0\n",
    "    r=len(arr)-1\n",
    "    isAscending = arr[l]<arr[r]\n",
    "    while l<=r:\n",
    "        mid = l+(r-l)//2\n",
    "        if arr[mid]==key:\n",
    "            return mid\n",
    "\n",
    "        if isAscending:\n",
    "            if key<arr[mid]:\n",
    "                r=mid-1\n",
    "            else:\n",
    "                l=mid+1\n",
    "        else:\n",
    "            if key> arr[mid]:\n",
    "                r=mid-1\n",
    "            else:\n",
    "                l=mid+1\n",
    "    return -1\n",
    "\n",
    "\n",
    "print(binary_search([4, 6, 10], 10))\n",
    "print(binary_search([1, 2, 3, 4, 5, 6, 7], 5))\n",
    "print(binary_search([10, 6, 4], 10))\n",
    "print(binary_search([10, 6, 4], 4))\n"
   ]
  }
 ],
 "metadata": {
  "interpreter": {
   "hash": "b0fa6594d8f4cbf19f97940f81e996739fb7646882a419484c72d19e05852a7e"
  },
  "kernelspec": {
   "display_name": "Python 3.9.10 64-bit",
   "language": "python",
   "name": "python3"
  },
  "language_info": {
   "codemirror_mode": {
    "name": "ipython",
    "version": 3
   },
   "file_extension": ".py",
   "mimetype": "text/x-python",
   "name": "python",
   "nbconvert_exporter": "python",
   "pygments_lexer": "ipython3",
   "version": "3.9.10"
  },
  "orig_nbformat": 4
 },
 "nbformat": 4,
 "nbformat_minor": 2
}
