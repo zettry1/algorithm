{
 "cells": [
  {
   "cell_type": "code",
   "execution_count": null,
   "metadata": {
    "vscode": {
     "languageId": "ruby"
    }
   },
   "outputs": [],
   "source": [
    "#Introduction\n",
    "\n",
    "# As we know, whenver we are given sorted\n",
    "#array or LL, or matix, we are asked to find certian element\n",
    "#best algorithm we can use is the Binary search\n",
    "#This pattern describes an efficient way to handle all\n",
    "#problems involving BS. We will go throught a set of problems that will help us\n",
    "#build an undersanding of this pattern so that we can apply this technique to other\n",
    "#problems we might come across in the interviews.\n",
    "\n"
   ]
  },
  {
   "cell_type": "code",
   "execution_count": 9,
   "metadata": {
    "vscode": {
     "languageId": "ruby"
    }
   },
   "outputs": [
    {
     "name": "stdout",
     "output_type": "stream",
     "text": [
      "2\n",
      "4\n",
      "0\n",
      "2\n"
     ]
    }
   ],
   "source": [
    "#Order agnostic binary search easy\n",
    "\n",
    "#O(logn)| O(1)\n",
    "\n",
    "def binary_search(arr,key):\n",
    "    l=0\n",
    "    r=len(arr)-1\n",
    "    isAscending = arr[l]<arr[r]\n",
    "    while l<=r:\n",
    "        mid = l+(r-l)//2\n",
    "        if arr[mid]==key:\n",
    "            return mid\n",
    "\n",
    "        if isAscending:\n",
    "            if key<arr[mid]:\n",
    "                r=mid-1\n",
    "            else:\n",
    "                l=mid+1\n",
    "        else:\n",
    "            if key> arr[mid]:\n",
    "                r=mid-1\n",
    "            else:\n",
    "                l=mid+1\n",
    "    return -1\n",
    "\n",
    "\n",
    "print(binary_search([4, 6, 10], 10))\n",
    "print(binary_search([1, 2, 3, 4, 5, 6, 7], 5))\n",
    "print(binary_search([10, 6, 4], 10))\n",
    "print(binary_search([10, 6, 4], 4))\n"
   ]
  },
  {
   "cell_type": "code",
   "execution_count": 16,
   "metadata": {
    "vscode": {
     "languageId": "ruby"
    }
   },
   "outputs": [
    {
     "name": "stdout",
     "output_type": "stream",
     "text": [
      "1\n",
      "4\n",
      "-1\n",
      "0\n"
     ]
    }
   ],
   "source": [
    "#Ceiling of a number medium\n",
    "#given an array of numbers sorted in an ascending order, find the ceiling of a given\n",
    "#number key. The ceiling of the key will be slammest element in the given array\n",
    "#greater than or equal to the key\n",
    "\n",
    "\n",
    "def search_ceiling_of_a_number(arr,key):\n",
    "    l=0\n",
    "    r=len(arr)-1\n",
    "    if key>arr[len(arr)-1]:\n",
    "        return -1\n",
    "\n",
    "    while l<r:\n",
    "        mid = l+(r-l)//2\n",
    "\n",
    "        if key>arr[mid]:\n",
    "            l=mid+1\n",
    "        elif key < arr[mid]:\n",
    "            r=mid-1\n",
    "        else:\n",
    "            return mid\n",
    "\n",
    "    return l\n",
    "            \n",
    "\n",
    "print(search_ceiling_of_a_number([4, 6, 10], 6))\n",
    "print(search_ceiling_of_a_number([1, 3, 8, 10, 15], 12))\n",
    "print(search_ceiling_of_a_number([4, 6, 10], 17))\n",
    "print(search_ceiling_of_a_number([4, 6, 10], -1))"
   ]
  },
  {
   "cell_type": "code",
   "execution_count": 26,
   "metadata": {
    "vscode": {
     "languageId": "ruby"
    }
   },
   "outputs": [
    {
     "name": "stdout",
     "output_type": "stream",
     "text": [
      "3\n",
      "3\n",
      "h\n",
      "1\n",
      "1\n",
      "c\n",
      "4\n",
      "0\n",
      "a\n"
     ]
    }
   ],
   "source": [
    "#Next letter medium\n",
    "\n",
    "# Given an array of lowercase sorted in ascending order, find the smallest letter\n",
    "#in the given array greater than a given key\n",
    "\n",
    "#Assume the given array is circular list, which means that the last letter is assumed to be connected\n",
    "#with the first letter. This also means that the smallest letter in the given array is greater\n",
    "#than the last letter of the array and is also the first of the letter.\n",
    "def search_next_letter(letters,key):\n",
    "    n=len(letters)\n",
    "    l,r=0,n-1\n",
    "    while l<=r:\n",
    "        mid = l+(r-l)//2\n",
    "        if key < letters[mid]:\n",
    "            r = mid-1\n",
    "        else:\n",
    "            l=mid+1\n",
    "    print(l)\n",
    "    print(l%n)\n",
    "    return letters[l%n]\n",
    "\n",
    "print(search_next_letter(['a', 'c', 'f', 'h'], 'f'))\n",
    "print(search_next_letter(['a', 'c', 'f', 'h'], 'b'))\n",
    "print(search_next_letter(['a', 'c', 'f', 'h'], 'm'))\n"
   ]
  },
  {
   "cell_type": "code",
   "execution_count": 29,
   "metadata": {
    "vscode": {
     "languageId": "ruby"
    }
   },
   "outputs": [
    {
     "name": "stdout",
     "output_type": "stream",
     "text": [
      "[1, 3]\n",
      "[3, 3]\n",
      "[-1, -1]\n"
     ]
    }
   ],
   "source": [
    "#Number range medium\n",
    "\n",
    "def find_range(arr,key):\n",
    "    result=[-1,-1]\n",
    "    result[0] = binary_search(arr,key,False)\n",
    "    if result[0]!=-1:\n",
    "        result[1] = binary_search(arr,key,True)\n",
    "    return result\n",
    "\n",
    "def binary_search(arr,key,findMaxIndex):\n",
    "    keyIndex=-1\n",
    "    l,r=0,len(arr)-1\n",
    "    while l<=r:\n",
    "        mid = l+(r-l)//2\n",
    "        if key<arr[mid]:\n",
    "            r = mid-1\n",
    "        elif key>arr[mid]:\n",
    "            l= mid+1\n",
    "        else:\n",
    "            keyIndex=mid\n",
    "            if findMaxIndex:\n",
    "                l = mid+1\n",
    "            else:\n",
    "                r = mid-1\n",
    "    return keyIndex\n",
    "\n",
    "print(find_range([4, 6, 6, 6, 9], 6))\n",
    "print(find_range([1, 3, 8, 10, 15], 10))\n",
    "print(find_range([1, 3, 8, 10, 15], 12))"
   ]
  },
  {
   "cell_type": "code",
   "execution_count": 31,
   "metadata": {
    "vscode": {
     "languageId": "ruby"
    }
   },
   "outputs": [
    {
     "name": "stdout",
     "output_type": "stream",
     "text": [
      "6\n",
      "-1\n",
      "4\n",
      "-1\n"
     ]
    }
   ],
   "source": [
    "import math\n",
    "\n",
    "\n",
    "class ArrayReader:\n",
    "\n",
    "  def __init__(self, arr):\n",
    "    self.arr = arr\n",
    "\n",
    "  def get(self, index):\n",
    "    if index >= len(self.arr):\n",
    "      return math.inf\n",
    "    return self.arr[index]\n",
    "\n",
    "\n",
    "def search_in_infinite_array(reader, key):\n",
    "  # find the proper bounds first\n",
    "  start, end = 0, 1\n",
    "  while reader.get(end) < key:\n",
    "    newStart = end + 1\n",
    "    end += (end - start + 1) * 2\n",
    "    # increase to double the bounds size\n",
    "    start = newStart\n",
    "\n",
    "  return binary_search(reader, key, start, end)\n",
    "\n",
    "\n",
    "def binary_search(reader, key, start, end):\n",
    "  while start <= end:\n",
    "    mid = start + (end - start) // 2\n",
    "    if key < reader.get(mid):\n",
    "      end = mid - 1\n",
    "    elif key > reader.get(mid):\n",
    "      start = mid + 1\n",
    "    else:  # found the key\n",
    "      return mid\n",
    "\n",
    "  return -1\n",
    "\n",
    "\n",
    "reader = ArrayReader([4, 6, 8, 10, 12, 14, 16, 18, 20, 22, 24, 26, 28, 30])\n",
    "print(search_in_infinite_array(reader, 16))\n",
    "print(search_in_infinite_array(reader, 11))\n",
    "reader = ArrayReader([1, 3, 8, 10, 15])\n",
    "print(search_in_infinite_array(reader, 15))\n",
    "print(search_in_infinite_array(reader, 200))\n",
    "\n"
   ]
  },
  {
   "cell_type": "code",
   "execution_count": 1,
   "metadata": {
    "vscode": {
     "languageId": "ruby"
    }
   },
   "outputs": [
    {
     "name": "stdout",
     "output_type": "stream",
     "text": [
      "6\n",
      "4\n",
      "10\n",
      "10\n"
     ]
    }
   ],
   "source": [
    "def search_min_diff_element(arr, key):\n",
    "  if key < arr[0]:\n",
    "    return arr[0]\n",
    "  n = len(arr)\n",
    "  if key > arr[n - 1]:\n",
    "    return arr[n - 1]\n",
    "\n",
    "  start, end = 0, n - 1\n",
    "  while start <= end:\n",
    "    mid = start + (end - start) // 2\n",
    "    if key < arr[mid]:\n",
    "      end = mid - 1\n",
    "    elif key > arr[mid]:\n",
    "      start = mid + 1\n",
    "    else:\n",
    "      return arr[mid]\n",
    "\n",
    "  # at the end of the while loop, 'start == end+1'\n",
    "  # we are not able to find the element in the given array\n",
    "  # return the element which is closest to the 'key'\n",
    "  if (arr[start] - key) < (key - arr[end]):\n",
    "    return arr[start]\n",
    "  return arr[end]\n",
    "\n",
    "print(search_min_diff_element([4, 6, 10], 7))\n",
    "print(search_min_diff_element([4, 6, 10], 4))\n",
    "print(search_min_diff_element([1, 3, 8, 10, 15], 12))\n",
    "print(search_min_diff_element([4, 6, 10], 17))\n"
   ]
  },
  {
   "cell_type": "code",
   "execution_count": 3,
   "metadata": {
    "vscode": {
     "languageId": "ruby"
    }
   },
   "outputs": [
    {
     "name": "stdout",
     "output_type": "stream",
     "text": [
      "12\n",
      "8\n",
      "12\n",
      "10\n"
     ]
    }
   ],
   "source": [
    "def find_max_in_bitonic_array(arr):\n",
    "  start, end = 0, len(arr) - 1\n",
    "  while start < end:\n",
    "    mid = start + (end - start) // 2\n",
    "    if arr[mid] > arr[mid + 1]:\n",
    "      end = mid\n",
    "    else:\n",
    "      start = mid + 1\n",
    "\n",
    "  # at the end of the while loop, 'start == end'\n",
    "  return arr[start]\n",
    "\n",
    "\n",
    "print(find_max_in_bitonic_array([1, 3, 8, 12, 4, 2]))\n",
    "print(find_max_in_bitonic_array([3, 8, 3, 1]))\n",
    "print(find_max_in_bitonic_array([1, 3, 8, 12]))\n",
    "print(find_max_in_bitonic_array([10, 9, 8]))\n",
    "\n"
   ]
  },
  {
   "cell_type": "code",
   "execution_count": 5,
   "metadata": {
    "vscode": {
     "languageId": "ruby"
    }
   },
   "outputs": [
    {
     "name": "stdout",
     "output_type": "stream",
     "text": [
      "3\n",
      "1\n",
      "3\n",
      "0\n"
     ]
    }
   ],
   "source": [
    "#SEarch bitonis array medium\n",
    "\n",
    "def search_bitonic_array(arr, key):\n",
    "  maxIndex = find_max(arr)\n",
    "  keyIndex = binary_search(arr, key, 0, maxIndex)\n",
    "  if keyIndex != -1:\n",
    "    return keyIndex\n",
    "  return binary_search(arr, key, maxIndex + 1, len(arr) - 1)\n",
    "\n",
    "\n",
    "# find index of the maximum value in a bitonic array\n",
    "def find_max(arr):\n",
    "  start, end = 0, len(arr) - 1\n",
    "  while start < end:\n",
    "    mid = start + (end - start) // 2\n",
    "    if arr[mid] > arr[mid + 1]:\n",
    "      end = mid\n",
    "    else:\n",
    "      start = mid + 1\n",
    "\n",
    "  # at the end of the while loop, 'start == end'\n",
    "  return start\n",
    "\n",
    "\n",
    "# order-agnostic binary search\n",
    "def binary_search(arr, key, start, end):\n",
    "  while start <= end:\n",
    "    mid = int(start + (end - start) / 2)\n",
    "\n",
    "    if key == arr[mid]:\n",
    "      return mid\n",
    "\n",
    "    if arr[start] < arr[end]:  # ascending order\n",
    "      if key < arr[mid]:\n",
    "        end = mid - 1\n",
    "      else:  # key > arr[mid]\n",
    "        start = mid + 1\n",
    "    else:  # descending order\n",
    "      if key > arr[mid]:\n",
    "        end = mid - 1\n",
    "      else:  # key < arr[mid]\n",
    "        start = mid + 1\n",
    "\n",
    "  return -1  # element is not found\n",
    "\n",
    "\n",
    "print(search_bitonic_array([1, 3, 8, 4, 3], 4))\n",
    "print(search_bitonic_array([3, 8, 3, 1], 8))\n",
    "print(search_bitonic_array([1, 3, 8, 12], 12))\n",
    "print(search_bitonic_array([10, 9, 8], 10))\n"
   ]
  },
  {
   "cell_type": "code",
   "execution_count": 7,
   "metadata": {
    "vscode": {
     "languageId": "ruby"
    }
   },
   "outputs": [
    {
     "name": "stdout",
     "output_type": "stream",
     "text": [
      "1\n",
      "4\n"
     ]
    }
   ],
   "source": [
    "#Search in rotated arry medium\n",
    "\n",
    "def search_rotated_array(arr, key):\n",
    "  start, end = 0, len(arr) - 1\n",
    "  while start <= end:\n",
    "    mid = start + (end - start) // 2\n",
    "    if arr[mid] == key:\n",
    "      return mid\n",
    "\n",
    "    if arr[start] <= arr[mid]:  # left side is sorted in ascending order\n",
    "      if key >= arr[start] and key < arr[mid]:\n",
    "        end = mid - 1\n",
    "      else:  # key > arr[mid]\n",
    "        start = mid + 1\n",
    "    else:  # right side is sorted in ascending order\n",
    "      if key > arr[mid] and key <= arr[end]:\n",
    "        start = mid + 1\n",
    "      else:\n",
    "        end = mid - 1\n",
    "\n",
    "  # we are not able to find the element in the given array\n",
    "  return -1\n",
    "\n",
    "print(search_rotated_array([10, 15, 1, 3, 8], 15))\n",
    "print(search_rotated_array([4, 5, 7, 9, 10, -1, 2], 10))\n"
   ]
  },
  {
   "cell_type": "code",
   "execution_count": 8,
   "metadata": {
    "vscode": {
     "languageId": "ruby"
    }
   },
   "outputs": [
    {
     "name": "stdout",
     "output_type": "stream",
     "text": [
      "2\n",
      "5\n",
      "0\n"
     ]
    }
   ],
   "source": [
    "#Rotation count medium\n",
    "\n",
    "def count_rotations(arr):\n",
    "  start, end = 0, len(arr) - 1\n",
    "  while start < end:\n",
    "    mid = start + (end - start) // 2\n",
    "\n",
    "    # if mid is greater than the next element\n",
    "    if mid < end and arr[mid] > arr[mid + 1]:\n",
    "      return mid + 1\n",
    "\n",
    "    # if mid is smaller than the previous element\n",
    "    if mid > start and arr[mid - 1] > arr[mid]:\n",
    "      return mid\n",
    "\n",
    "    if arr[start] < arr[mid]:  # left side is sorted, so the pivot is on right side\n",
    "      start = mid + 1\n",
    "    else:  # right side is sorted, so the pivot is on the left side\n",
    "      end = mid - 1\n",
    "\n",
    "  return 0  # the array has not been rotated\n",
    "\n",
    "\n",
    "print(count_rotations([10, 15, 1, 3, 8]))\n",
    "print(count_rotations([4, 5, 7, 9, 10, -1, 2]))\n",
    "print(count_rotations([1, 3, 8, 10]))\n",
    "\n"
   ]
  }
 ],
 "metadata": {
  "interpreter": {
   "hash": "b0fa6594d8f4cbf19f97940f81e996739fb7646882a419484c72d19e05852a7e"
  },
  "kernelspec": {
   "display_name": "Python 3.9.10 64-bit",
   "language": "python",
   "name": "python3"
  },
  "language_info": {
   "codemirror_mode": {
    "name": "ipython",
    "version": 3
   },
   "file_extension": ".py",
   "mimetype": "text/x-python",
   "name": "python",
   "nbconvert_exporter": "python",
   "pygments_lexer": "ipython3",
   "version": "3.9.13"
  },
  "orig_nbformat": 4
 },
 "nbformat": 4,
 "nbformat_minor": 2
}
