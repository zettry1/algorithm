{
 "cells": [
  {
   "cell_type": "code",
   "execution_count": null,
   "metadata": {
    "vscode": {
     "languageId": "ruby"
    }
   },
   "outputs": [],
   "source": [
    "#Introduction\n",
    "# Huge number of coding interview problems involce dealing\n",
    "# with Permuations and Combinations of give set of elements.\n",
    "# This pattern describes an efficient BFS approach to handl all the\n",
    "# problems. Let's jump onto our first problem."
   ]
  },
  {
   "cell_type": "code",
   "execution_count": 5,
   "metadata": {
    "vscode": {
     "languageId": "ruby"
    }
   },
   "outputs": [
    {
     "name": "stdout",
     "output_type": "stream",
     "text": [
      "n:1\n",
      "[1]\n",
      "n:2\n",
      "[3]\n",
      "[1, 3]\n",
      "Here is the list of subsets: [[], [1], [3], [1, 3]]\n",
      "n:1\n",
      "[1]\n",
      "n:2\n",
      "[5]\n",
      "[1, 5]\n",
      "n:4\n",
      "[3]\n",
      "[1, 3]\n",
      "[5, 3]\n",
      "[1, 5, 3]\n",
      "Here is the list of subsets: [[], [1], [5], [1, 5], [3], [1, 3], [5, 3], [1, 5, 3]]\n"
     ]
    }
   ],
   "source": [
    "#given set with distinct elements, find all of its distinct subsets.\n",
    "\n",
    "def find_subsets(nums):\n",
    "    subsets = []\n",
    "    subsets.append([])\n",
    "    for currentNumber in nums:\n",
    "        n = len(subsets)\n",
    "        print('n:'+str(n))\n",
    "        for i in range(n):\n",
    "            set1 = list(subsets[i])\n",
    "\n",
    "            set1.append(currentNumber)\n",
    "            print(set1)\n",
    "            subsets.append(set1)\n",
    "    return subsets\n",
    "\n",
    "print(\"Here is the list of subsets: \" + str(find_subsets([1, 3])))\n",
    "print(\"Here is the list of subsets: \" + str(find_subsets([1, 5, 3])))\n"
   ]
  },
  {
   "cell_type": "code",
   "execution_count": 9,
   "metadata": {
    "vscode": {
     "languageId": "ruby"
    }
   },
   "outputs": [
    {
     "name": "stdout",
     "output_type": "stream",
     "text": [
      "Here is the list of subsets: [[], [1], [3], [1, 3], [3], [1, 3], [3, 3], [1, 3, 3]]\n",
      "Here is the list of subsets: [[], [1], [3], [1, 3], [3], [1, 3], [3, 3], [1, 3, 3], [5], [1, 5], [3, 5], [1, 3, 5], [3, 5], [1, 3, 5], [3, 3, 5], [1, 3, 3, 5]]\n"
     ]
    }
   ],
   "source": [
    "#given a set of numbers that might contain duplicates, \n",
    "#find all of its distinct subsets.\n",
    "def find_subsets(nums):\n",
    "    list.sort(nums)\n",
    "    subsets = []\n",
    "    subsets.append([])\n",
    "    startIndex, endIndex = 0, 0\n",
    "    for i in range(len(nums)):\n",
    "        startIndex = 0\n",
    "        # if current and the previous elements are same, create new subsets only from the subsets\n",
    "        # added in the previous step\n",
    "        if i > 0 and nums[i] == nums[i - 1]:\n",
    "            startIndex = endIndex + 1\n",
    "        endIndex = len(subsets) - 1\n",
    "        for j in range(startIndex, endIndex+1):\n",
    "            # create a new subset from the existing subset and add the current element to it\n",
    "            set1 = list(subsets[j])\n",
    "            set1.append(nums[i])\n",
    "            subsets.append(set1)\n",
    "    return subsets\n",
    "\n",
    "print(\"Here is the list of subsets: \" + str(find_subsets([1, 3, 3])))\n",
    "print(\"Here is the list of subsets: \" + str(find_subsets([1, 5, 3, 3])))\n"
   ]
  },
  {
   "cell_type": "code",
   "execution_count": null,
   "metadata": {
    "vscode": {
     "languageId": "ruby"
    }
   },
   "outputs": [],
   "source": []
  }
 ],
 "metadata": {
  "interpreter": {
   "hash": "b0fa6594d8f4cbf19f97940f81e996739fb7646882a419484c72d19e05852a7e"
  },
  "kernelspec": {
   "display_name": "Python 3.9.10 64-bit",
   "language": "python",
   "name": "python3"
  },
  "language_info": {
   "codemirror_mode": {
    "name": "ipython",
    "version": 3
   },
   "file_extension": ".py",
   "mimetype": "text/x-python",
   "name": "python",
   "nbconvert_exporter": "python",
   "pygments_lexer": "ipython3",
   "version": "3.9.10"
  },
  "orig_nbformat": 4
 },
 "nbformat": 4,
 "nbformat_minor": 2
}
