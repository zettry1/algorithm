{
 "cells": [
  {
   "cell_type": "code",
   "execution_count": null,
   "metadata": {
    "vscode": {
     "languageId": "ruby"
    }
   },
   "outputs": [],
   "source": [
    "#Introduction\n",
    "# Huge number of coding interview problems involce dealing\n",
    "# with Permuations and Combinations of give set of elements.\n",
    "# This pattern describes an efficient BFS approach to handl all the\n",
    "# problems. Let's jump onto our first problem."
   ]
  },
  {
   "cell_type": "code",
   "execution_count": 5,
   "metadata": {
    "vscode": {
     "languageId": "ruby"
    }
   },
   "outputs": [
    {
     "name": "stdout",
     "output_type": "stream",
     "text": [
      "n:1\n",
      "[1]\n",
      "n:2\n",
      "[3]\n",
      "[1, 3]\n",
      "Here is the list of subsets: [[], [1], [3], [1, 3]]\n",
      "n:1\n",
      "[1]\n",
      "n:2\n",
      "[5]\n",
      "[1, 5]\n",
      "n:4\n",
      "[3]\n",
      "[1, 3]\n",
      "[5, 3]\n",
      "[1, 5, 3]\n",
      "Here is the list of subsets: [[], [1], [5], [1, 5], [3], [1, 3], [5, 3], [1, 5, 3]]\n"
     ]
    }
   ],
   "source": [
    "#given set with distinct elements, find all of its distinct subsets.\n",
    "\n",
    "def find_subsets(nums):\n",
    "    subsets = []\n",
    "    subsets.append([])\n",
    "    for currentNumber in nums:\n",
    "        n = len(subsets)\n",
    "        print('n:'+str(n))\n",
    "        for i in range(n):\n",
    "            set1 = list(subsets[i])\n",
    "\n",
    "            set1.append(currentNumber)\n",
    "            print(set1)\n",
    "            subsets.append(set1)\n",
    "    return subsets\n",
    "\n",
    "print(\"Here is the list of subsets: \" + str(find_subsets([1, 3])))\n",
    "print(\"Here is the list of subsets: \" + str(find_subsets([1, 5, 3])))\n"
   ]
  },
  {
   "cell_type": "code",
   "execution_count": 10,
   "metadata": {
    "vscode": {
     "languageId": "ruby"
    }
   },
   "outputs": [
    {
     "name": "stdout",
     "output_type": "stream",
     "text": [
      "Here is the list of subsets: [[], [1], [3], [1, 3], [3, 3], [1, 3, 3]]\n",
      "Here is the list of subsets: [[], [1], [3], [1, 3], [3, 3], [1, 3, 3], [5], [1, 5], [3, 5], [1, 3, 5], [3, 3, 5], [1, 3, 3, 5]]\n"
     ]
    }
   ],
   "source": [
    "#given a set of numbers that might contain duplicates, \n",
    "#find all of its distinct subsets.\n",
    "def find_subsets(nums):\n",
    "    list.sort(nums)\n",
    "    subsets = []\n",
    "    subsets.append([])\n",
    "    startIndex, endIndex = 0, 0\n",
    "    for i in range(len(nums)):\n",
    "        startIndex = 0\n",
    "        # if current and the previous elements are same, \n",
    "        #create new subsets only from the subsets\n",
    "        # added in the previous step\n",
    "        if i > 0 and nums[i] == nums[i - 1]:\n",
    "            startIndex = endIndex + 1\n",
    "        endIndex = len(subsets) - 1\n",
    "        for j in range(startIndex, endIndex+1):\n",
    "            # create a new subset from the existing subset and add the current element to it\n",
    "            set1 = list(subsets[j])\n",
    "            set1.append(nums[i])\n",
    "            subsets.append(set1)\n",
    "    return subsets\n",
    "\n",
    "print(\"Here is the list of subsets: \" + str(find_subsets([1, 3, 3])))\n",
    "print(\"Here is the list of subsets: \" + str(find_subsets([1, 5, 3, 3])))\n"
   ]
  },
  {
   "cell_type": "code",
   "execution_count": 21,
   "metadata": {
    "vscode": {
     "languageId": "ruby"
    }
   },
   "outputs": [
    {
     "name": "stdout",
     "output_type": "stream",
     "text": [
      "permutationsdeque([[]])1\n",
      "newPermutation[1]\n",
      "permutationsdeque([[1]])3\n",
      "newPermutation[3, 1]\n",
      "newPermutation[1, 3]\n",
      "All permutations[[3, 1], [1, 3]]\n"
     ]
    }
   ],
   "source": [
    "#Permutations medium\n",
    "from collections import deque\n",
    "#O(n*n!)| O(n*n!)\n",
    "def find_permutations(nums):\n",
    "    numLength = len(nums)\n",
    "    result = []\n",
    "    permutations = deque()\n",
    "    permutations.append([])\n",
    "    for currentNumer in nums:\n",
    "        n = len(permutations)\n",
    "        for _ in range(n):\n",
    "            print('permutations'+str(permutations)+str(currentNumer))\n",
    "            oldPermutations = permutations.popleft()\n",
    "            # print(oldPermutations)\n",
    "            for j in range(len(oldPermutations)+1):\n",
    "                newPermutation = list(oldPermutations)\n",
    "                newPermutation.insert(j,currentNumer)\n",
    "                print('newPermutation'+str(newPermutation))\n",
    "                if len(newPermutation)==numLength:\n",
    "                    result.append(newPermutation)\n",
    "                else:\n",
    "                    permutations.append(newPermutation)\n",
    "    return result\n",
    "\n",
    "\n",
    "print('All permutations'+str(find_permutations([1,3])))\n"
   ]
  },
  {
   "cell_type": "code",
   "execution_count": 29,
   "metadata": {
    "vscode": {
     "languageId": "ruby"
    }
   },
   "outputs": [
    {
     "name": "stdout",
     "output_type": "stream",
     "text": [
      "1\n",
      "1\n",
      "2\n",
      "Str permutations are:['ad52', 'Ad52', 'aD52', 'AD52']\n",
      "1\n",
      "1\n",
      "2\n",
      "4\n",
      "Str permutations are:['ab7c', 'Ab7c', 'aB7c', 'AB7c', 'ab7C', 'Ab7C', 'aB7C', 'AB7C']\n"
     ]
    }
   ],
   "source": [
    "#Givn string find all its permutations preserving the character \n",
    "#sequence but changing case\n",
    "#Medium problem\n",
    "#O(n*2^n) | O(n*2^n)\n",
    "def find_letter_case_string_permutations(str):\n",
    "    permutations=[]\n",
    "    permutations.append(str)\n",
    "    print(len(permutations))\n",
    "    for i in range(len(str)):\n",
    "        if str[i].isalpha():\n",
    "            n = len(permutations)\n",
    "            print(n)\n",
    "            for j in range(n):\n",
    "                chs=list(permutations[j])\n",
    "                chs[i] = chs[i].swapcase()\n",
    "                permutations.append(''.join(chs))\n",
    "\n",
    "    return permutations\n",
    "\n",
    "\n",
    "print(\"Str permutations are:\"+str(find_letter_case_string_permutations(\"ad52\")))\n",
    "print(\"Str permutations are:\"+str(find_letter_case_string_permutations(\"ab7c\")))"
   ]
  },
  {
   "cell_type": "code",
   "execution_count": 31,
   "metadata": {
    "vscode": {
     "languageId": "ruby"
    }
   },
   "outputs": [
    {
     "name": "stdout",
     "output_type": "stream",
     "text": [
      "All combinations of balanced parentheses are: ['(())', '()()']\n",
      "All combinations of balanced parentheses are: ['((()))', '(()())', '(())()', '()(())', '()()()']\n"
     ]
    }
   ],
   "source": [
    "\n",
    "from collections import deque\n",
    "\n",
    "\n",
    "class ParenthesesString:\n",
    "  def __init__(self, str, openCount, closeCount):\n",
    "    self.str = str\n",
    "    self.openCount = openCount\n",
    "    self.closeCount = closeCount\n",
    "\n",
    "\n",
    "def generate_valid_parentheses(num):\n",
    "  result = []\n",
    "  queue = deque()\n",
    "  queue.append(ParenthesesString(\"\", 0, 0))\n",
    "  while queue:\n",
    "    ps = queue.popleft()\n",
    "    # if we've reached the maximum number of open and close parentheses, add to the result\n",
    "    if ps.openCount == num and ps.closeCount == num:\n",
    "      result.append(ps.str)\n",
    "    else:\n",
    "      if ps.openCount < num:  # if we can add an open parentheses, add it\n",
    "        queue.append(ParenthesesString(\n",
    "          ps.str + \"(\", ps.openCount + 1, ps.closeCount))\n",
    "\n",
    "      if ps.openCount > ps.closeCount:  # if we can add a close parentheses, add it\n",
    "        queue.append(ParenthesesString(ps.str + \")\",\n",
    "                                       ps.openCount, ps.closeCount + 1))\n",
    "\n",
    "  return result\n",
    "\n",
    "\n",
    "print(\"All combinations of balanced parentheses are: \" +\n",
    "    str(generate_valid_parentheses(2)))\n",
    "print(\"All combinations of balanced parentheses are: \" +\n",
    "    str(generate_valid_parentheses(3)))\n",
    "\n"
   ]
  },
  {
   "cell_type": "code",
   "execution_count": 34,
   "metadata": {
    "vscode": {
     "languageId": "ruby"
    }
   },
   "outputs": [
    {
     "name": "stdout",
     "output_type": "stream",
     "text": [
      "Generalized abbreviation are: ['3', '2T', '1A1', '1AT', 'B2', 'B1T', 'BA1', 'BAT']\n",
      "Generalized abbreviation are: ['4', '3e', '2d1', '2de', '1o2', '1o1e', '1od1', '1ode', 'c3', 'c2e', 'c1d1', 'c1de', 'co2', 'co1e', 'cod1', 'code']\n",
      "Generalized abbreviation are: ['3', '2T', '1A1', '1AT', 'B2', 'B1T', 'BA1', 'BAT']\n",
      "Generalized abbreviation are: ['4', '3e', '2d1', '2de', '1o2', '1o1e', '1od1', '1ode', 'c3', 'c2e', 'c1d1', 'c1de', 'co2', 'co1e', 'cod1', 'code']\n"
     ]
    }
   ],
   "source": [
    "#Unique Generalized abbreviation hard\n",
    "#given word write a function generate all of its unique generalized abbreviations\n",
    "#Generalized abbreviation of a word can be generated by replacing each\n",
    "#substring. Take the xample of \"ab\" which has four substring: \"\",\"a\",\"b\"\n",
    "#and \"ab\". After replacing these substrings in the actual word by the count\n",
    "#of characters, we get all the generalized abbreviations:\"ab\",\"1b\",\"a1\",\"2\".\n",
    "\n",
    "#O(n*2^n)| O(n*2^n)\n",
    "\n",
    "def generate_generalized_abbreviation(word):\n",
    "  result = []\n",
    "  generate_abbreviation_recursive(word, list(), 0, 0, result)\n",
    "  return result\n",
    "\n",
    "\n",
    "def generate_abbreviation_recursive(word, abWord, start, count, result):\n",
    "\n",
    "  if start == len(word):\n",
    "    if count != 0:\n",
    "      abWord.append(str(count))\n",
    "    result.append(''.join(abWord))\n",
    "  else:\n",
    "    # continue abbreviating by incrementing the current abbreviation count\n",
    "    generate_abbreviation_recursive(\n",
    "      word, list(abWord), start + 1, count + 1, result)\n",
    "\n",
    "    # restart abbreviating, append the count and the current character to the string\n",
    "    if count != 0:\n",
    "      abWord.append(str(count))\n",
    "    newWord = list(abWord)\n",
    "    newWord.append(word[start])\n",
    "    generate_abbreviation_recursive(word, newWord, start + 1, 0, result)\n",
    "\n",
    "\n",
    "print(\"Generalized abbreviation are: \" +\n",
    "    str(generate_generalized_abbreviation(\"BAT\")))\n",
    "print(\"Generalized abbreviation are: \" +\n",
    "    str(generate_generalized_abbreviation(\"code\")))\n",
    "\n",
    "\n",
    "\n",
    "\n",
    "from collections import deque\n",
    "\n",
    "\n",
    "class AbbreviatedWord:\n",
    "\n",
    "  def __init__(self, str, start,  count):\n",
    "    self.str = str\n",
    "    self.start = start\n",
    "    self.count = count\n",
    "\n",
    "\n",
    "def generate_generalized_abbreviation(word):\n",
    "  wordLen = len(word)\n",
    "  result = []\n",
    "  queue = deque()\n",
    "  queue.append(AbbreviatedWord(list(), 0, 0))\n",
    "  while queue:\n",
    "    abWord = queue.popleft()\n",
    "    if abWord.start == wordLen:\n",
    "      if abWord.count != 0:\n",
    "        abWord.str.append(str(abWord.count))\n",
    "      result.append(''.join(abWord.str))\n",
    "    else:\n",
    "      # continue abbreviating by incrementing the current abbreviation count\n",
    "      queue.append(AbbreviatedWord(list(abWord.str),\n",
    "                                   abWord.start + 1, abWord.count + 1))\n",
    "\n",
    "      # restart abbreviating, append the count and the current character to the string\n",
    "      if abWord.count != 0:\n",
    "        abWord.str.append(str(abWord.count))\n",
    "\n",
    "      newWord = list(abWord.str)\n",
    "      newWord.append(word[abWord.start])\n",
    "      queue.append(AbbreviatedWord(newWord, abWord.start + 1, 0))\n",
    "\n",
    "  return result\n",
    "\n",
    "\n",
    "print(\"Generalized abbreviation are: \" +\n",
    "    str(generate_generalized_abbreviation(\"BAT\")))\n",
    "print(\"Generalized abbreviation are: \" +\n",
    "    str(generate_generalized_abbreviation(\"code\")))\n",
    "\n",
    "\n"
   ]
  },
  {
   "cell_type": "code",
   "execution_count": 36,
   "metadata": {
    "vscode": {
     "languageId": "ruby"
    }
   },
   "outputs": [
    {
     "name": "stdout",
     "output_type": "stream",
     "text": [
      "Expression evaluations: [7, 9]\n",
      "Expression evaluations: [8, -12, 7, -7, -3]\n"
     ]
    }
   ],
   "source": [
    "#Evaluate Expression (hard)\n",
    "#\n",
    "def diff_ways_to_evaluate_expression(input):\n",
    "  result = []\n",
    "  # base case: if the input string is a number, parse and add it to output.\n",
    "  if '+' not in input and '-' not in input and '*' not in input:\n",
    "    result.append(int(input))\n",
    "  else:\n",
    "    for i in range(0, len(input)):\n",
    "      char = input[i]\n",
    "      if not char.isdigit():\n",
    "        # break the equation here into two parts and make recursively calls\n",
    "        leftParts = diff_ways_to_evaluate_expression(input[0:i])\n",
    "        rightParts = diff_ways_to_evaluate_expression(input[i+1:])\n",
    "        for part1 in leftParts:\n",
    "          for part2 in rightParts:\n",
    "            if char == '+':\n",
    "              result.append(part1 + part2)\n",
    "            elif char == '-':\n",
    "              result.append(part1 - part2)\n",
    "            elif char == '*':\n",
    "              result.append(part1 * part2)\n",
    "\n",
    "  return result\n",
    "\n",
    "\n",
    "print(\"Expression evaluations: \" +\n",
    "    str(diff_ways_to_evaluate_expression(\"1+2*3\")))\n",
    "\n",
    "print(\"Expression evaluations: \" +\n",
    "    str(diff_ways_to_evaluate_expression(\"2*3-4-5\")))\n",
    "\n",
    "\n"
   ]
  },
  {
   "cell_type": "code",
   "execution_count": 38,
   "metadata": {
    "vscode": {
     "languageId": "ruby"
    }
   },
   "outputs": [
    {
     "name": "stdout",
     "output_type": "stream",
     "text": [
      "Total trees: 2\n",
      "Total trees: 5\n"
     ]
    }
   ],
   "source": [
    "#Structurally Unique Binary Search Trees (hard)#\n",
    "\n",
    "#Given num n, write a function to return all structurally unique\n",
    "#binary serach trees that can store values 1 to n?\n",
    "\n",
    "#Approx O(n*2^n)| O(2^n), O(4^n/root(n))\n",
    "class TreeNode:\n",
    "  def __init__(self, val):\n",
    "    self.val = val\n",
    "    self.left = None\n",
    "    self.right = None\n",
    "\n",
    "\n",
    "def find_unique_trees(n):\n",
    "  if n <= 0:\n",
    "    return []\n",
    "  return findUnique_trees_recursive(1, n)\n",
    "\n",
    "\n",
    "def findUnique_trees_recursive(start, end):\n",
    "  result = []\n",
    "  # base condition, return 'None' for an empty sub-tree\n",
    "  # consider n = 1, in this case we will have start = end = 1, this means we should have only one tree\n",
    "  # we will have two recursive calls, findUniqueTreesRecursive(1, 0) & (2, 1)\n",
    "  # both of these should return 'None' for the left and the right child\n",
    "  if start > end:\n",
    "    result.append(None)\n",
    "    return result\n",
    "\n",
    "  for i in range(start, end+1):\n",
    "    # making 'i' the root of the tree\n",
    "    leftSubtrees = findUnique_trees_recursive(start, i - 1)\n",
    "    rightSubtrees = findUnique_trees_recursive(i + 1, end)\n",
    "    for leftTree in leftSubtrees:\n",
    "      for rightTree in rightSubtrees:\n",
    "        root = TreeNode(i)\n",
    "        root.left = leftTree\n",
    "        root.right = rightTree\n",
    "        result.append(root)\n",
    "\n",
    "  return result\n",
    "\n",
    "\n",
    "\n",
    "print(\"Total trees: \" + str(len(find_unique_trees(2))))\n",
    "print(\"Total trees: \" + str(len(find_unique_trees(3))))\n",
    "\n"
   ]
  },
  {
   "cell_type": "code",
   "execution_count": 39,
   "metadata": {
    "vscode": {
     "languageId": "ruby"
    }
   },
   "outputs": [
    {
     "name": "stdout",
     "output_type": "stream",
     "text": [
      "Total trees: 2\n",
      "Total trees: 5\n"
     ]
    }
   ],
   "source": [
    "#Count of Structurally Unique Binary Search Trees (hard)\n",
    "\n",
    "\n",
    "class TreeNode:\n",
    "  def __init__(self, val):\n",
    "    self.val = val\n",
    "    self.left = None\n",
    "    self.right = None\n",
    "\n",
    "\n",
    "def count_trees(n):\n",
    "  if n <= 1:\n",
    "    return 1\n",
    "  count = 0\n",
    "  for i in range(1, n+1):\n",
    "    # making 'i' root of the tree\n",
    "    countOfLeftSubtrees = count_trees(i - 1)\n",
    "    countOfRightSubtrees = count_trees(n - i)\n",
    "    count += (countOfLeftSubtrees * countOfRightSubtrees)\n",
    "\n",
    "  return count\n",
    "\n",
    "print(\"Total trees: \" + str(count_trees(2)))\n",
    "print(\"Total trees: \" + str(count_trees(3)))\n",
    "\n",
    "\n",
    "\n",
    "\n",
    "\n",
    "\n"
   ]
  }
 ],
 "metadata": {
  "interpreter": {
   "hash": "b0fa6594d8f4cbf19f97940f81e996739fb7646882a419484c72d19e05852a7e"
  },
  "kernelspec": {
   "display_name": "Python 3.9.10 64-bit",
   "language": "python",
   "name": "python3"
  },
  "language_info": {
   "codemirror_mode": {
    "name": "ipython",
    "version": 3
   },
   "file_extension": ".py",
   "mimetype": "text/x-python",
   "name": "python",
   "nbconvert_exporter": "python",
   "pygments_lexer": "ipython3",
   "version": "3.9.13"
  },
  "orig_nbformat": 4
 },
 "nbformat": 4,
 "nbformat_minor": 2
}
