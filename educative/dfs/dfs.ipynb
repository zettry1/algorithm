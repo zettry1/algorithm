{
 "cells": [
  {
   "cell_type": "code",
   "execution_count": 3,
   "metadata": {
    "vscode": {
     "languageId": "ruby"
    }
   },
   "outputs": [
    {
     "name": "stdout",
     "output_type": "stream",
     "text": [
      "Tree has path: True\n",
      "Tree has path: False\n"
     ]
    }
   ],
   "source": [
    "#Binary tree path sum easy\n",
    "\n",
    "class TreeNode:\n",
    "    def __init__(self,val,left=None,right=None):\n",
    "        self.val=val\n",
    "        self.left=left\n",
    "        self.right=right\n",
    "\n",
    "def has_path(root,sum):\n",
    "    if root is None:\n",
    "        return False\n",
    "    if root.val == sum and root.left is None and root.right is None:\n",
    "        return True\n",
    "    return has_path(root.left,sum-root.val) or has_path(root.right,sum-root.val)\n",
    "\n",
    "\n",
    "root = TreeNode(12)\n",
    "root.left = TreeNode(7)\n",
    "root.right = TreeNode(1)\n",
    "root.left.left = TreeNode(9)\n",
    "root.right.left = TreeNode(10)\n",
    "root.right.right = TreeNode(5)\n",
    "print(\"Tree has path: \" + str(has_path(root, 23)))\n",
    "print(\"Tree has path: \" + str(has_path(root, 16)))\n",
    "\n"
   ]
  },
  {
   "cell_type": "code",
   "execution_count": 9,
   "metadata": {
    "vscode": {
     "languageId": "ruby"
    }
   },
   "outputs": [
    {
     "name": "stdout",
     "output_type": "stream",
     "text": [
      "[12, 7, 4]\n",
      "[12, 7]\n",
      "[12, 1, 10]\n",
      "[12, 1, 5]\n",
      "[12, 1]\n",
      "[12]\n",
      "Tree paths with required_sum 23: [[12, 7, 4], [12, 1, 10]]\n"
     ]
    }
   ],
   "source": [
    "class TreeNode:\n",
    "    def __init__(self,val,left=None,right=None):\n",
    "        self.val=val\n",
    "        self.left=left\n",
    "        self.right=right\n",
    "\n",
    "def find_paths(root,requires_sum):\n",
    "    allPaths=[]\n",
    "    all_path_sum(root,requires_sum,[],allPaths)\n",
    "    return allPaths\n",
    "\n",
    "def all_path_sum(curNode,required_sum,currentPath,allPaths):\n",
    "    if curNode is None:\n",
    "        return None\n",
    "    currentPath.append(curNode.val)\n",
    "    if required_sum == curNode.val and curNode.left is None and curNode.right is None:\n",
    "        allPaths.append(list(currentPath))\n",
    "    else:\n",
    "\n",
    "        all_path_sum(curNode.left,required_sum-curNode.val,currentPath,allPaths)\n",
    "        all_path_sum(curNode.right,required_sum-curNode.val,currentPath,allPaths)\n",
    "\n",
    "    # remove the current node from the path to backtrack,\n",
    "    # we need to remove the current node while we are going up the recursive call stack.\n",
    "    print(currentPath)\n",
    "    del currentPath[-1]\n",
    "    # print(currentPath)\n",
    "\n",
    "\n",
    "root = TreeNode(12)\n",
    "root.left = TreeNode(7)\n",
    "root.right = TreeNode(1)\n",
    "root.left.left = TreeNode(4)\n",
    "root.right.left = TreeNode(10)\n",
    "root.right.right = TreeNode(5)\n",
    "required_sum = 23\n",
    "print(\"Tree paths with required_sum \" + str(required_sum) +\n",
    "    \": \" + str(find_paths(root, required_sum)))\n",
    "\n"
   ]
  },
  {
   "cell_type": "code",
   "execution_count": 17,
   "metadata": {
    "vscode": {
     "languageId": "ruby"
    }
   },
   "outputs": [
    {
     "name": "stdout",
     "output_type": "stream",
     "text": [
      "1\n",
      "0\n",
      "3\n",
      "1\n",
      "6\n",
      "5\n",
      "Total Sum of Path Numbers: 1\n"
     ]
    }
   ],
   "source": [
    "# Sum of path numbers medium\n",
    "#given binary tree where each node can only have a digit 0-9 value, each root to leaf path will represent a number.\n",
    "# Find the total sum of all the numbers represented by all paths.\n",
    "\n",
    "class TreeNode:\n",
    "    def __init__(self,val,left=None,right=None):\n",
    "        self.val = val\n",
    "        self.left = left\n",
    "        self.right = right\n",
    "\n",
    "def find_sum_of_path_numbers(root):\n",
    "\n",
    "    print(root.val)\n",
    "    if root.left:\n",
    "        find_sum_of_path_numbers(root.left)\n",
    "    if root.right:\n",
    "        find_sum_of_path_numbers(root.right)\n",
    "    return 1\n",
    "\n",
    "root = TreeNode(1)\n",
    "root.left = TreeNode(0)\n",
    "root.right = TreeNode(1)\n",
    "root.left.left = TreeNode(1)\n",
    "root.right.left = TreeNode(6)\n",
    "root.right.right = TreeNode(5)\n",
    "print(\"Total Sum of Path Numbers: \" + str(find_sum_of_path_numbers(root)))\n",
    "\n"
   ]
  }
 ],
 "metadata": {
  "interpreter": {
   "hash": "b0fa6594d8f4cbf19f97940f81e996739fb7646882a419484c72d19e05852a7e"
  },
  "kernelspec": {
   "display_name": "Python 3.9.10 64-bit",
   "language": "python",
   "name": "python3"
  },
  "language_info": {
   "codemirror_mode": {
    "name": "ipython",
    "version": 3
   },
   "file_extension": ".py",
   "mimetype": "text/x-python",
   "name": "python",
   "nbconvert_exporter": "python",
   "pygments_lexer": "ipython3",
   "version": "3.9.10"
  },
  "orig_nbformat": 4
 },
 "nbformat": 4,
 "nbformat_minor": 2
}
