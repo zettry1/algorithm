{
 "cells": [
  {
   "cell_type": "code",
   "execution_count": 3,
   "metadata": {
    "vscode": {
     "languageId": "ruby"
    }
   },
   "outputs": [
    {
     "name": "stdout",
     "output_type": "stream",
     "text": [
      "Tree has path: True\n",
      "Tree has path: False\n"
     ]
    }
   ],
   "source": [
    "#Binary tree path sum easy\n",
    "\n",
    "class TreeNode:\n",
    "    def __init__(self,val,left=None,right=None):\n",
    "        self.val=val\n",
    "        self.left=left\n",
    "        self.right=right\n",
    "\n",
    "def has_path(root,sum):\n",
    "    if root is None:\n",
    "        return False\n",
    "    if root.val == sum and root.left is None and root.right is None:\n",
    "        return True\n",
    "    return has_path(root.left,sum-root.val) or has_path(root.right,sum-root.val)\n",
    "\n",
    "\n",
    "root = TreeNode(12)\n",
    "root.left = TreeNode(7)\n",
    "root.right = TreeNode(1)\n",
    "root.left.left = TreeNode(9)\n",
    "root.right.left = TreeNode(10)\n",
    "root.right.right = TreeNode(5)\n",
    "print(\"Tree has path: \" + str(has_path(root, 23)))\n",
    "print(\"Tree has path: \" + str(has_path(root, 16)))\n",
    "\n"
   ]
  },
  {
   "cell_type": "code",
   "execution_count": 9,
   "metadata": {
    "vscode": {
     "languageId": "ruby"
    }
   },
   "outputs": [
    {
     "name": "stdout",
     "output_type": "stream",
     "text": [
      "[12, 7, 4]\n",
      "[12, 7]\n",
      "[12, 1, 10]\n",
      "[12, 1, 5]\n",
      "[12, 1]\n",
      "[12]\n",
      "Tree paths with required_sum 23: [[12, 7, 4], [12, 1, 10]]\n"
     ]
    }
   ],
   "source": [
    "class TreeNode:\n",
    "    def __init__(self,val,left=None,right=None):\n",
    "        self.val=val\n",
    "        self.left=left\n",
    "        self.right=right\n",
    "\n",
    "def find_paths(root,requires_sum):\n",
    "    allPaths=[]\n",
    "    all_path_sum(root,requires_sum,[],allPaths)\n",
    "    return allPaths\n",
    "\n",
    "def all_path_sum(curNode,required_sum,currentPath,allPaths):\n",
    "    if curNode is None:\n",
    "        return None\n",
    "    currentPath.append(curNode.val)\n",
    "    if required_sum == curNode.val and curNode.left is None and curNode.right is None:\n",
    "        allPaths.append(list(currentPath))\n",
    "    else:\n",
    "\n",
    "        all_path_sum(curNode.left,required_sum-curNode.val,currentPath,allPaths)\n",
    "        all_path_sum(curNode.right,required_sum-curNode.val,currentPath,allPaths)\n",
    "\n",
    "    # remove the current node from the path to backtrack,\n",
    "    # we need to remove the current node while we are going up the recursive call stack.\n",
    "    print(currentPath)\n",
    "    del currentPath[-1]\n",
    "    # print(currentPath)\n",
    "\n",
    "\n",
    "root = TreeNode(12)\n",
    "root.left = TreeNode(7)\n",
    "root.right = TreeNode(1)\n",
    "root.left.left = TreeNode(4)\n",
    "root.right.left = TreeNode(10)\n",
    "root.right.right = TreeNode(5)\n",
    "required_sum = 23\n",
    "print(\"Tree paths with required_sum \" + str(required_sum) +\n",
    "    \": \" + str(find_paths(root, required_sum)))\n",
    "\n"
   ]
  },
  {
   "cell_type": "code",
   "execution_count": 19,
   "metadata": {
    "vscode": {
     "languageId": "ruby"
    }
   },
   "outputs": [
    {
     "name": "stdout",
     "output_type": "stream",
     "text": [
      "Total Sum of Path Numbers: 332\n"
     ]
    }
   ],
   "source": [
    "# Sum of path numbers medium\n",
    "#given binary tree where each node can only have a digit 0-9 value, each root to leaf path will represent a number.\n",
    "# Find the total sum of all the numbers represented by all paths.\n",
    "\n",
    "class TreeNode:\n",
    "    def __init__(self,val,left=None,right=None):\n",
    "        self.val = val\n",
    "        self.left = left\n",
    "        self.right = right\n",
    "\n",
    "def find_sum_of_path_numbers(root):\n",
    "    return find_root_to_leaf_numbers(root,0)\n",
    "\n",
    "def find_root_to_leaf_numbers(curNode,pathSum):\n",
    "    if curNode is None:\n",
    "        return 0\n",
    "    pathSum = 10*pathSum+curNode.val\n",
    "\n",
    "    if curNode.left is None and curNode.right is None:\n",
    "        return pathSum\n",
    "    \n",
    "    return find_root_to_leaf_numbers(curNode.left,pathSum) + find_root_to_leaf_numbers(curNode.right,pathSum)\n",
    "    \n",
    "root = TreeNode(1)\n",
    "root.left = TreeNode(0)\n",
    "root.right = TreeNode(1)\n",
    "root.left.left = TreeNode(1)\n",
    "root.right.left = TreeNode(6)\n",
    "root.right.right = TreeNode(5)\n",
    "print(\"Total Sum of Path Numbers: \" + str(find_sum_of_path_numbers(root)))\n",
    "\n"
   ]
  },
  {
   "cell_type": "code",
   "execution_count": 25,
   "metadata": {
    "vscode": {
     "languageId": "ruby"
    }
   },
   "outputs": [
    {
     "name": "stdout",
     "output_type": "stream",
     "text": [
      "1 0\n",
      "0 1\n",
      "1 2\n",
      "1 1\n",
      "Tree has path:False\n",
      "1 0\n",
      "0 1\n",
      "1 1\n",
      "6 2\n",
      "Tree has path:True\n"
     ]
    }
   ],
   "source": [
    "#Path with given sequence medium\n",
    "\n",
    "#Given binary tree and a number sequence, find if the sequence \n",
    "#is present as a root to leaf path in the given tree.\n",
    "\n",
    "class TreeNode:\n",
    "    def __init__(self,val,left=None,right=None):\n",
    "        self.val = val\n",
    "        self.left = left\n",
    "        self.right = right\n",
    "    \n",
    "\n",
    "def find_path(root,sequece):\n",
    "    if not root:\n",
    "        return len(sequece)==0\n",
    "    \n",
    "    return dfs(root,sequece,0)\n",
    "\n",
    "    \n",
    "def dfs(curNode,sequence,seq_index):\n",
    "    if curNode is None:\n",
    "        return False\n",
    "    seqLen = len(sequence)\n",
    "    print(curNode.val,seq_index)\n",
    "    if seq_index >=seqLen or curNode.val !=sequence[seq_index]:\n",
    "        return False\n",
    "    if curNode.left is None and curNode.right is None and seq_index == seqLen-1:\n",
    "        return True\n",
    "    \n",
    "    \n",
    "    return dfs(curNode.left,sequence,seq_index+1) or  dfs(curNode.right,sequence,seq_index+1)\n",
    "    \n",
    "\n",
    "root = TreeNode(1)\n",
    "root.left = TreeNode(0)\n",
    "root.right = TreeNode(1)\n",
    "root.left.left= TreeNode(1)\n",
    "root.right.left = TreeNode(6)\n",
    "root.right.right = TreeNode(5)\n",
    "\n",
    "print('Tree has path:' + str(find_path(root,[1,0,7])))\n",
    "print('Tree has path:' + str(find_path(root,[1,1,6])))"
   ]
  },
  {
   "cell_type": "code",
   "execution_count": 28,
   "metadata": {
    "vscode": {
     "languageId": "ruby"
    }
   },
   "outputs": [
    {
     "name": "stdout",
     "output_type": "stream",
     "text": [
      "Tree has paths: 2\n"
     ]
    }
   ],
   "source": [
    "# Count paths for a sum medium\n",
    "\n",
    "#given binary tree and number s find all paths in the tree such that the sum of all\n",
    "# the node values of each path equals s. Please note that the paths can start or end at any node but all path\n",
    "# must follow direction from parent to child, top to bottom.\n",
    "\n",
    "class TreeNode:\n",
    "    def __init__(self,val,left=None,right=None):\n",
    "        self.val = val\n",
    "        self.left = left\n",
    "        self.right = right\n",
    "\n",
    "\n",
    "def count_paths(root, S):\n",
    "  return count_paths_recursive(root, S, [])\n",
    "\n",
    "\n",
    "def count_paths_recursive(currentNode, S, currentPath):\n",
    "  if currentNode is None:\n",
    "    return 0\n",
    "\n",
    "  # add the current node to the path\n",
    "  currentPath.append(currentNode.val)\n",
    "  pathCount, pathSum = 0, 0\n",
    "  # find the sums of all sub-paths in the current path list\n",
    "  for i in range(len(currentPath)-1, -1, -1):\n",
    "    pathSum += currentPath[i]\n",
    "    # if the sum of any sub-path is equal to 'S' we increment our path count.\n",
    "    if pathSum == S:\n",
    "      pathCount += 1\n",
    "\n",
    "  # traverse the left sub-tree\n",
    "  pathCount += count_paths_recursive(currentNode.left, S, currentPath)\n",
    "  # traverse the right sub-tree\n",
    "  pathCount += count_paths_recursive(currentNode.right, S, currentPath)\n",
    "\n",
    "  # remove the current node from the path to backtrack\n",
    "  # we need to remove the current node while we are going up the recursive call stack\n",
    "  del currentPath[-1]\n",
    "\n",
    "  return pathCount\n",
    "\n",
    "root = TreeNode(12)\n",
    "root.left = TreeNode(7)\n",
    "root.right = TreeNode(1)\n",
    "root.left.left = TreeNode(4)\n",
    "root.right.left = TreeNode(10)\n",
    "root.right.right = TreeNode(5)\n",
    "print(\"Tree has paths: \" + str(count_paths(root, 11)))\n"
   ]
  },
  {
   "cell_type": "code",
   "execution_count": 32,
   "metadata": {
    "vscode": {
     "languageId": "ruby"
    }
   },
   "outputs": [
    {
     "name": "stdout",
     "output_type": "stream",
     "text": [
      "4\n",
      "2\n",
      "5\n",
      "6\n",
      "3\n",
      "1\n",
      "Tree Diameter: 5\n",
      "2\n",
      "7\n",
      "10\n",
      "8\n",
      "5\n",
      "11\n",
      "9\n",
      "6\n",
      "3\n",
      "1\n",
      "Tree Diameter: 7\n"
     ]
    }
   ],
   "source": [
    "#Tree diameter medium\n",
    "# Find length of its diamater. Longest path between any 2 leav nodes\n",
    "\n",
    "class TreeNode:\n",
    "  def __init__(self, val, left=None, right=None):\n",
    "    self.val = val\n",
    "    self.left = left\n",
    "    self.right = right\n",
    "\n",
    "\n",
    "class TreeDiameter:\n",
    "\n",
    "  def __init__(self):\n",
    "    self.treeDiameter = 0\n",
    "\n",
    "  def find_diameter(self, root):\n",
    "    self.calculate_height(root)\n",
    "    return self.treeDiameter\n",
    "\n",
    "  def calculate_height(self, currentNode):\n",
    "    if currentNode is None:\n",
    "      return 0\n",
    "    \n",
    "    leftTreeHeight = self.calculate_height(currentNode.left)\n",
    "    rightTreeHeight = self.calculate_height(currentNode.right)\n",
    "\n",
    "    print(currentNode.val)\n",
    "    # if the current node doesn't have a left or right subtree, we can't have\n",
    "    # a path passing through it, since we need a leaf node on each side\n",
    "    if leftTreeHeight is not None and rightTreeHeight is not None:\n",
    "\n",
    "      # diameter at the current node will be equal to the height of left subtree +\n",
    "      # the height of right sub-trees + '1' for the current node\n",
    "      diameter = leftTreeHeight + rightTreeHeight + 1\n",
    "\n",
    "      # update the global tree diameter\n",
    "      self.treeDiameter = max(self.treeDiameter, diameter)\n",
    "\n",
    "    # height of the current node will be equal to the maximum of the heights of\n",
    "    # left or right subtrees plus '1' for the current node\n",
    "    return max(leftTreeHeight, rightTreeHeight) + 1\n",
    "\n",
    "\n",
    "treeDiameter = TreeDiameter()\n",
    "root = TreeNode(1)\n",
    "root.left = TreeNode(2)\n",
    "root.right = TreeNode(3)\n",
    "root.left.left = TreeNode(4)\n",
    "root.right.left = TreeNode(5)\n",
    "root.right.right = TreeNode(6)\n",
    "print(\"Tree Diameter: \" + str(treeDiameter.find_diameter(root)))\n",
    "root.left.left = None\n",
    "root.right.left.left = TreeNode(7)\n",
    "root.right.left.right = TreeNode(8)\n",
    "root.right.right.left = TreeNode(9)\n",
    "root.right.left.right.left = TreeNode(10)\n",
    "root.right.right.left.left = TreeNode(11)\n",
    "print(\"Tree Diameter: \" + str(treeDiameter.find_diameter(root)))\n"
   ]
  },
  {
   "cell_type": "code",
   "execution_count": null,
   "metadata": {
    "vscode": {
     "languageId": "ruby"
    }
   },
   "outputs": [],
   "source": [
    "#Path with maximuim sum hard\n",
    "\n",
    "#sequence of nodes between any two nodes\n",
    "\n",
    "import math\n",
    "\n",
    "\n",
    "class TreeNode:\n",
    "  def __init__(self, val, left=None, right=None):\n",
    "    self.val = val\n",
    "    self.left = left\n",
    "    self.right = right\n",
    "\n",
    "\n",
    "class MaximumPathSum:\n",
    "\n",
    "  def find_maximum_path_sum(self, root):\n",
    "    self.globalMaximumSum = -math.inf\n",
    "    self.find_maximum_path_sum_recursive(root)\n",
    "    return self.globalMaximumSum\n",
    "\n",
    "  def find_maximum_path_sum_recursive(self, currentNode):\n",
    "    if currentNode is None:\n",
    "      return 0\n",
    "\n",
    "    maxPathSumFromLeft = self.find_maximum_path_sum_recursive(\n",
    "      currentNode.left)\n",
    "    maxPathSumFromRight = self.find_maximum_path_sum_recursive(\n",
    "      currentNode.right)\n",
    "\n",
    "    # ignore paths with negative sums, since we need to find the maximum sum we should\n",
    "    # ignore any path which has an overall negative sum.\n",
    "    maxPathSumFromLeft = max(maxPathSumFromLeft, 0)\n",
    "    maxPathSumFromRight = max(maxPathSumFromRight, 0)\n",
    "\n",
    "    # maximum path sum at the current node will be equal to the sum from the left subtree +\n",
    "    # the sum from right subtree + val of current node\n",
    "    localMaximumSum = maxPathSumFromLeft + maxPathSumFromRight + currentNode.val\n",
    "\n",
    "    # update the global maximum sum\n",
    "    self.globalMaximumSum = max(self.globalMaximumSum, localMaximumSum)\n",
    "\n",
    "    # maximum sum of any path from the current node will be equal to the maximum of\n",
    "    # the sums from left or right subtrees plus the value of the current node\n",
    "    return max(maxPathSumFromLeft, maxPathSumFromRight) + currentNode.val\n",
    "\n",
    "\n",
    "maximumPathSum = MaximumPathSum()\n",
    "root = TreeNode(1)\n",
    "root.left = TreeNode(2)\n",
    "root.right = TreeNode(3)\n",
    "\n",
    "print(\"Maximum Path Sum: \" + str(maximumPathSum.find_maximum_path_sum(root)))\n",
    "root.left.left = TreeNode(1)\n",
    "root.left.right = TreeNode(3)\n",
    "root.right.left = TreeNode(5)\n",
    "root.right.right = TreeNode(6)\n",
    "root.right.left.left = TreeNode(7)\n",
    "root.right.left.right = TreeNode(8)\n",
    "root.right.right.left = TreeNode(9)\n",
    "print(\"Maximum Path Sum: \" + str(maximumPathSum.find_maximum_path_sum(root)))\n",
    "\n",
    "root = TreeNode(-1)\n",
    "root.left = TreeNode(-3)\n",
    "print(\"Maximum Path Sum: \" + str(maximumPathSum.find_maximum_path_sum(root)))\n",
    "\n"
   ]
  }
 ],
 "metadata": {
  "interpreter": {
   "hash": "b0fa6594d8f4cbf19f97940f81e996739fb7646882a419484c72d19e05852a7e"
  },
  "kernelspec": {
   "display_name": "Python 3.9.10 64-bit",
   "language": "python",
   "name": "python3"
  },
  "language_info": {
   "codemirror_mode": {
    "name": "ipython",
    "version": 3
   },
   "file_extension": ".py",
   "mimetype": "text/x-python",
   "name": "python",
   "nbconvert_exporter": "python",
   "pygments_lexer": "ipython3",
   "version": "3.9.10"
  },
  "orig_nbformat": 4
 },
 "nbformat": 4,
 "nbformat_minor": 2
}
