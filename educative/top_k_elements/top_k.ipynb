{
 "cells": [
  {
   "cell_type": "code",
   "execution_count": 4,
   "metadata": {
    "vscode": {
     "languageId": "ruby"
    }
   },
   "outputs": [
    {
     "name": "stdout",
     "output_type": "stream",
     "text": [
      "Here are the top K numbers: [5, 12, 11]\n",
      "Here are the top K numbers: [11, 12, 12]\n"
     ]
    }
   ],
   "source": [
    "#Top K elements\n",
    "from heapq import *\n",
    "\n",
    "\n",
    "def find_k_largest_numbers(nums, k):\n",
    "  minHeap = []\n",
    "  # put first 'K' numbers in the min heap\n",
    "  for i in range(k):\n",
    "    heappush(minHeap, nums[i])\n",
    "\n",
    "  # go through the remaining numbers of the array, if the number from the array is bigger than the\n",
    "  # top(smallest) number of the min-heap, remove the top number from heap and add the number from array\n",
    "  for i in range(k, len(nums)):\n",
    "    if nums[i] > minHeap[0]:\n",
    "      heappop(minHeap)\n",
    "      heappush(minHeap, nums[i])\n",
    "\n",
    "  # the heap has the top 'K' numbers\n",
    "  return minHeap\n",
    "\n",
    "\n",
    "def main():\n",
    "\n",
    "  print(\"Here are the top K numbers: \" +\n",
    "        str(find_k_largest_numbers([3, 1, 5, 12, 2, 11], 3)))\n",
    "\n",
    "  print(\"Here are the top K numbers: \" +\n",
    "        str(find_k_largest_numbers([5, 12, 11, -1, 12], 3)))\n",
    "\n",
    "\n",
    "main()"
   ]
  }
 ],
 "metadata": {
  "interpreter": {
   "hash": "b0fa6594d8f4cbf19f97940f81e996739fb7646882a419484c72d19e05852a7e"
  },
  "kernelspec": {
   "display_name": "Python 3.9.10 64-bit",
   "language": "python",
   "name": "python3"
  },
  "language_info": {
   "codemirror_mode": {
    "name": "ipython",
    "version": 3
   },
   "file_extension": ".py",
   "mimetype": "text/x-python",
   "name": "python",
   "nbconvert_exporter": "python",
   "pygments_lexer": "ipython3",
   "version": "3.9.13"
  },
  "orig_nbformat": 4
 },
 "nbformat": 4,
 "nbformat_minor": 2
}
