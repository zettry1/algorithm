{
 "cells": [
  {
   "cell_type": "code",
   "execution_count": 45,
   "metadata": {
    "vscode": {
     "languageId": "ruby"
    }
   },
   "outputs": [
    {
     "name": "stdout",
     "output_type": "stream",
     "text": [
      "Merged intervals: 1\n",
      "2\n",
      "last 2 5 [<__main__.Interval object at 0x105a46760>]\n",
      "[1,1]\n"
     ]
    }
   ],
   "source": [
    "#merge intervals\n",
    "# sort O(nLogn)| O(n)\n",
    "class Interval:\n",
    "    def __init__(self,start,end):\n",
    "        self.start = start\n",
    "        self.end = end\n",
    "\n",
    "    def print_interval(self):\n",
    "        print(\"[\"+str(self.start)+\",\"+str(self.end)+\"]\",end=\"\")\n",
    "\n",
    "\n",
    "\n",
    "def merge(intervals):\n",
    "    if len(intervals) < 2:\n",
    "        return intervals\n",
    "    intervals.sort(key=lambda x: x.start)\n",
    "\n",
    "    mergedIntervals=[]\n",
    "    start = intervals[0].start\n",
    "    end = intervals[0].end\n",
    "    for i in range(1,len(intervals)):\n",
    "        print(i)\n",
    "        interval = intervals[i]\n",
    "        if interval.start<=end:\n",
    "            end = max(end,interval.end)\n",
    "        else:\n",
    "            mergedIntervals.append(Interval(start,end))\n",
    "            start = interval.start\n",
    "            end = interval.end\n",
    "    \n",
    "    print('last',start,end,mergedIntervals)\n",
    "    # mergedIntervals.append(Interval(start,end))\n",
    "    return mergedIntervals\n",
    "\n",
    "\n",
    "print(\"Merged intervals: \", end='')\n",
    "for i in merge([Interval(1, 1), Interval(2, 5), Interval(3, 5)]):\n",
    "    i.print_interval()\n",
    "print()"
   ]
  },
  {
   "cell_type": "code",
   "execution_count": 48,
   "metadata": {
    "vscode": {
     "languageId": "ruby"
    }
   },
   "outputs": [
    {
     "name": "stdout",
     "output_type": "stream",
     "text": [
      "Intervals after inserting the new interval: [[1, 3], [4, 7], [8, 12]]\n",
      "Intervals after inserting the new interval: [[1, 3], [4, 12]]\n",
      "Intervals after inserting the new interval: [[1, 4], [5, 7]]\n"
     ]
    }
   ],
   "source": [
    "def insert(intervals, new_interval):\n",
    "  merged = []\n",
    "  i, start, end = 0, 0, 1\n",
    "\n",
    "  # skip (and add to output) all intervals that come before the 'new_interval'\n",
    "  while i < len(intervals) and intervals[i][end] < new_interval[start]:\n",
    "    merged.append(intervals[i])\n",
    "    i += 1\n",
    "\n",
    "  # merge all intervals that overlap with 'new_interval'\n",
    "  while i < len(intervals) and intervals[i][start] <= new_interval[end]:\n",
    "    new_interval[start] = min(intervals[i][start], new_interval[start])\n",
    "    new_interval[end] = max(intervals[i][end], new_interval[end])\n",
    "    i += 1\n",
    "\n",
    "  # insert the new_interval\n",
    "  merged.append(new_interval)\n",
    "\n",
    "  # add all the remaining intervals to the output\n",
    "  while i < len(intervals):\n",
    "    merged.append(intervals[i])\n",
    "    i += 1\n",
    "  return merged\n",
    "\n",
    "\n",
    "print(\"Intervals after inserting the new interval: \" + str(insert([[1, 3], [5, 7], [8, 12]], [4, 6])))\n",
    "print(\"Intervals after inserting the new interval: \" + str(insert([[1, 3], [5, 7], [8, 12]], [4, 10])))\n",
    "print(\"Intervals after inserting the new interval: \" + str(insert([[2, 3], [5, 7]], [1, 4])))\n"
   ]
  },
  {
   "cell_type": "code",
   "execution_count": 55,
   "metadata": {
    "vscode": {
     "languageId": "ruby"
    }
   },
   "outputs": [
    {
     "name": "stdout",
     "output_type": "stream",
     "text": [
      "Intervals Intersection: [[2, 3], [5, 6], [7, 7]]\n",
      "Intervals Intersection: [[5, 7], [9, 10]]\n"
     ]
    }
   ],
   "source": [
    "#Interval intersection medium\n",
    "\n",
    "\n",
    "def merge(intervals_a,intervals_b):\n",
    "    result = []\n",
    "    i,j,start,end = 0,0,0,1\n",
    "\n",
    "    while i<len(intervals_a) and j <len(intervals_b):\n",
    "        a_overlaps_b = intervals_a[i][start]>intervals_b[j][start] and intervals_a[i][start] <= intervals_b[j][end]\n",
    "        \n",
    "        b_overlaps_a = intervals_b[j][start] >= intervals_a[i][start] and intervals_b[j][start] <= intervals_a[i][end]\n",
    "        if (a_overlaps_b) or b_overlaps_a:\n",
    "            result.append([max(intervals_a[i][start],intervals_b[j][start]),min(intervals_a[i][end],intervals_b[j][end])])\n",
    "\n",
    "        if intervals_a[i][end] < intervals_b[j][end]:\n",
    "            i+=1\n",
    "        else:\n",
    "            j+=1\n",
    "\n",
    "    return result\n",
    "\n",
    "print(\"Intervals Intersection: \" + str(merge([[1, 3], [5, 6], [7, 9]], [[2, 3], [5, 7]])))\n",
    "print(\"Intervals Intersection: \" + str(merge([[1, 3], [5, 7], [9, 12]], [[5, 10]])))\n",
    "\n"
   ]
  },
  {
   "cell_type": "code",
   "execution_count": null,
   "metadata": {
    "vscode": {
     "languageId": "ruby"
    }
   },
   "outputs": [],
   "source": [
    "#Conflicting appointment medium\n",
    "def can_attend_all_appointments(intervals):\n",
    "  intervals.sort(key=lambda x: x[0])\n",
    "  start, end = 0, 1\n",
    "  for i in range(1, len(intervals)):\n",
    "    if intervals[i][start] < intervals[i-1][end]:\n",
    "      # please note the comparison above, it is \"<\" and not \"<=\"\n",
    "      # while merging we needed \"<=\" comparison, as we will be merging the two\n",
    "      # intervals having condition \"intervals[i][start] == intervals[i - 1][end]\" but\n",
    "      # such intervals don't represent conflicting appointments as one starts right\n",
    "      # after the other\n",
    "      return False\n",
    "  return True\n",
    "\n",
    "\n",
    "\n",
    "print(\"Can attend all appointments: \" + str(can_attend_all_appointments([[1, 4], [2, 5], [7, 9]])))\n",
    "print(\"Can attend all appointments: \" + str(can_attend_all_appointments([[6, 7], [2, 4], [8, 12]])))\n",
    "print(\"Can attend all appointments: \" + str(can_attend_all_appointments([[4, 5], [2, 3], [3, 6]])))\n",
    "\n",
    "\n"
   ]
  }
 ],
 "metadata": {
  "interpreter": {
   "hash": "31f2aee4e71d21fbe5cf8b01ff0e069b9275f58929596ceb00d14d90e3e16cd6"
  },
  "kernelspec": {
   "display_name": "Python 3.8.9 64-bit",
   "language": "python",
   "name": "python3"
  },
  "language_info": {
   "codemirror_mode": {
    "name": "ipython",
    "version": 3
   },
   "file_extension": ".py",
   "mimetype": "text/x-python",
   "name": "python",
   "nbconvert_exporter": "python",
   "pygments_lexer": "ipython3",
   "version": "3.8.9"
  },
  "orig_nbformat": 4
 },
 "nbformat": 4,
 "nbformat_minor": 2
}
