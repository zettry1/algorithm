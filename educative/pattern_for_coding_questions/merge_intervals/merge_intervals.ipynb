{
 "cells": [
  {
   "cell_type": "code",
   "execution_count": 45,
   "metadata": {
    "vscode": {
     "languageId": "ruby"
    }
   },
   "outputs": [
    {
     "name": "stdout",
     "output_type": "stream",
     "text": [
      "Merged intervals: 1\n",
      "2\n",
      "last 2 5 [<__main__.Interval object at 0x105a46760>]\n",
      "[1,1]\n"
     ]
    }
   ],
   "source": [
    "#merge intervals\n",
    "# sort O(nLogn)| O(n)\n",
    "class Interval:\n",
    "    def __init__(self,start,end):\n",
    "        self.start = start\n",
    "        self.end = end\n",
    "\n",
    "    def print_interval(self):\n",
    "        print(\"[\"+str(self.start)+\",\"+str(self.end)+\"]\",end=\"\")\n",
    "\n",
    "\n",
    "\n",
    "def merge(intervals):\n",
    "    if len(intervals) < 2:\n",
    "        return intervals\n",
    "    intervals.sort(key=lambda x: x.start)\n",
    "\n",
    "    mergedIntervals=[]\n",
    "    start = intervals[0].start\n",
    "    end = intervals[0].end\n",
    "    for i in range(1,len(intervals)):\n",
    "        print(i)\n",
    "        interval = intervals[i]\n",
    "        if interval.start<=end:\n",
    "            end = max(end,interval.end)\n",
    "        else:\n",
    "            mergedIntervals.append(Interval(start,end))\n",
    "            start = interval.start\n",
    "            end = interval.end\n",
    "    \n",
    "    print('last',start,end,mergedIntervals)\n",
    "    # mergedIntervals.append(Interval(start,end))\n",
    "    return mergedIntervals\n",
    "\n",
    "\n",
    "print(\"Merged intervals: \", end='')\n",
    "for i in merge([Interval(1, 1), Interval(2, 5), Interval(3, 5)]):\n",
    "    i.print_interval()\n",
    "print()"
   ]
  },
  {
   "cell_type": "code",
   "execution_count": 48,
   "metadata": {
    "vscode": {
     "languageId": "ruby"
    }
   },
   "outputs": [
    {
     "name": "stdout",
     "output_type": "stream",
     "text": [
      "Intervals after inserting the new interval: [[1, 3], [4, 7], [8, 12]]\n",
      "Intervals after inserting the new interval: [[1, 3], [4, 12]]\n",
      "Intervals after inserting the new interval: [[1, 4], [5, 7]]\n"
     ]
    }
   ],
   "source": [
    "def insert(intervals, new_interval):\n",
    "  merged = []\n",
    "  i, start, end = 0, 0, 1\n",
    "\n",
    "  # skip (and add to output) all intervals that come before the 'new_interval'\n",
    "  while i < len(intervals) and intervals[i][end] < new_interval[start]:\n",
    "    merged.append(intervals[i])\n",
    "    i += 1\n",
    "\n",
    "  # merge all intervals that overlap with 'new_interval'\n",
    "  while i < len(intervals) and intervals[i][start] <= new_interval[end]:\n",
    "    new_interval[start] = min(intervals[i][start], new_interval[start])\n",
    "    new_interval[end] = max(intervals[i][end], new_interval[end])\n",
    "    i += 1\n",
    "\n",
    "  # insert the new_interval\n",
    "  merged.append(new_interval)\n",
    "\n",
    "  # add all the remaining intervals to the output\n",
    "  while i < len(intervals):\n",
    "    merged.append(intervals[i])\n",
    "    i += 1\n",
    "  return merged\n",
    "\n",
    "\n",
    "print(\"Intervals after inserting the new interval: \" + str(insert([[1, 3], [5, 7], [8, 12]], [4, 6])))\n",
    "print(\"Intervals after inserting the new interval: \" + str(insert([[1, 3], [5, 7], [8, 12]], [4, 10])))\n",
    "print(\"Intervals after inserting the new interval: \" + str(insert([[2, 3], [5, 7]], [1, 4])))\n"
   ]
  },
  {
   "cell_type": "code",
   "execution_count": 55,
   "metadata": {
    "vscode": {
     "languageId": "ruby"
    }
   },
   "outputs": [
    {
     "name": "stdout",
     "output_type": "stream",
     "text": [
      "Intervals Intersection: [[2, 3], [5, 6], [7, 7]]\n",
      "Intervals Intersection: [[5, 7], [9, 10]]\n"
     ]
    }
   ],
   "source": [
    "#Interval intersection medium\n",
    "\n",
    "\n",
    "def merge(intervals_a,intervals_b):\n",
    "    result = []\n",
    "    i,j,start,end = 0,0,0,1\n",
    "\n",
    "    while i<len(intervals_a) and j <len(intervals_b):\n",
    "        a_overlaps_b = intervals_a[i][start]>intervals_b[j][start] and intervals_a[i][start] <= intervals_b[j][end]\n",
    "        \n",
    "        b_overlaps_a = intervals_b[j][start] >= intervals_a[i][start] and intervals_b[j][start] <= intervals_a[i][end]\n",
    "        if (a_overlaps_b) or b_overlaps_a:\n",
    "            result.append([max(intervals_a[i][start],intervals_b[j][start]),min(intervals_a[i][end],intervals_b[j][end])])\n",
    "\n",
    "        if intervals_a[i][end] < intervals_b[j][end]:\n",
    "            i+=1\n",
    "        else:\n",
    "            j+=1\n",
    "\n",
    "    return result\n",
    "\n",
    "print(\"Intervals Intersection: \" + str(merge([[1, 3], [5, 6], [7, 9]], [[2, 3], [5, 7]])))\n",
    "print(\"Intervals Intersection: \" + str(merge([[1, 3], [5, 7], [9, 12]], [[5, 10]])))\n",
    "\n"
   ]
  },
  {
   "cell_type": "code",
   "execution_count": 57,
   "metadata": {
    "vscode": {
     "languageId": "ruby"
    }
   },
   "outputs": [
    {
     "name": "stdout",
     "output_type": "stream",
     "text": [
      "Can attend all appointments: False\n",
      "Can attend all appointments: True\n",
      "Can attend all appointments: False\n"
     ]
    }
   ],
   "source": [
    "#Conflicting appointment medium\n",
    "def can_attend_all_appointments(intervals):\n",
    "  intervals.sort(key=lambda x: x[0])\n",
    "  start, end = 0, 1\n",
    "  for i in range(1, len(intervals)):\n",
    "    if intervals[i][start] < intervals[i-1][end]:\n",
    "      # please note the comparison above, it is \"<\" and not \"<=\"\n",
    "      # while merging we needed \"<=\" comparison, as we will be merging the two\n",
    "      # intervals having condition \"intervals[i][start] == intervals[i - 1][end]\" but\n",
    "      # such intervals don't represent conflicting appointments as one starts right\n",
    "      # after the other\n",
    "      return False\n",
    "  return True\n",
    "\n",
    "\n",
    "\n",
    "print(\"Can attend all appointments: \" + str(can_attend_all_appointments([[1, 4], [2, 5], [7, 9]])))\n",
    "print(\"Can attend all appointments: \" + str(can_attend_all_appointments([[6, 7], [2, 4], [8, 12]])))\n",
    "print(\"Can attend all appointments: \" + str(can_attend_all_appointments([[4, 5], [2, 3], [3, 6]])))\n",
    "\n",
    "\n"
   ]
  },
  {
   "cell_type": "code",
   "execution_count": 60,
   "metadata": {
    "vscode": {
     "languageId": "ruby"
    }
   },
   "outputs": [
    {
     "name": "stdout",
     "output_type": "stream",
     "text": [
      "Minimum meeting rooms required: 2\n",
      "Minimum meeting rooms required: 1\n",
      "Minimum meeting rooms required: 2\n",
      "Minimum meeting rooms required: 2\n"
     ]
    }
   ],
   "source": [
    "from heapq import *\n",
    "\n",
    "#Problem challenge 1 \n",
    "# Minimum meeting rooms hard/medium\n",
    "\n",
    "class Meeting:\n",
    "    def __init__(self,start,end):\n",
    "        self.start = start\n",
    "        self.end = end\n",
    "    def __lt__(self,other):\n",
    "        return self.end < other.end\n",
    "\n",
    "def min_meeting_rooms(meetings):\n",
    "    meetings.sort(key=lambda x:x.start)\n",
    "\n",
    "    minRooms=0\n",
    "    minHeap=[]\n",
    "    for meeting in meetings:\n",
    "        while(len(minHeap)>0 and meeting.start>=minHeap[0].end):\n",
    "            heappop(minHeap)\n",
    "        heappush(minHeap,meeting)\n",
    "\n",
    "        minRooms = max(minRooms,len(minHeap))\n",
    "    return minRooms\n",
    "\n",
    "\n",
    "print(\"Minimum meeting rooms required: \" +\n",
    "    str(min_meeting_rooms([Meeting(1, 4), Meeting(2, 5), Meeting(7, 9)])))\n",
    "print(\"Minimum meeting rooms required: \" +\n",
    "    str(min_meeting_rooms([Meeting(6, 7), Meeting(2, 4), Meeting(8, 12)])))\n",
    "print(\"Minimum meeting rooms required: \" +\n",
    "    str(min_meeting_rooms([Meeting(1, 4), Meeting(2, 3), Meeting(3, 6)])))\n",
    "print(\"Minimum meeting rooms required: \" + str(min_meeting_rooms(\n",
    "[Meeting(4, 5), Meeting(2, 3), Meeting(2, 4), Meeting(3, 5)])))\n",
    "\n"
   ]
  },
  {
   "cell_type": "code",
   "execution_count": 62,
   "metadata": {
    "vscode": {
     "languageId": "ruby"
    }
   },
   "outputs": [
    {
     "name": "stdout",
     "output_type": "stream",
     "text": [
      "Maximum CPU load at any time: 7\n",
      "Maximum CPU load at any time: 15\n",
      "Maximum CPU load at any time: 8\n"
     ]
    }
   ],
   "source": [
    "#Problem challenge 2 \n",
    "# Maximum CPU LOAD hard\n",
    "\n",
    "from heapq import *\n",
    "\n",
    "\n",
    "class job:\n",
    "  def __init__(self, start, end, cpu_load):\n",
    "    self.start = start\n",
    "    self.end = end\n",
    "    self.cpu_load = cpu_load\n",
    "\n",
    "  def __lt__(self, other):\n",
    "    # min heap based on job.end\n",
    "    return self.end < other.end\n",
    "\n",
    "\n",
    "def find_max_cpu_load(jobs):\n",
    "  # sort the jobs by start time\n",
    "  jobs.sort(key=lambda x: x.start)\n",
    "  max_cpu_load, current_cpu_load = 0, 0\n",
    "  min_heap = []\n",
    "\n",
    "  for j in jobs:\n",
    "    # remove all the jobs that have ended\n",
    "    while(len(min_heap) > 0 and j.start >= min_heap[0].end):\n",
    "      current_cpu_load -= min_heap[0].cpu_load\n",
    "      heappop(min_heap)\n",
    "    # add the current job into min_heap\n",
    "    heappush(min_heap, j)\n",
    "    current_cpu_load += j.cpu_load\n",
    "    max_cpu_load = max(max_cpu_load, current_cpu_load)\n",
    "  return max_cpu_load\n",
    "\n",
    "\n",
    "print(\"Maximum CPU load at any time: \" + str(find_max_cpu_load([job(1, 4, 3), job(2, 5, 4), job(7, 9, 6)])))\n",
    "print(\"Maximum CPU load at any time: \" + str(find_max_cpu_load([job(6, 7, 10), job(2, 4, 11), job(8, 12, 15)])))\n",
    "print(\"Maximum CPU load at any time: \" + str(find_max_cpu_load([job(1, 4, 2), job(2, 4, 1), job(3, 6, 5)])))\n",
    "\n",
    "\n",
    "\n"
   ]
  },
  {
   "cell_type": "code",
   "execution_count": 65,
   "metadata": {
    "vscode": {
     "languageId": "ruby"
    }
   },
   "outputs": [
    {
     "name": "stdout",
     "output_type": "stream",
     "text": [
      "Free intervals: [3, 5]\n",
      "Free intervals: [4, 6][8, 9]\n",
      "Free intervals: [5, 7]\n"
     ]
    }
   ],
   "source": [
    "#Problem 3 \n",
    "#Employee free time hard/medium\n",
    "from __future__ import print_function\n",
    "from heapq import *\n",
    "\n",
    "\n",
    "class Interval:\n",
    "    def __init__(self, start, end):\n",
    "        self.start = start\n",
    "        self.end = end\n",
    "\n",
    "    def print_interval(self):\n",
    "        print(\"[\" + str(self.start) + \", \" + str(self.end) + \"]\", end='')\n",
    "\n",
    "\n",
    "class EmployeeInterval:\n",
    "\n",
    "    def __init__(self, interval, employeeIndex, intervalIndex):\n",
    "        self.interval = interval  # interval representing employee's working hours\n",
    "        # index of the list containing working hours of this employee\n",
    "        self.employeeIndex = employeeIndex\n",
    "        self.intervalIndex = intervalIndex  # index of the interval in the employee list\n",
    "\n",
    "    def __lt__(self, other):\n",
    "        # min heap based on meeting.end\n",
    "        return self.interval.start < other.interval.start\n",
    "\n",
    "\n",
    "def find_employee_free_time(schedule):\n",
    "    if schedule is None:\n",
    "        return []\n",
    "\n",
    "    n = len(schedule)\n",
    "    result, minHeap = [], []\n",
    "\n",
    "    # insert the first interval of each employee to the queue\n",
    "    for i in range(n):\n",
    "        heappush(minHeap, EmployeeInterval(schedule[i][0], i, 0))\n",
    "\n",
    "    previousInterval = minHeap[0].interval\n",
    "    while minHeap:\n",
    "        queueTop = heappop(minHeap)\n",
    "        # if previousInterval is not overlapping with the next interval, insert a free interval\n",
    "        if previousInterval.end < queueTop.interval.start:\n",
    "            result.append(Interval(previousInterval.end,\n",
    "                                   queueTop.interval.start))\n",
    "            previousInterval = queueTop.interval\n",
    "        else:  # overlapping intervals, update the previousInterval if needed\n",
    "            if previousInterval.end < queueTop.interval.end:\n",
    "                previousInterval = queueTop.interval\n",
    "\n",
    "        # if there are more intervals available for the same employee, add their next interval\n",
    "        employeeSchedule = schedule[queueTop.employeeIndex]\n",
    "        if len(employeeSchedule) > queueTop.intervalIndex + 1:\n",
    "            heappush(minHeap, EmployeeInterval(employeeSchedule[queueTop.intervalIndex + 1], queueTop.employeeIndex,\n",
    "                                               queueTop.intervalIndex + 1))\n",
    "\n",
    "    return result\n",
    "\n",
    "\n",
    "\n",
    "input = [[Interval(1, 3), Interval(5, 6)], [\n",
    "    Interval(2, 3), Interval(6, 8)]]\n",
    "print(\"Free intervals: \", end='')\n",
    "for interval in find_employee_free_time(input):\n",
    "    interval.print_interval()\n",
    "print()\n",
    "\n",
    "input = [[Interval(1, 3), Interval(9, 12)], [\n",
    "    Interval(2, 4)], [Interval(6, 8)]]\n",
    "print(\"Free intervals: \", end='')\n",
    "for interval in find_employee_free_time(input):\n",
    "    interval.print_interval()\n",
    "print()\n",
    "\n",
    "input = [[Interval(1, 3)], [\n",
    "    Interval(2, 4)], [Interval(3, 5), Interval(7, 9)]]\n",
    "print(\"Free intervals: \", end='')\n",
    "for interval in find_employee_free_time(input):\n",
    "    interval.print_interval()\n",
    "print()\n",
    "\n",
    "\n"
   ]
  }
 ],
 "metadata": {
  "interpreter": {
   "hash": "31f2aee4e71d21fbe5cf8b01ff0e069b9275f58929596ceb00d14d90e3e16cd6"
  },
  "kernelspec": {
   "display_name": "Python 3.8.9 64-bit",
   "language": "python",
   "name": "python3"
  },
  "language_info": {
   "codemirror_mode": {
    "name": "ipython",
    "version": 3
   },
   "file_extension": ".py",
   "mimetype": "text/x-python",
   "name": "python",
   "nbconvert_exporter": "python",
   "pygments_lexer": "ipython3",
   "version": "3.8.9"
  },
  "orig_nbformat": 4
 },
 "nbformat": 4,
 "nbformat_minor": 2
}
