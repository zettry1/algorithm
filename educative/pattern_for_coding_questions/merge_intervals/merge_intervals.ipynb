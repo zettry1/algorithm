{
 "cells": [
  {
   "cell_type": "code",
   "execution_count": 27,
   "metadata": {
    "vscode": {
     "languageId": "ruby"
    }
   },
   "outputs": [
    {
     "name": "stdout",
     "output_type": "stream",
     "text": [
      "Merged intervals: 1\n",
      "2\n",
      "last 1 5 []\n",
      "\n"
     ]
    }
   ],
   "source": [
    "#merge intervals\n",
    "\n",
    "class Interval:\n",
    "    def __init__(self,start,end):\n",
    "        self.start = start\n",
    "        self.end = end\n",
    "\n",
    "    def print_interval(self):\n",
    "        print(\"[\"+str(self.start)+\",\"+str(self.end)+\"]\",end=\"\")\n",
    "\n",
    "\n",
    "\n",
    "def merge(intervals):\n",
    "    if len(intervals) < 2:\n",
    "        return intervals\n",
    "    intervals.sort(key=lambda x: x.start)\n",
    "\n",
    "    mergedIntervals=[]\n",
    "    start = intervals[0].start\n",
    "    end = intervals[0].end\n",
    "    for i in range(1,len(intervals)):\n",
    "        print(i)\n",
    "        interval = intervals[i]\n",
    "        if interval.start<=end:\n",
    "            end = max(end,interval.end)\n",
    "        else:\n",
    "            mergedIntervals.append(Interval(start,end))\n",
    "            start = interval.start\n",
    "            end = interval.end\n",
    "    \n",
    "    print('last',start,end,mergedIntervals)\n",
    "    # mergedIntervals.append(Interval(start,end))\n",
    "    return mergedIntervals\n",
    "\n",
    "\n",
    "print(\"Merged intervals: \", end='')\n",
    "for i in merge([Interval(1, 1), Interval(2, 5), Interval(3, 5)]):\n",
    "    i.print_interval()\n",
    "print()"
   ]
  }
 ],
 "metadata": {
  "interpreter": {
   "hash": "31f2aee4e71d21fbe5cf8b01ff0e069b9275f58929596ceb00d14d90e3e16cd6"
  },
  "kernelspec": {
   "display_name": "Python 3.8.9 64-bit",
   "language": "python",
   "name": "python3"
  },
  "language_info": {
   "codemirror_mode": {
    "name": "ipython",
    "version": 3
   },
   "file_extension": ".py",
   "mimetype": "text/x-python",
   "name": "python",
   "nbconvert_exporter": "python",
   "pygments_lexer": "ipython3",
   "version": "3.8.9"
  },
  "orig_nbformat": 4
 },
 "nbformat": 4,
 "nbformat_minor": 2
}
