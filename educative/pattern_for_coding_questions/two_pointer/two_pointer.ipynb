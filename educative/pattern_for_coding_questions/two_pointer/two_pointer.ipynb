{
 "cells": [
  {
   "cell_type": "code",
   "execution_count": 16,
   "metadata": {
    "vscode": {
     "languageId": "ruby"
    }
   },
   "outputs": [
    {
     "name": "stdout",
     "output_type": "stream",
     "text": [
      "0 4\n",
      "[1, 3]\n"
     ]
    }
   ],
   "source": [
    "# Pair with Target Sum  easy\n",
    "\n",
    "def pair_with_targetsum(arr,target_sum):\n",
    "    l=0\n",
    "    r=len(arr)-1\n",
    "    print(l,r)\n",
    "    while l<r:\n",
    "        cur_sum = arr[l]+arr[r]\n",
    "        if cur_sum> target_sum:\n",
    "            r-=1\n",
    "        elif cur_sum < target_sum:\n",
    "            l+=1\n",
    "        else:\n",
    "            return [l,r]\n",
    "        \n",
    "    return [-1,-1]\n",
    "\n",
    "\n",
    "print(pair_with_targetsum([1,2,3,4,6],6))\n"
   ]
  },
  {
   "cell_type": "code",
   "execution_count": 29,
   "metadata": {
    "vscode": {
     "languageId": "ruby"
    }
   },
   "outputs": [
    {
     "name": "stdout",
     "output_type": "stream",
     "text": [
      "4\n"
     ]
    }
   ],
   "source": [
    "# Remove duplicate \n",
    "\n",
    "def remove_duplicates(arr):\n",
    "    next_non_duplicate = 1\n",
    "\n",
    "    i=0\n",
    "\n",
    "    for i in range(len(arr)):\n",
    "        if arr[next_non_duplicate-1]!=arr[i]:\n",
    "            arr[next_non_duplicate] = arr[i]\n",
    "            next_non_duplicate+=1\n",
    "    return next_non_duplicate\n",
    "\n",
    "print(remove_duplicates([2,3,3,3,6,9,9]))\n"
   ]
  },
  {
   "cell_type": "code",
   "execution_count": 40,
   "metadata": {
    "vscode": {
     "languageId": "ruby"
    }
   },
   "outputs": [
    {
     "name": "stdout",
     "output_type": "stream",
     "text": [
      "Squares: [0, 1, 4, 4, 9]\n",
      "Squares: [0, 1, 1, 4, 9]\n"
     ]
    }
   ],
   "source": [
    "#Squaring sorted array - easy\n",
    "\n",
    "def make_squares(arr):\n",
    "    n=len(arr)\n",
    "    squares=[x for x in range(n)]\n",
    "    maxSq = n-1\n",
    "    l,r = 0,n-1\n",
    "\n",
    "    while l<r:\n",
    "        leftSq= arr[l]*arr[l]\n",
    "        rightSq= arr[r]*arr[r]\n",
    "        if leftSq>rightSq:\n",
    "            squares[maxSq] = leftSq\n",
    "            l+=1\n",
    "        else:\n",
    "            squares[maxSq] = rightSq\n",
    "            r-=1\n",
    "        maxSq -=1\n",
    "    return squares\n",
    "\n",
    "print(\"Squares: \" + str(make_squares([-2, -1, 0, 2, 3])))\n",
    "print(\"Squares: \" + str(make_squares([-3, -1, 0, 1, 2])))\n"
   ]
  },
  {
   "cell_type": "code",
   "execution_count": 47,
   "metadata": {
    "vscode": {
     "languageId": "ruby"
    }
   },
   "outputs": [
    {
     "name": "stdout",
     "output_type": "stream",
     "text": [
      "[[-3, 1, 2], [-2, 0, 2], [-2, 1, 1], [-1, 0, 1]]\n",
      "[[-5, 2, 3], [-2, -1, 3]]\n"
     ]
    }
   ],
   "source": [
    "# Triplet Sum to Zero - medium\n",
    "\n",
    "def search_triplets(arr):\n",
    "    arr.sort()\n",
    "    result=[]\n",
    "    l=0\n",
    "    r=len(arr)-1\n",
    "    for i in range(len(arr)):\n",
    "        if i>0 and arr[i] == arr[i-1]:\n",
    "            continue\n",
    "        search_pair(arr,-arr[i],i+1,result)\n",
    "    return result\n",
    "\n",
    "def search_pair(arr,target_sum,l,result):\n",
    "    r = len(arr)-1\n",
    "    while l<r:\n",
    "        cur_sum = arr[l]+arr[r]\n",
    "        if cur_sum == target_sum:\n",
    "            result.append([-target_sum,arr[l],arr[r]])\n",
    "            l+=1\n",
    "            r-=1\n",
    "            while l<r and arr[l] == arr[l-1]:\n",
    "                l+=1\n",
    "            while l < r and arr[r] == arr[r+1]:\n",
    "                r-=1\n",
    "        elif target_sum > cur_sum:\n",
    "                l+=1\n",
    "        else:\n",
    "            r-=1\n",
    "            \n",
    "\n",
    "\n",
    "print(search_triplets([-3, 0, 1, 2, -1, 1, -2]))\n",
    "print(search_triplets([-5, 2, -1, -2, 3]))\n"
   ]
  },
  {
   "cell_type": "code",
   "execution_count": 55,
   "metadata": {
    "vscode": {
     "languageId": "ruby"
    }
   },
   "outputs": [
    {
     "name": "stdout",
     "output_type": "stream",
     "text": [
      "1\n",
      "0\n",
      "3\n"
     ]
    }
   ],
   "source": [
    "# Trliplet sum close to target   medium\n",
    "\n",
    "def triplet_sum_close_to_target(arr,target_sum):\n",
    "    arr.sort()\n",
    "    smallest_difference=float(\"inf\")\n",
    "    for i in range(len(arr)-2):\n",
    "        left = i+1\n",
    "        right = len(arr) - 1\n",
    "        while (left < right):\n",
    "            target_diff = target_sum - arr[i] - arr[left] - arr[right]\n",
    "            if target_diff ==0:\n",
    "                return target_sum\n",
    "            \n",
    "            # the second part of the following 'if' is to handle \n",
    "            #the smallest sum when we have more than one solution\n",
    "            if abs(target_diff) < abs(smallest_difference) or (abs(target_diff) == abs(smallest_difference) and \n",
    "                target_diff > smallest_difference):\n",
    "                smallest_difference = target_diff  # save the closest and the biggest difference\n",
    "\n",
    "            if target_diff > 0:\n",
    "                left+=1\n",
    "            else:\n",
    "                right-=1\n",
    "\n",
    "    return target_sum - smallest_difference\n",
    "\n",
    "    return -1\n",
    "\n",
    "print(triplet_sum_close_to_target([-2, 0, 1, 2], 2))\n",
    "print(triplet_sum_close_to_target([-3, -1, 1, 2], 1))\n",
    "print(triplet_sum_close_to_target([1, 0, 1, 1], 100))\n"
   ]
  },
  {
   "cell_type": "code",
   "execution_count": 57,
   "metadata": {
    "vscode": {
     "languageId": "ruby"
    }
   },
   "outputs": [
    {
     "name": "stdout",
     "output_type": "stream",
     "text": [
      "2\n",
      "4\n"
     ]
    }
   ],
   "source": [
    "#Triplet with smaller sum medium\n",
    "\n",
    "def triplet_with_smaller_sum(arr,target):\n",
    "    arr.sort()\n",
    "    count = 0 \n",
    "    for i in range(len(arr)-2):\n",
    "        count+= search_pair(arr,target-arr[i],i)\n",
    "    return count\n",
    "\n",
    "def search_pair(arr,target_sum,first):\n",
    "    count = 0\n",
    "\n",
    "    l,r = first+1, len(arr) -1 \n",
    "    while l<r:\n",
    "        if arr[l] + arr[r] < target_sum:\n",
    "            count+= r - l\n",
    "            l+=1\n",
    "        else:\n",
    "            r-=1\n",
    "    return count\n",
    "\n",
    "\n",
    "print(triplet_with_smaller_sum([-1, 0, 2, 3], 3))\n",
    "print(triplet_with_smaller_sum([-1, 4, 2, 1, 3], 5))\n",
    "\n",
    "\n"
   ]
  },
  {
   "cell_type": "code",
   "execution_count": 69,
   "metadata": {
    "vscode": {
     "languageId": "ruby"
    }
   },
   "outputs": [
    {
     "name": "stdout",
     "output_type": "stream",
     "text": [
      "[[2], [5], [2, 5], [3], [5, 3], [10]]\n",
      "[[8], [2], [8, 2], [6], [2, 6], [5], [6, 5]]\n"
     ]
    }
   ],
   "source": [
    "#subarrays with Product less than Target  - medium\n",
    "from collections import deque\n",
    "\n",
    "def find_subarrays(arr,target):\n",
    "    result =[]\n",
    "    product = 1\n",
    "    l = 0\n",
    "    for r in range(len(arr)):\n",
    "        product*=arr[r]\n",
    "        while (product >=target and l < len(arr)):\n",
    "            product /=arr[l]\n",
    "            l+=1\n",
    "        temp_list = deque()\n",
    "        for i in range(r,l-1,-1):\n",
    "            temp_list.appendleft(arr[i])\n",
    "            result.append(list(temp_list))\n",
    "    return result\n",
    "\n",
    "print(find_subarrays([2, 5, 3, 10], 30))\n",
    "print(find_subarrays([8, 2, 6, 5], 50))\n",
    "\n"
   ]
  },
  {
   "cell_type": "code",
   "execution_count": 76,
   "metadata": {
    "vscode": {
     "languageId": "ruby"
    }
   },
   "outputs": [
    {
     "name": "stdout",
     "output_type": "stream",
     "text": [
      "[0, 0, 1, 1, 2]\n",
      "[0, 0, 1, 2, 2, 2]\n"
     ]
    }
   ],
   "source": [
    "#Dutch national flag problem medium\n",
    "\n",
    "\n",
    "def dutch_flag_sort(arr):\n",
    "    l,h= 0, len(arr) - 1\n",
    "    i=0\n",
    "    while (i<=h):\n",
    "        if arr[i]==0:\n",
    "            arr[i],arr[l] = arr[l],arr[i]\n",
    "            i+=1\n",
    "            l+=1\n",
    "        elif arr[i]==1:\n",
    "            i+=1\n",
    "        else:\n",
    "            arr[i], arr[h] = arr[h], arr[i]\n",
    "            h-=1\n",
    "            \n",
    "arr = [1, 0, 2, 1, 0]\n",
    "dutch_flag_sort(arr)\n",
    "print(arr)\n",
    "\n",
    "arr = [2, 2, 0, 1, 2, 0]\n",
    "dutch_flag_sort(arr)\n",
    "print(arr)\n"
   ]
  },
  {
   "cell_type": "code",
   "execution_count": 78,
   "metadata": {
    "vscode": {
     "languageId": "ruby"
    }
   },
   "outputs": [
    {
     "name": "stdout",
     "output_type": "stream",
     "text": [
      "[[-3, -1, 1, 4], [-3, 1, 1, 2]]\n",
      "[[-2, 0, 2, 2], [-1, 0, 1, 2]]\n"
     ]
    }
   ],
   "source": [
    "#Problem\n",
    "\n",
    "# Quadruple Sum to Target medium\n",
    "\n",
    "def search_quadruplets(arr, target):\n",
    "  arr.sort()\n",
    "  quadruplets = []\n",
    "  for i in range(0, len(arr)-3):\n",
    "    # skip same element to avoid duplicate quadruplets\n",
    "    if i > 0 and arr[i] == arr[i - 1]:\n",
    "      continue\n",
    "    for j in range(i + 1, len(arr)-2):\n",
    "      # skip same element to avoid duplicate quadruplets\n",
    "      if j > i + 1 and arr[j] == arr[j - 1]:\n",
    "        continue\n",
    "      search_pairs(arr, target, i, j, quadruplets)\n",
    "  return quadruplets\n",
    "\n",
    "\n",
    "def search_pairs(arr, target_sum, first, second, quadruplets):\n",
    "  left = second + 1\n",
    "  right = len(arr) - 1\n",
    "  while (left < right):\n",
    "    quad_sum = arr[first] + arr[second] + arr[left] + arr[right]\n",
    "    if quad_sum == target_sum:  # found the quadruplet\n",
    "      quadruplets.append(\n",
    "        [arr[first], arr[second], arr[left], arr[right]])\n",
    "      left += 1\n",
    "      right -= 1\n",
    "      while (left < right and arr[left] == arr[left - 1]):\n",
    "        left += 1  # skip same element to avoid duplicate quadruplets\n",
    "      while (left < right and arr[right] == arr[right + 1]):\n",
    "        right -= 1  # skip same element to avoid duplicate quadruplets\n",
    "    elif quad_sum < target_sum:\n",
    "      left += 1  # we need a pair with a bigger sum\n",
    "    else:\n",
    "      right -= 1  # we need a pair with a smaller sum\n",
    "\n",
    "\n",
    "print(search_quadruplets([4, 1, 2, -1, 1, -3], 1))\n",
    "print(search_quadruplets([2, 0, -1, 1, -2, 2], 2))\n",
    "\n",
    "\n",
    "\n"
   ]
  },
  {
   "cell_type": "code",
   "execution_count": 83,
   "metadata": {
    "vscode": {
     "languageId": "ruby"
    }
   },
   "outputs": [
    {
     "name": "stdout",
     "output_type": "stream",
     "text": [
      "True\n",
      "False\n",
      "True\n",
      "True\n"
     ]
    }
   ],
   "source": [
    "#Problem challenge 2 \n",
    "# Comparing Strings containing Backspaces medium\n",
    "\n",
    "def backspace_compare(str1,str2):\n",
    "    index1= len(str1)-1\n",
    "    index2= len(str2)-1\n",
    "\n",
    "    while (index1>=0 or index2>=0):\n",
    "        i1 = get_next_valid_char_index(str1,index1)\n",
    "        i2 = get_next_valid_char_index(str2,index2)\n",
    "        if i1<0 and i2<0:\n",
    "            return True\n",
    "        if i1<0 or i2<0:\n",
    "            return False\n",
    "\n",
    "        if str1[i1] != str2[i2]:\n",
    "            return False\n",
    "        \n",
    "        index1=i1-1\n",
    "        index2=i2-1\n",
    "\n",
    "    return True\n",
    "\n",
    "\n",
    "def get_next_valid_char_index(str,index):\n",
    "    backspace_count = 0\n",
    "    while (index>=0):\n",
    "        if str[index] ==\"#\":\n",
    "            backspace_count+=1\n",
    "        elif backspace_count>0:\n",
    "            backspace_count-=1\n",
    "        else:\n",
    "            break\n",
    "        index-=1\n",
    "    return index\n",
    "\n",
    "\n",
    "\n",
    "print(backspace_compare(\"xy#z\", \"xzz#\"))\n",
    "print(backspace_compare(\"xy#z\", \"xyz#\"))\n",
    "print(backspace_compare(\"xp#\", \"xyz##\"))\n",
    "print(backspace_compare(\"xywrrmp\", \"xywrrmu#p\"))\n"
   ]
  },
  {
   "cell_type": "code",
   "execution_count": 86,
   "metadata": {
    "vscode": {
     "languageId": "ruby"
    }
   },
   "outputs": [
    {
     "name": "stdout",
     "output_type": "stream",
     "text": [
      "2 6 3 10\n",
      "5\n",
      "1 4 -1 3\n",
      "5\n",
      "0\n",
      "0 2 1 3\n",
      "3\n"
     ]
    }
   ],
   "source": [
    "#Minimum Window Sort medium\n",
    "\n",
    "import math\n",
    "\n",
    "\n",
    "def shortest_window_sort(arr):\n",
    "  low, high = 0, len(arr) - 1\n",
    "  # find the first number out of sorting order from the beginning\n",
    "  while (low < len(arr) - 1 and arr[low] <= arr[low + 1]):\n",
    "    low += 1\n",
    "\n",
    "  if low == len(arr) - 1:  # if the array is sorted\n",
    "    return 0\n",
    "\n",
    "  # find the first number out of sorting order from the end\n",
    "  while (high > 0 and arr[high] >= arr[high - 1]):\n",
    "    high -= 1\n",
    "\n",
    "  # find the maximum and minimum of the subarray\n",
    "  subarray_max = -math.inf\n",
    "  subarray_min = math.inf\n",
    "  for k in range(low, high+1):\n",
    "    subarray_max = max(subarray_max, arr[k])\n",
    "    subarray_min = min(subarray_min, arr[k])\n",
    "\n",
    "  # extend the subarray to include any number which is bigger than the minimum of the subarray\n",
    "  while (low > 0 and arr[low-1] > subarray_min):\n",
    "    low -= 1\n",
    "  # extend the subarray to include any number which is smaller than the maximum of the subarray\n",
    "  while (high < len(arr)-1 and arr[high+1] < subarray_max):\n",
    "    high += 1\n",
    "\n",
    "  return high - low + 1\n",
    "\n",
    "print(shortest_window_sort([1, 2, 5, 3, 7, 10, 9, 12]))\n",
    "print(shortest_window_sort([1, 3, 2, 0, -1, 7, 10]))\n",
    "print(shortest_window_sort([1, 2, 3]))\n",
    "print(shortest_window_sort([3, 2, 1]))\n",
    "\n"
   ]
  }
 ],
 "metadata": {
  "interpreter": {
   "hash": "31f2aee4e71d21fbe5cf8b01ff0e069b9275f58929596ceb00d14d90e3e16cd6"
  },
  "kernelspec": {
   "display_name": "Python 3.8.9 64-bit",
   "language": "python",
   "name": "python3"
  },
  "language_info": {
   "codemirror_mode": {
    "name": "ipython",
    "version": 3
   },
   "file_extension": ".py",
   "mimetype": "text/x-python",
   "name": "python",
   "nbconvert_exporter": "python",
   "pygments_lexer": "ipython3",
   "version": "3.8.9"
  },
  "orig_nbformat": 4
 },
 "nbformat": 4,
 "nbformat_minor": 2
}
