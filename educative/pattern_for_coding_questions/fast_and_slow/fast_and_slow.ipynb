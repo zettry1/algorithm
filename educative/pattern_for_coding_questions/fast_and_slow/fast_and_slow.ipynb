{
 "cells": [
  {
   "cell_type": "code",
   "execution_count": 3,
   "metadata": {
    "vscode": {
     "languageId": "ruby"
    }
   },
   "outputs": [
    {
     "name": "stdout",
     "output_type": "stream",
     "text": [
      "LinkedList has cycle: False\n",
      "LinkedList has cycle: True\n",
      "LinkedList has cycle: True\n"
     ]
    }
   ],
   "source": [
    "#Has cycle\n",
    "class Node:\n",
    "  def __init__(self, value, next=None):\n",
    "    self.value = value\n",
    "    self.next = next\n",
    "\n",
    "def has_cycle(head):\n",
    "    slow,fast =head,head\n",
    "    while fast  and fast.next:\n",
    "        fast = fast.next.next\n",
    "        slow = slow.next\n",
    "        if fast == slow:\n",
    "            return True\n",
    "    return False\n",
    "\n",
    "\n",
    "head = Node(1)\n",
    "head.next = Node(2)\n",
    "head.next.next = Node(3)\n",
    "head.next.next.next = Node(4)\n",
    "head.next.next.next.next = Node(5)\n",
    "head.next.next.next.next.next = Node(6)\n",
    "print(\"LinkedList has cycle: \" + str(has_cycle(head)))\n",
    "\n",
    "head.next.next.next.next.next.next = head.next.next\n",
    "print(\"LinkedList has cycle: \" + str(has_cycle(head)))\n",
    "\n",
    "head.next.next.next.next.next.next = head.next.next.next\n",
    "print(\"LinkedList has cycle: \" + str(has_cycle(head)))"
   ]
  },
  {
   "cell_type": "code",
   "execution_count": 1,
   "metadata": {
    "vscode": {
     "languageId": "ruby"
    }
   },
   "outputs": [
    {
     "name": "stdout",
     "output_type": "stream",
     "text": [
      "LinkedList cycle start: 3\n",
      "LinkedList cycle start: 4\n",
      "LinkedList cycle start: 1\n"
     ]
    }
   ],
   "source": [
    "#Sstart of linked list\n",
    "from __future__ import print_function\n",
    "class Node:\n",
    "    def __init__(self,value,next=None):\n",
    "        self.value = value\n",
    "        self.next = next\n",
    "    \n",
    "    def print_list(self):\n",
    "        temp = self\n",
    "        while temp:\n",
    "            print(temp.value,end='')\n",
    "            temp = temp.next\n",
    "        print()\n",
    "\n",
    "def find_cycle_start(head):\n",
    "    cycle_length = 0\n",
    "    slow,fast = head, head\n",
    "    while fast and fast.next:\n",
    "        fast = fast.next.next\n",
    "        slow = slow.next\n",
    "        if slow==fast:\n",
    "            cycle_length = calculate_cycle_length(slow)\n",
    "            break\n",
    "    return find_start(head,cycle_length)\n",
    "\n",
    "def calculate_cycle_length(slow):\n",
    "    current = slow\n",
    "    cycle_length = 0\n",
    "    while True:\n",
    "        current = current.next\n",
    "        cycle_length+=1\n",
    "        if current ==slow:\n",
    "            break\n",
    "    return cycle_length\n",
    "\n",
    "def find_start(head,cycle_length):\n",
    "    pointer1 = head\n",
    "    pointer2 = head\n",
    "    while cycle_length >0:\n",
    "        pointer2 = pointer2.next\n",
    "        cycle_length-=1\n",
    "    while pointer1 != pointer2:\n",
    "        pointer1=pointer1.next\n",
    "        pointer2 = pointer2.next\n",
    "    return pointer1\n",
    "\n",
    "\n",
    "head = Node(1)\n",
    "head.next = Node(2)\n",
    "head.next.next = Node(3)\n",
    "head.next.next.next = Node(4)\n",
    "head.next.next.next.next = Node(5)\n",
    "head.next.next.next.next.next = Node(6)\n",
    "\n",
    "head.next.next.next.next.next.next = head.next.next\n",
    "print(\"LinkedList cycle start: \" + str(find_cycle_start(head).value))\n",
    "\n",
    "head.next.next.next.next.next.next = head.next.next.next\n",
    "print(\"LinkedList cycle start: \" + str(find_cycle_start(head).value))\n",
    "\n",
    "head.next.next.next.next.next.next = head\n",
    "print(\"LinkedList cycle start: \" + str(find_cycle_start(head).value))\n"
   ]
  },
  {
   "cell_type": "code",
   "execution_count": 18,
   "metadata": {
    "vscode": {
     "languageId": "ruby"
    }
   },
   "outputs": [
    {
     "name": "stdout",
     "output_type": "stream",
     "text": [
      "True\n",
      "True\n",
      "False\n"
     ]
    }
   ],
   "source": [
    "#Happy number easy/medium\n",
    "\n",
    "def find_happy_number(num):\n",
    "    slow,fast = num,num\n",
    "    while True:\n",
    "        slow = find_square_sum(slow)\n",
    "        fast = find_square_sum(find_square_sum(fast))\n",
    "        if slow ==fast:\n",
    "            break\n",
    "    return slow==1\n",
    "\n",
    "def find_square_sum(num):\n",
    "    _sum = 0\n",
    "    while (num>0):\n",
    "        digit = num %10\n",
    "        _sum+=digit*digit\n",
    "        num//=10\n",
    "    # print(_sum)\n",
    "    return _sum\n",
    "\n",
    "print(find_happy_number(23))\n",
    "print(find_happy_number(1))\n",
    "print(find_happy_number(12))"
   ]
  },
  {
   "cell_type": "code",
   "execution_count": 61,
   "metadata": {
    "vscode": {
     "languageId": "ruby"
    }
   },
   "outputs": [
    {
     "name": "stdout",
     "output_type": "stream",
     "text": [
      "Middle Node: 3\n",
      "Middle Node: 4\n"
     ]
    }
   ],
   "source": [
    "#Middle of the linkedlist easy\n",
    "\n",
    "class Node:\n",
    "    def __init__(self,value,next=None):\n",
    "        self.value = value\n",
    "        self.next= next\n",
    "\n",
    "\n",
    "def find_middle_of_linked_list(head):\n",
    "    slow,fast=head,head\n",
    "    while fast and fast.next:\n",
    "        slow=slow.next\n",
    "        fast= fast.next.next\n",
    "    return slow\n",
    "\n",
    "head= Node(1)\n",
    "head.next=Node(2)\n",
    "head.next.next=Node(3)\n",
    "head.next.next.next=Node(4)\n",
    "head.next.next.next.next=Node(5)\n",
    "\n",
    "\n",
    "print(\"Middle Node: \" + str(find_middle_of_linked_list(head).value))\n",
    "\n",
    "head.next.next.next.next.next = Node(6)\n",
    "print(\"Middle Node: \" + str(find_middle_of_linked_list(head).value))\n"
   ]
  },
  {
   "cell_type": "code",
   "execution_count": 70,
   "metadata": {
    "vscode": {
     "languageId": "ruby"
    }
   },
   "outputs": [
    {
     "name": "stdout",
     "output_type": "stream",
     "text": [
      "Is palindrome: True\n",
      "4 2\n",
      "Is palindrome: False\n"
     ]
    }
   ],
   "source": [
    "#Problem challenge 1\n",
    "#Palindrome Linked list medium\n",
    "\n",
    "# add all items to array and check values from start,end index.\n",
    "# \n",
    "class Node:\n",
    "    def __init__(self,value,next=None):\n",
    "        self.value = value\n",
    "        self.next = next\n",
    "\n",
    "def is_palindromic_linked_list(head):\n",
    "    slow,fast = head,head\n",
    "    while fast and fast.next:\n",
    "        slow=slow.next\n",
    "        fast = fast.next.next\n",
    "    head_second_half = reverse(slow)\n",
    "    copy_head_second_half = head_second_half\n",
    "\n",
    "    while head and head_second_half:\n",
    "        if head.value != head_second_half.value:\n",
    "            break\n",
    "        head = head.next\n",
    "        head_second_half = head_second_half.next\n",
    "    reverse(copy_head_second_half)\n",
    "\n",
    "    if head is None or head_second_half is None:\n",
    "        return True\n",
    "    print(head.value , head_second_half.value)\n",
    "    return False\n",
    "    \n",
    "    \n",
    "\n",
    "def reverse(head):\n",
    "    prev = None\n",
    "    while head:\n",
    "        next = head.next\n",
    "        head.next = prev\n",
    "        prev = head\n",
    "        head = next\n",
    "    return prev\n",
    "\n",
    "head = Node(2)\n",
    "head.next = Node(4)\n",
    "head.next.next = Node(6)\n",
    "head.next.next.next = Node(4)\n",
    "head.next.next.next.next = Node(2)\n",
    "\n",
    "print(\"Is palindrome: \" + str(is_palindromic_linked_list(head)))\n",
    "\n",
    "head.next.next.next.next.next = Node(2)\n",
    "head.next.next.next.next.next = Node(2)\n",
    "print(\"Is palindrome: \" + str(is_palindromic_linked_list(head)))\n",
    "\n",
    "        "
   ]
  },
  {
   "cell_type": "code",
   "execution_count": 76,
   "metadata": {
    "vscode": {
     "languageId": "ruby"
    }
   },
   "outputs": [
    {
     "name": "stdout",
     "output_type": "stream",
     "text": [
      "2 12 4 10 6 8 \n"
     ]
    }
   ],
   "source": [
    "# Reaarrange a LinkedList medium\n",
    "\n",
    "\n",
    "class Node:\n",
    "    def __init__(self,value,next=None):\n",
    "        self.value = value\n",
    "        self.next = next\n",
    "    def print_list(self):\n",
    "        temp = self\n",
    "        while temp:\n",
    "            print(str(temp.value)+\" \", end='')\n",
    "            temp = temp.next\n",
    "        print()\n",
    "\n",
    "def reorder(head):\n",
    "    if head is None or head.next is None:\n",
    "        return\n",
    "    slow,fast = head,head\n",
    "    while fast and fast.next:\n",
    "        slow=slow.next\n",
    "        fast=fast.next.next\n",
    "\n",
    "    head_second_half = reverse(slow)\n",
    "    head_first_half = head\n",
    "\n",
    "    while head_first_half and head_second_half:\n",
    "        temp = head_first_half.next\n",
    "        head_first_half.next = head_second_half\n",
    "        head_first_half=temp\n",
    "\n",
    "        temp = head_second_half.next\n",
    "        head_second_half.next = head_first_half\n",
    "        head_second_half = temp\n",
    "    \n",
    "    if head_first_half:\n",
    "        head_first_half.next = None\n",
    "\n",
    "\n",
    "\n",
    "def reverse(head):\n",
    "    prev = None\n",
    "    while head:\n",
    "        next = head.next\n",
    "        head.next = prev\n",
    "        prev =head\n",
    "        head = next\n",
    "    return prev\n",
    "\n",
    "head = Node(2)\n",
    "head.next = Node(4)\n",
    "head.next.next = Node(6)\n",
    "head.next.next.next = Node(8)\n",
    "head.next.next.next.next = Node(10)\n",
    "head.next.next.next.next.next = Node(12)\n",
    "reorder(head)\n",
    "head.print_list()\n"
   ]
  },
  {
   "cell_type": "code",
   "execution_count": 84,
   "metadata": {
    "vscode": {
     "languageId": "ruby"
    }
   },
   "outputs": [
    {
     "name": "stdout",
     "output_type": "stream",
     "text": [
      "True\n",
      "True\n",
      "False\n"
     ]
    }
   ],
   "source": [
    "#Problem challenge 3 \n",
    "# Cycle in circular array hard\n",
    "\n",
    "def circular_array_loop_exists(arr):\n",
    "\n",
    "    for i in range(len(arr)):\n",
    "        is_forward = arr[i]>=0\n",
    "        slow,fast = i,i\n",
    "    \n",
    "    while True:\n",
    "        slow = find_next_index(arr,is_forward,slow)\n",
    "        fast = find_next_index(arr,is_forward,fast)\n",
    "        if (fast!=-1):\n",
    "            fast = find_next_index(arr,is_forward,fast)\n",
    "        if slow ==-1 or fast==-1 or slow == fast:\n",
    "            break\n",
    "    if slow !=-1 and slow ==fast:\n",
    "        return True\n",
    "\n",
    "    return False\n",
    "\n",
    "\n",
    "def find_next_index(arr,is_forward,current_index):\n",
    "    direction = arr[current_index]>=0\n",
    "\n",
    "    if is_forward!=direction:\n",
    "        return -1\n",
    "    next_index= (current_index+arr[current_index]) % len(arr)\n",
    "\n",
    "    if next_index == current_index:\n",
    "        next_index=-1\n",
    "    return next_index\n",
    "\n",
    "\n",
    "print(circular_array_loop_exists([1, 2, -1, 2, 2]))\n",
    "print(circular_array_loop_exists([2, 2, -1, 2]))\n",
    "print(circular_array_loop_exists([2, 1, -1, -2]))\n",
    "\n",
    "\n"
   ]
  }
 ],
 "metadata": {
  "interpreter": {
   "hash": "31f2aee4e71d21fbe5cf8b01ff0e069b9275f58929596ceb00d14d90e3e16cd6"
  },
  "kernelspec": {
   "display_name": "Python 3.8.9 64-bit",
   "language": "python",
   "name": "python3"
  },
  "language_info": {
   "codemirror_mode": {
    "name": "ipython",
    "version": 3
   },
   "file_extension": ".py",
   "mimetype": "text/x-python",
   "name": "python",
   "nbconvert_exporter": "python",
   "pygments_lexer": "ipython3",
   "version": "3.8.9"
  },
  "orig_nbformat": 4
 },
 "nbformat": 4,
 "nbformat_minor": 2
}
