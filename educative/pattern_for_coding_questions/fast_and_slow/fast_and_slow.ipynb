{
 "cells": [
  {
   "cell_type": "code",
   "execution_count": 3,
   "metadata": {
    "vscode": {
     "languageId": "ruby"
    }
   },
   "outputs": [
    {
     "name": "stdout",
     "output_type": "stream",
     "text": [
      "LinkedList has cycle: False\n",
      "LinkedList has cycle: True\n",
      "LinkedList has cycle: True\n"
     ]
    }
   ],
   "source": [
    "#Has cycle\n",
    "class Node:\n",
    "  def __init__(self, value, next=None):\n",
    "    self.value = value\n",
    "    self.next = next\n",
    "\n",
    "def has_cycle(head):\n",
    "    slow,fast =head,head\n",
    "    while fast  and fast.next:\n",
    "        fast = fast.next.next\n",
    "        slow = slow.next\n",
    "        if fast == slow:\n",
    "            return True\n",
    "    return False\n",
    "\n",
    "\n",
    "head = Node(1)\n",
    "head.next = Node(2)\n",
    "head.next.next = Node(3)\n",
    "head.next.next.next = Node(4)\n",
    "head.next.next.next.next = Node(5)\n",
    "head.next.next.next.next.next = Node(6)\n",
    "print(\"LinkedList has cycle: \" + str(has_cycle(head)))\n",
    "\n",
    "head.next.next.next.next.next.next = head.next.next\n",
    "print(\"LinkedList has cycle: \" + str(has_cycle(head)))\n",
    "\n",
    "head.next.next.next.next.next.next = head.next.next.next\n",
    "print(\"LinkedList has cycle: \" + str(has_cycle(head)))"
   ]
  },
  {
   "cell_type": "code",
   "execution_count": 1,
   "metadata": {
    "vscode": {
     "languageId": "ruby"
    }
   },
   "outputs": [
    {
     "name": "stdout",
     "output_type": "stream",
     "text": [
      "LinkedList cycle start: 3\n",
      "LinkedList cycle start: 4\n",
      "LinkedList cycle start: 1\n"
     ]
    }
   ],
   "source": [
    "#Sstart of linked list\n",
    "from __future__ import print_function\n",
    "class Node:\n",
    "    def __init__(self,value,next=None):\n",
    "        self.value = value\n",
    "        self.next = next\n",
    "    \n",
    "    def print_list(self):\n",
    "        temp = self\n",
    "        while temp:\n",
    "            print(temp.value,end='')\n",
    "            temp = temp.next\n",
    "        print()\n",
    "\n",
    "def find_cycle_start(head):\n",
    "    cycle_length = 0\n",
    "    slow,fast = head, head\n",
    "    while fast and fast.next:\n",
    "        fast = fast.next.next\n",
    "        slow = slow.next\n",
    "        if slow==fast:\n",
    "            cycle_length = calculate_cycle_length(slow)\n",
    "            break\n",
    "    return find_start(head,cycle_length)\n",
    "\n",
    "def calculate_cycle_length(slow):\n",
    "    current = slow\n",
    "    cycle_length = 0\n",
    "    while True:\n",
    "        current = current.next\n",
    "        cycle_length+=1\n",
    "        if current ==slow:\n",
    "            break\n",
    "    return cycle_length\n",
    "\n",
    "def find_start(head,cycle_length):\n",
    "    pointer1 = head\n",
    "    pointer2 = head\n",
    "    while cycle_length >0:\n",
    "        pointer2 = pointer2.next\n",
    "        cycle_length-=1\n",
    "    while pointer1 != pointer2:\n",
    "        pointer1=pointer1.next\n",
    "        pointer2 = pointer2.next\n",
    "    return pointer1\n",
    "\n",
    "\n",
    "head = Node(1)\n",
    "head.next = Node(2)\n",
    "head.next.next = Node(3)\n",
    "head.next.next.next = Node(4)\n",
    "head.next.next.next.next = Node(5)\n",
    "head.next.next.next.next.next = Node(6)\n",
    "\n",
    "head.next.next.next.next.next.next = head.next.next\n",
    "print(\"LinkedList cycle start: \" + str(find_cycle_start(head).value))\n",
    "\n",
    "head.next.next.next.next.next.next = head.next.next.next\n",
    "print(\"LinkedList cycle start: \" + str(find_cycle_start(head).value))\n",
    "\n",
    "head.next.next.next.next.next.next = head\n",
    "print(\"LinkedList cycle start: \" + str(find_cycle_start(head).value))\n"
   ]
  },
  {
   "cell_type": "code",
   "execution_count": 12,
   "metadata": {
    "vscode": {
     "languageId": "ruby"
    }
   },
   "outputs": [
    {
     "name": "stdout",
     "output_type": "stream",
     "text": [
      "5\n",
      "5\n",
      "25\n",
      "25\n",
      "29\n",
      "85\n",
      "29\n",
      "89\n",
      "145\n",
      "85\n",
      "42\n",
      "20\n",
      "89\n",
      "4\n",
      "16\n",
      "145\n",
      "37\n",
      "58\n",
      "42\n",
      "89\n",
      "145\n",
      "20\n",
      "42\n",
      "20\n",
      "False\n"
     ]
    }
   ],
   "source": [
    "#Happy number easy/medium\n",
    "\n",
    "def find_happy_number(num):\n",
    "    slow,fast = num,num\n",
    "    while True:\n",
    "        slow = find_square_sum(slow)\n",
    "        fast = find_square_sum(find_square_sum(fast))\n",
    "        if slow ==fast:\n",
    "            break\n",
    "    return slow==1\n",
    "\n",
    "def find_square_sum(num):\n",
    "    _sum = 0\n",
    "    while (num>0):\n",
    "        digit = num %10\n",
    "        _sum+=digit*digit\n",
    "        num//=10\n",
    "    print(_sum)\n",
    "    return _sum\n",
    "\n",
    "# print(find_happy_number(23))\n",
    "print(find_happy_number(12))"
   ]
  }
 ],
 "metadata": {
  "interpreter": {
   "hash": "31f2aee4e71d21fbe5cf8b01ff0e069b9275f58929596ceb00d14d90e3e16cd6"
  },
  "kernelspec": {
   "display_name": "Python 3.8.9 64-bit",
   "language": "python",
   "name": "python3"
  },
  "language_info": {
   "codemirror_mode": {
    "name": "ipython",
    "version": 3
   },
   "file_extension": ".py",
   "mimetype": "text/x-python",
   "name": "python",
   "nbconvert_exporter": "python",
   "pygments_lexer": "ipython3",
   "version": "3.8.9"
  },
  "orig_nbformat": 4
 },
 "nbformat": 4,
 "nbformat_minor": 2
}
