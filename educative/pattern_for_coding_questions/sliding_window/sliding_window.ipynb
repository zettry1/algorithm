{
 "cells": [
  {
   "cell_type": "code",
   "execution_count": 1,
   "metadata": {},
   "outputs": [
    {
     "name": "stdout",
     "output_type": "stream",
     "text": [
      "Averages of subarrays of size K: [0.2, 0.8, 1.2, 2.4, 2.2, 0.6, 1.0, 2.2, 2.0, 2.8, 0.4, 1.6, 1.4, 2.2, 2.4, 1.2, 1.0, 1.8, 2.0, 3.6, -0.2, 0.6, 0.8, 2.4, 2.8]\n"
     ]
    }
   ],
   "source": [
    "def find_averages_of_subarrays(K, arr):\n",
    "    result = []\n",
    "    for i in range(len(arr)-K+1):\n",
    "        _sum = 0.0\n",
    "        for j in range(i, i+K):\n",
    "            _sum += arr[j]\n",
    "            result.append(_sum/K)  # calculate average\n",
    "    return result\n",
    "\n",
    "\n",
    "\n",
    "result = find_averages_of_subarrays(5, [1, 3, 2, 6, -1, 4, 1, 8, 2])\n",
    "print(\"Averages of subarrays of size K: \" + str(result))\n"
   ]
  },
  {
   "cell_type": "code",
   "execution_count": 2,
   "metadata": {},
   "outputs": [
    {
     "name": "stdout",
     "output_type": "stream",
     "text": [
      "Averages of subarrays of size K: [2.2, 2.8, 2.4, 3.6, 2.8]\n"
     ]
    }
   ],
   "source": [
    "#O(n)|O(n)\n",
    "def find_averages_using_sliding_window(K,arr):\n",
    "    result =[]\n",
    "    windowSum,windowStart=0,0\n",
    "    for windowEnd in range(len(arr)):\n",
    "        windowSum+=arr[windowEnd]\n",
    "        if windowEnd >=K-1:\n",
    "            result.append(windowSum/K)\n",
    "            windowSum-=arr[windowStart]\n",
    "            windowStart+=1\n",
    "    return result\n",
    "\n",
    "result = find_averages_using_sliding_window(5, [1, 3, 2, 6, -1, 4, 1, 8, 2])\n",
    "print(\"Averages of subarrays of size K: \" + str(result))"
   ]
  },
  {
   "cell_type": "code",
   "execution_count": 3,
   "metadata": {},
   "outputs": [
    {
     "name": "stdout",
     "output_type": "stream",
     "text": [
      "9\n"
     ]
    }
   ],
   "source": [
    "#Maximum sub array of size K\n",
    "\n",
    "def find_max_sub_array(K,arr):\n",
    "    windowSum,windowStart =0,0\n",
    "    maxSum=0\n",
    "    for windowEnd in range(len(arr)):\n",
    "        windowSum+=arr[windowEnd]\n",
    "        if windowEnd>=K-1:\n",
    "            maxSum=max(maxSum,windowSum)\n",
    "            windowSum-=arr[windowStart]\n",
    "            windowStart+=1\n",
    "    return maxSum\n",
    "\n",
    "\n",
    "result =find_max_sub_array(3,[2,1,5,1,3,2])\n",
    "#result2 =find_max_sub_array(2,[2, 3, 4, 1, 5])\n",
    "print(result)\n",
    "\n"
   ]
  },
  {
   "cell_type": "code",
   "execution_count": 4,
   "metadata": {},
   "outputs": [
    {
     "name": "stdout",
     "output_type": "stream",
     "text": [
      "Smallest subarray length: 2\n",
      "Smallest subarray length: 1\n",
      "Smallest subarray length: 3\n"
     ]
    }
   ],
   "source": [
    "#Smallest subarray sum \n",
    "#Time complexity O(n)|O(1)\n",
    "\n",
    "def smallest_subarray_sum(s,arr):\n",
    "    window_sum=0\n",
    "    l=0\n",
    "    min_length=float(\"inf\")\n",
    "    for r in range(len(arr)):\n",
    "        window_sum+=arr[r]\n",
    "        while window_sum>=s:\n",
    "            min_length=min(min_length,r-l+1)\n",
    "            window_sum-=arr[l]\n",
    "            l+=1        \n",
    "    if min_length==float(\"inf\"):\n",
    "        return 0\n",
    "    return min_length\n",
    "\n",
    "print(\"Smallest subarray length: \" + str(smallest_subarray_sum(7, [2, 1, 5, 2, 3, 2])))\n",
    "print(\"Smallest subarray length: \" + str(smallest_subarray_sum(7, [2, 1, 5, 2, 8])))\n",
    "print(\"Smallest subarray length: \" + str(smallest_subarray_sum(8, [3, 4, 1, 1, 6])))\n"
   ]
  }
 ],
 "metadata": {
  "interpreter": {
   "hash": "31f2aee4e71d21fbe5cf8b01ff0e069b9275f58929596ceb00d14d90e3e16cd6"
  },
  "kernelspec": {
   "display_name": "Python 3.8.9 64-bit",
   "language": "python",
   "name": "python3"
  },
  "language_info": {
   "codemirror_mode": {
    "name": "ipython",
    "version": 3
   },
   "file_extension": ".py",
   "mimetype": "text/x-python",
   "name": "python",
   "nbconvert_exporter": "python",
   "pygments_lexer": "ipython3",
   "version": "3.8.9"
  },
  "orig_nbformat": 4
 },
 "nbformat": 4,
 "nbformat_minor": 2
}
