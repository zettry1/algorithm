{
 "cells": [
  {
   "cell_type": "code",
   "execution_count": 10,
   "metadata": {},
   "outputs": [
    {
     "name": "stdout",
     "output_type": "stream",
     "text": [
      "Averages of subarrays of size K: [0.2, 0.8, 1.2, 2.4, 2.2, 0.6, 1.0, 2.2, 2.0, 2.8, 0.4, 1.6, 1.4, 2.2, 2.4, 1.2, 1.0, 1.8, 2.0, 3.6, -0.2, 0.6, 0.8, 2.4, 2.8]\n"
     ]
    }
   ],
   "source": [
    "def find_averages_of_subarrays(K, arr):\n",
    "    result = []\n",
    "    for i in range(len(arr)-K+1):\n",
    "        _sum = 0.0\n",
    "        for j in range(i, i+K):\n",
    "            _sum += arr[j]\n",
    "            result.append(_sum/K)  # calculate average\n",
    "    return result\n",
    "\n",
    "\n",
    "\n",
    "result = find_averages_of_subarrays(5, [1, 3, 2, 6, -1, 4, 1, 8, 2])\n",
    "print(\"Averages of subarrays of size K: \" + str(result))\n"
   ]
  },
  {
   "cell_type": "code",
   "execution_count": 11,
   "metadata": {},
   "outputs": [
    {
     "name": "stdout",
     "output_type": "stream",
     "text": [
      "Averages of subarrays of size K: [2.2, 2.8, 2.4, 3.6, 2.8]\n"
     ]
    }
   ],
   "source": [
    "#O(n)|O(n)\n",
    "def find_averages_using_sliding_window(K,arr):\n",
    "    result =[]\n",
    "    windowSum,windowStart=0,0\n",
    "    for windowEnd in range(len(arr)):\n",
    "        windowSum+=arr[windowEnd]\n",
    "        if windowEnd >=K-1:\n",
    "            result.append(windowSum/K)\n",
    "            windowSum-=arr[windowStart]\n",
    "            windowStart+=1\n",
    "    return result\n",
    "\n",
    "result = find_averages_using_sliding_window(5, [1, 3, 2, 6, -1, 4, 1, 8, 2])\n",
    "print(\"Averages of subarrays of size K: \" + str(result))"
   ]
  },
  {
   "cell_type": "code",
   "execution_count": 12,
   "metadata": {},
   "outputs": [
    {
     "name": "stdout",
     "output_type": "stream",
     "text": [
      "9\n"
     ]
    }
   ],
   "source": [
    "#Maximum sub array of size K\n",
    "\n",
    "def find_max_sub_array(K,arr):\n",
    "    windowSum,windowStart =0,0\n",
    "    maxSum=0\n",
    "    for windowEnd in range(len(arr)):\n",
    "        windowSum+=arr[windowEnd]\n",
    "        if windowEnd>=K-1:\n",
    "            maxSum=max(maxSum,windowSum)\n",
    "            windowSum-=arr[windowStart]\n",
    "            windowStart+=1\n",
    "    return maxSum\n",
    "\n",
    "\n",
    "result =find_max_sub_array(3,[2,1,5,1,3,2])\n",
    "#result2 =find_max_sub_array(2,[2, 3, 4, 1, 5])\n",
    "print(result)\n",
    "\n"
   ]
  },
  {
   "cell_type": "code",
   "execution_count": 13,
   "metadata": {},
   "outputs": [
    {
     "name": "stdout",
     "output_type": "stream",
     "text": [
      "Smallest subarray length: 2\n",
      "Smallest subarray length: 1\n",
      "Smallest subarray length: 3\n"
     ]
    }
   ],
   "source": [
    "#Smallest subarray sum \n",
    "#Time complexity O(n)|O(1)\n",
    "\n",
    "def smallest_subarray_sum(s,arr):\n",
    "    window_sum=0\n",
    "    l=0\n",
    "    min_length=float(\"inf\")\n",
    "    for r in range(len(arr)):\n",
    "        window_sum+=arr[r]\n",
    "        while window_sum>=s:\n",
    "            min_length=min(min_length,r-l+1)\n",
    "            window_sum-=arr[l]\n",
    "            l+=1        \n",
    "    if min_length==float(\"inf\"):\n",
    "        return 0\n",
    "    return min_length\n",
    "\n",
    "print(\"Smallest subarray length: \" + str(smallest_subarray_sum(7, [2, 1, 5, 2, 3, 2])))\n",
    "print(\"Smallest subarray length: \" + str(smallest_subarray_sum(7, [2, 1, 5, 2, 8])))\n",
    "print(\"Smallest subarray length: \" + str(smallest_subarray_sum(8, [3, 4, 1, 1, 6])))\n"
   ]
  },
  {
   "cell_type": "code",
   "execution_count": 14,
   "metadata": {},
   "outputs": [
    {
     "name": "stdout",
     "output_type": "stream",
     "text": [
      "Length of the longest substring: 4\n",
      "Length of the longest substring: 2\n",
      "Length of the longest substring: 5\n"
     ]
    }
   ],
   "source": [
    "\n",
    "def longest_substring_with_k_distinct(str1, k):\n",
    "  window_start = 0\n",
    "  max_length = 0\n",
    "  char_frequency = {}\n",
    "\n",
    "  # in the following loop we'll try to extend the range [window_start, window_end]\n",
    "  for window_end in range(len(str1)):\n",
    "    right_char = str1[window_end]\n",
    "    if right_char not in char_frequency:\n",
    "      char_frequency[right_char] = 0\n",
    "    char_frequency[right_char] += 1\n",
    "\n",
    "    # shrink the sliding window, until we are left with 'k' distinct characters in the char_frequency\n",
    "    while len(char_frequency) > k:\n",
    "      left_char = str1[window_start]\n",
    "      char_frequency[left_char] -= 1\n",
    "      if char_frequency[left_char] == 0:\n",
    "        del char_frequency[left_char]\n",
    "      window_start += 1  # shrink the window\n",
    "    # remember the maximum length so far\n",
    "    max_length = max(max_length, window_end-window_start + 1)\n",
    "  return max_length\n",
    "\n",
    "print(\"Length of the longest substring: \" + str(longest_substring_with_k_distinct(\"araaci\", 2)))\n",
    "print(\"Length of the longest substring: \" + str(longest_substring_with_k_distinct(\"araaci\", 1)))\n",
    "print(\"Length of the longest substring: \" + str(longest_substring_with_k_distinct(\"cbbebi\", 3)))\n",
    "\n"
   ]
  },
  {
   "cell_type": "code",
   "execution_count": 15,
   "metadata": {},
   "outputs": [
    {
     "name": "stdout",
     "output_type": "stream",
     "text": [
      "3\n",
      "Maximum number of fruits: 3\n",
      "Maximum number of fruits: 5\n"
     ]
    }
   ],
   "source": [
    "\n",
    "#Fruit into basket- medium\n",
    "\n",
    "def fruits_into_baskets(fruits):\n",
    "    max_fruit=0\n",
    "    l=0\n",
    "    fr_req={}\n",
    "\n",
    "    for r in range(len(fruits)):\n",
    "        if fruits[r] not in fr_req:\n",
    "             fr_req[fruits[r]] = 1\n",
    "        else:\n",
    "            fr_req[fruits[r]]+=1\n",
    "\n",
    "        while len(fr_req)>2:\n",
    "            if fruits[l] in fr_req:\n",
    "                fr_req[fruits[l]]-=1\n",
    "            if fr_req[fruits[l]]==0:\n",
    "                del fr_req[fruits[l]]\n",
    "            l+=1\n",
    "    \n",
    "        max_fruit = max(max_fruit,r-l+1)\n",
    "\n",
    "\n",
    "    return max_fruit\n",
    "\n",
    "print(fruits_into_baskets(['A', 'B', 'C', 'A', 'C']))\n",
    "print(\"Maximum number of fruits: \" + str(fruits_into_baskets(['A', 'B', 'C', 'A', 'C'])))\n",
    "print(\"Maximum number of fruits: \" + str(fruits_into_baskets(['A', 'B', 'C', 'B', 'B', 'C'])))\n"
   ]
  },
  {
   "cell_type": "code",
   "execution_count": 16,
   "metadata": {},
   "outputs": [
    {
     "name": "stdout",
     "output_type": "stream",
     "text": [
      "Length of the longest substring: 3\n",
      "Length of the longest substring: 2\n",
      "Length of the longest substring: 3\n"
     ]
    }
   ],
   "source": [
    "#Longest sub string without repeating character  LC-3 medium\n",
    "\n",
    "\n",
    "def non_repeat_substring(str):\n",
    "    l=0\n",
    "    max_length=0\n",
    "    char_index_map={}\n",
    "\n",
    "    for r in range(len(str)):\n",
    "        r_char  = str[r]\n",
    "        if r_char in char_index_map:\n",
    "            l = max(l,char_index_map[r_char]+1)\n",
    "        char_index_map[r_char] = r\n",
    "        max_length = max(max_length,r-l+1)\n",
    "    return max_length\n",
    "\n",
    "\n",
    "    \n",
    "print(\"Length of the longest substring: \" + str(non_repeat_substring(\"aabccbb\")))\n",
    "print(\"Length of the longest substring: \" + str(non_repeat_substring(\"abbbb\")))\n",
    "print(\"Length of the longest substring: \" + str(non_repeat_substring(\"abccde\")))"
   ]
  },
  {
   "cell_type": "code",
   "execution_count": 19,
   "metadata": {},
   "outputs": [
    {
     "name": "stdout",
     "output_type": "stream",
     "text": [
      "4\n",
      "5\n",
      "{'a': 0, 'b': 3, 'c': 2}\n",
      "5\n",
      "3\n",
      "{'a': 0, 'b': 3, 'c': 1}\n",
      "4\n",
      "2\n",
      "4\n",
      "5\n",
      "{'a': 0, 'b': 0, 'c': 1, 'd': 1, 'e': 1}\n",
      "3\n"
     ]
    }
   ],
   "source": [
    "\n",
    "#Longest repeating character replacement   LC-424 medium\n",
    "\n",
    "def length_of_longest_substring(str,k):\n",
    "    l=0\n",
    "    max_sub=0\n",
    "    max_repeat=0\n",
    "    char_list={}\n",
    "    for r in range(len(str)):\n",
    "        right_char = str[r]\n",
    "        if right_char not in char_list:\n",
    "            char_list[right_char] =0\n",
    "        char_list[right_char]+=1\n",
    "\n",
    "        max_repeat = max(max_repeat,char_list[right_char])\n",
    "        if(r-l+1-max_repeat)>k:\n",
    "            print(r)\n",
    "            left_char = str[l]\n",
    "            char_list[left_char]-=1\n",
    "            l+=1\n",
    "        max_sub = max(max_sub,r-l+1)\n",
    "    print(char_list)\n",
    "    return max_sub\n",
    "\n",
    "print(length_of_longest_substring(\"aabccbb\", 2))\n",
    "print(length_of_longest_substring(\"abbcb\", 1))\n",
    "print(length_of_longest_substring(\"abccde\", 1))\n",
    "\n"
   ]
  },
  {
   "cell_type": "code",
   "execution_count": 20,
   "metadata": {},
   "outputs": [
    {
     "name": "stdout",
     "output_type": "stream",
     "text": [
      "6\n",
      "9\n"
     ]
    }
   ],
   "source": [
    "# Longest subarray with ones after replacement 1004-medium\n",
    "\n",
    "def length_of_longest_substring(arr,k):\n",
    "    l=0\n",
    "    max_one_count=0\n",
    "    max_length=0\n",
    "\n",
    "    for r in range(len(arr)):\n",
    "        if arr[r]==1:\n",
    "            max_one_count+=1\n",
    "        \n",
    "        if (r-l+1-max_one_count)>k:\n",
    "            if arr[l]==1:\n",
    "                max_one_count-=1\n",
    "            l+=1\n",
    "        max_length= max(max_length,r-l+1)\n",
    "    return max_length\n",
    "\n",
    "\n",
    "print(length_of_longest_substring([0, 1, 1, 0, 0, 0, 1, 1, 0, 1, 1], 2))\n",
    "print(length_of_longest_substring(\n",
    "    [0, 1, 0, 0, 1, 1, 0, 1, 1, 0, 0, 1, 1], 3))"
   ]
  },
  {
   "cell_type": "code",
   "execution_count": 55,
   "metadata": {},
   "outputs": [
    {
     "name": "stdout",
     "output_type": "stream",
     "text": [
      "True\n"
     ]
    }
   ],
   "source": [
    "#find permutation  \n",
    "\n",
    "\n",
    "def find_permutation(str,pattern):\n",
    "    l,matched=0,0\n",
    "    char_freq={}\n",
    "\n",
    "    for char in pattern:\n",
    "        char_freq[char]=1+char_freq.get(char,0)\n",
    "\n",
    "    for r in range(len(str)):\n",
    "        right_char=str[r]\n",
    "\n",
    "        if right_char in char_freq:\n",
    "            char_freq[right_char]-=1\n",
    "            if char_freq[right_char]==0:\n",
    "                matched+=1\n",
    "        if matched == len(char_freq):\n",
    "            return True\n",
    "\n",
    "        if r >= len(pattern)-1:\n",
    "            left_char = str[l]\n",
    "            l+=1\n",
    "            if left_char in char_freq:\n",
    "                if char_freq[left_char]==0:\n",
    "                    matched-=1\n",
    "                char_freq[left_char]+=1\n",
    "\n",
    "    return False\n",
    "\n",
    "\n",
    "print(find_permutation('abcbaa','aabc'))\n",
    "        \n"
   ]
  },
  {
   "cell_type": "code",
   "execution_count": null,
   "metadata": {},
   "outputs": [],
   "source": [
    "#String Anagrams  LC 438 medium\n",
    "\n",
    "def find_string_anagrams(str1,pattern):\n",
    "    result_indexes=[1]\n",
    "\n",
    "    return result_indexes\n",
    "\n",
    "print (find_string_anagrams(\"abbcabc\",\"abc\"))"
   ]
  }
 ],
 "metadata": {
  "interpreter": {
   "hash": "31f2aee4e71d21fbe5cf8b01ff0e069b9275f58929596ceb00d14d90e3e16cd6"
  },
  "kernelspec": {
   "display_name": "Python 3.8.9 64-bit",
   "language": "python",
   "name": "python3"
  },
  "language_info": {
   "codemirror_mode": {
    "name": "ipython",
    "version": 3
   },
   "file_extension": ".py",
   "mimetype": "text/x-python",
   "name": "python",
   "nbconvert_exporter": "python",
   "pygments_lexer": "ipython3",
   "version": "3.8.9"
  },
  "orig_nbformat": 4
 },
 "nbformat": 4,
 "nbformat_minor": 2
}
