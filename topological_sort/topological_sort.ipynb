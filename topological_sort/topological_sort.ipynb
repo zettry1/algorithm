{
 "cells": [
  {
   "cell_type": "code",
   "execution_count": 1,
   "metadata": {
    "vscode": {
     "languageId": "ruby"
    }
   },
   "outputs": [],
   "source": [
    "# Introduction\n",
    "# Topological Sort is used to find a linear ordering of elements that have\n",
    "#  dependencies on each other. For example, if event ‘B’ is dependent on\n",
    "#   event ‘A’, ‘A’ comes before ‘B’ in topological ordering.\n",
    "\n",
    "# This pattern defines an easy way to understand the technique for \n",
    "# performing topological sorting of a set of elements and then solves \n",
    "# a few problems using it."
   ]
  },
  {
   "cell_type": "code",
   "execution_count": null,
   "metadata": {
    "vscode": {
     "languageId": "ruby"
    }
   },
   "outputs": [],
   "source": [
    "#Topological Sort (medium)\n",
    "\n",
    "from collections import deque\n",
    "\n",
    "\n",
    "def topological_sort(vertices, edges):\n",
    "  sortedOrder = []\n",
    "  if vertices <= 0:\n",
    "    return sortedOrder\n",
    "\n",
    "  # a. Initialize the graph\n",
    "  inDegree = {i: 0 for i in range(vertices)}  # count of incoming edges\n",
    "  graph = {i: [] for i in range(vertices)}  # adjacency list graph\n",
    "\n",
    "  # b. Build the graph\n",
    "  for edge in edges:\n",
    "    parent, child = edge[0], edge[1]\n",
    "    graph[parent].append(child)  # put the child into it's parent's list\n",
    "    inDegree[child] += 1  # increment child's inDegree\n",
    "\n",
    "  # c. Find all sources i.e., all vertices with 0 in-degrees\n",
    "  sources = deque()\n",
    "  for key in inDegree:\n",
    "    if inDegree[key] == 0:\n",
    "      sources.append(key)\n",
    "\n",
    "  # d. For each source, add it to the sortedOrder and subtract one from all of its children's in-degrees\n",
    "  # if a child's in-degree becomes zero, add it to the sources queue\n",
    "  while sources:\n",
    "    vertex = sources.popleft()\n",
    "    sortedOrder.append(vertex)\n",
    "    for child in graph[vertex]:  # get the node's children to decrement their in-degrees\n",
    "      inDegree[child] -= 1\n",
    "      if inDegree[child] == 0:\n",
    "        sources.append(child)\n",
    "\n",
    "  # topological sort is not possible as the graph has a cycle\n",
    "  if len(sortedOrder) != vertices:\n",
    "    return []\n",
    "\n",
    "  return sortedOrder\n",
    "\n",
    "\n",
    "print(\"Topological sort: \" +\n",
    "    str(topological_sort(4, [[3, 2], [3, 0], [2, 0], [2, 1]])))\n",
    "print(\"Topological sort: \" +\n",
    "    str(topological_sort(5, [[4, 2], [4, 3], [2, 0], [2, 1], [3, 1]])))\n",
    "print(\"Topological sort: \" +\n",
    "    str(topological_sort(7, [[6, 4], [6, 2], [5, 3], [5, 4], [3, 0], [3, 1], [3, 2], [4, 1]])))\n",
    "\n"
   ]
  }
 ],
 "metadata": {
  "interpreter": {
   "hash": "b0fa6594d8f4cbf19f97940f81e996739fb7646882a419484c72d19e05852a7e"
  },
  "kernelspec": {
   "display_name": "Python 3.9.10 64-bit",
   "language": "python",
   "name": "python3"
  },
  "language_info": {
   "codemirror_mode": {
    "name": "ipython",
    "version": 3
   },
   "file_extension": ".py",
   "mimetype": "text/x-python",
   "name": "python",
   "nbconvert_exporter": "python",
   "pygments_lexer": "ipython3",
   "version": "3.9.13"
  },
  "orig_nbformat": 4
 },
 "nbformat": 4,
 "nbformat_minor": 2
}
