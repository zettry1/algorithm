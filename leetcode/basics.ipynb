{
 "cells": [
  {
   "cell_type": "code",
   "execution_count": 1,
   "metadata": {
    "vscode": {
     "languageId": "ruby"
    }
   },
   "outputs": [
    {
     "name": "stdout",
     "output_type": "stream",
     "text": [
      "5\n",
      "3\n"
     ]
    }
   ],
   "source": [
    "-- Basic --\n",
    "- Variables\n",
    "- Conditions\n",
    "- Chained Conditionals\n",
    "- Operators\n",
    "- Control Flow (If/Else)\n",
    "- Loops and iterables\n",
    "- Basic Data Structure\n",
    "- Functions\n",
    "- Mutable vs. Immutable\n",
    "- Common Methods\n",
    "- File IO\n",
    "\n",
    "-- Intermediate --\n",
    "- Comprehensiona\n",
    "- Lambda\n",
    "- Collections Module\n",
    "- Map and Filter\n",
    "- *args and **kwargs\n",
    "- Inheritance\n",
    "- Advanced Class\n",
    "- Behaviour\n",
    "- PIP\n",
    "- Environments\n",
    "- Module Creation\n",
    "Async IO\n",
    "\n",
    "-- Advanced --\n",
    "- Decorators\n",
    "- Genrerators\n",
    "- Context Managers\n",
    "- Metaclass\n",
    "- Concurrency\n",
    "- Parallelism\n",
    "- Testing\n",
    "-  Packages\n",
    "- Cython\n",
    "\n"
   ]
  },
  {
   "cell_type": "code",
   "execution_count": 1,
   "metadata": {
    "vscode": {
     "languageId": "ruby"
    }
   },
   "outputs": [
    {
     "name": "stdout",
     "output_type": "stream",
     "text": [
      "5\n",
      "3\n"
     ]
    }
   ],
   "source": [
    "y=2\n",
    "x=y\n",
    "y+=1\n",
    "x+=2\n",
    "\n",
    "a = lambda z:z+2\n",
    "\n",
    "\n",
    "print(a(3))\n",
    "print(y)"
   ]
  },
  {
   "cell_type": "code",
   "execution_count": 11,
   "metadata": {
    "vscode": {
     "languageId": "ruby"
    }
   },
   "outputs": [
    {
     "name": "stdout",
     "output_type": "stream",
     "text": [
      "[1, 3, 9, 7, 5]\n",
      "[1, 3, 4, 7, 5, 9]\n",
      "[3, 5, 4, 7, 9]\n",
      "[3, 5, 4, 7, 9, 10]\n"
     ]
    },
    {
     "data": {
      "text/plain": [
       "3"
      ]
     },
     "execution_count": 11,
     "metadata": {},
     "output_type": "execute_result"
    }
   ],
   "source": [
    "#heap\n",
    "import heapq\n",
    "\n",
    "li = [5,7,9,1,3]\n",
    "heapq.heapify(li)\n",
    "print(li)\n",
    "heapq.heappush(li,4)\n",
    "print(li)\n",
    "heapq.heappop(li)\n",
    "print(li)\n",
    "heapq.heappush(li,10)\n",
    "print(li)\n",
    "heapq.heappushpop(li,3)"
   ]
  },
  {
   "cell_type": "code",
   "execution_count": 4,
   "metadata": {
    "vscode": {
     "languageId": "ruby"
    }
   },
   "outputs": [
    {
     "name": "stdout",
     "output_type": "stream",
     "text": [
      "[12, 12, 13, 5, 6]\n",
      "[11, 12, 13, 5, 6]\n",
      "[11, 12, 13, 5, 6]\n",
      "[11, 12, 13, 5, 6]\n",
      "[11, 11, 12, 13, 6]\n",
      "[5, 11, 12, 13, 6]\n",
      "[5, 11, 11, 12, 13]\n",
      "[5, 6, 11, 12, 13]\n",
      "Sorted array is:\n",
      "5\n",
      "6\n",
      "11\n",
      "12\n",
      "13\n"
     ]
    }
   ],
   "source": [
    "def insertionSort(arr):\n",
    " \n",
    "    # Traverse through 1 to len(arr)\n",
    "    for i in range(1, len(arr)):\n",
    " \n",
    "        key = arr[i]\n",
    " \n",
    "        # Move elements of arr[0..i-1], that are\n",
    "        # greater than key, to one position ahead\n",
    "        # of their current position\n",
    "        j = i-1\n",
    "        while j >=0 and key < arr[j] :\n",
    "                arr[j+1] = arr[j]\n",
    "                j -= 1\n",
    "        print(arr)\n",
    "        arr[j+1] = key\n",
    "        print(arr)\n",
    " \n",
    " \n",
    "# Driver code to test above\n",
    "arr = [12, 11, 13, 5, 6]\n",
    "insertionSort(arr)\n",
    "print (\"Sorted array is:\")\n",
    "for i in range(len(arr)):\n",
    "    print (\"%d\" %arr[i])\n",
    " "
   ]
  },
  {
   "cell_type": "code",
   "execution_count": null,
   "metadata": {
    "vscode": {
     "languageId": "ruby"
    }
   },
   "outputs": [],
   "source": []
  }
 ],
 "metadata": {
  "interpreter": {
   "hash": "b0fa6594d8f4cbf19f97940f81e996739fb7646882a419484c72d19e05852a7e"
  },
  "kernelspec": {
   "display_name": "Python 3.9.10 64-bit",
   "language": "python",
   "name": "python3"
  },
  "language_info": {
   "codemirror_mode": {
    "name": "ipython",
    "version": 3
   },
   "file_extension": ".py",
   "mimetype": "text/x-python",
   "name": "python",
   "nbconvert_exporter": "python",
   "pygments_lexer": "ipython3",
   "version": "3.9.13"
  },
  "orig_nbformat": 4
 },
 "nbformat": 4,
 "nbformat_minor": 2
}
