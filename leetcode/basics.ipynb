{
 "cells": [
  {
   "cell_type": "code",
   "execution_count": 1,
   "metadata": {
    "vscode": {
     "languageId": "ruby"
    }
   },
   "outputs": [
    {
     "name": "stdout",
     "output_type": "stream",
     "text": [
      "5\n",
      "3\n"
     ]
    }
   ],
   "source": [
    "-- Basic --\n",
    "- Variables\n",
    "- Conditions\n",
    "- Chained Conditionals\n",
    "- Operators\n",
    "- Control Flow (If/Else)\n",
    "- Loops and iterables\n",
    "- Basic Data Structure\n",
    "- Functions\n",
    "- Mutable vs. Immutable\n",
    "- Common Methods\n",
    "- File IO\n",
    "\n",
    "-- Intermediate --\n",
    "- Comprehensiona\n",
    "- Lambda\n",
    "- Collections Module\n",
    "- Map and Filter\n",
    "- *args and **kwargs\n",
    "- Inheritance\n",
    "- Advanced Class\n",
    "- Behaviour\n",
    "- PIP\n",
    "- Environments\n",
    "- Module Creation\n",
    "Async IO\n",
    "\n",
    "-- Advanced --\n",
    "- Decorators\n",
    "- Genrerators\n",
    "- Context Managers\n",
    "- Metaclass\n",
    "- Concurrency\n",
    "- Parallelism\n",
    "- Testing\n",
    "-  Packages\n",
    "- Cython\n",
    "\n"
   ]
  },
  {
   "cell_type": "code",
   "execution_count": null,
   "metadata": {
    "vscode": {
     "languageId": "ruby"
    }
   },
   "outputs": [],
   "source": [
    "y=2\n",
    "x=y\n",
    "y+=1\n",
    "x+=2\n",
    "\n",
    "a = lambda z:z+2\n",
    "\n",
    "\n",
    "print(a(3))\n",
    "print(y)"
   ]
  }
 ],
 "metadata": {
  "interpreter": {
   "hash": "b0fa6594d8f4cbf19f97940f81e996739fb7646882a419484c72d19e05852a7e"
  },
  "kernelspec": {
   "display_name": "Python 3.9.10 64-bit",
   "language": "python",
   "name": "python3"
  },
  "language_info": {
   "codemirror_mode": {
    "name": "ipython",
    "version": 3
   },
   "file_extension": ".py",
   "mimetype": "text/x-python",
   "name": "python",
   "nbconvert_exporter": "python",
   "pygments_lexer": "ipython3",
   "version": "3.9.13"
  },
  "orig_nbformat": 4
 },
 "nbformat": 4,
 "nbformat_minor": 2
}
