{
    "cells": [
        {
            "cell_type": "code",
            "execution_count": 2,
            "source": [
                "class Node:\n",
                "    def __init__(self, key):\n",
                "        self.left = None\n",
                "        self.right = None\n",
                "        self.val = key\n",
                " \n",
                " \n",
                "# A function to do inorder tree traversal\n",
                "def printInorder(root):\n",
                " \n",
                "    if root:\n",
                " \n",
                "        # First recur on left child\n",
                "        printInorder(root.left)\n",
                " \n",
                "        # then print the data of node\n",
                "        print(root.val),\n",
                " \n",
                "        # now recur on right child\n",
                "        printInorder(root.right)\n",
                " \n",
                " \n",
                "# A function to do postorder tree traversal\n",
                "def printPostorder(root):\n",
                " \n",
                "    if root:\n",
                " \n",
                "        # First recur on left child\n",
                "        printPostorder(root.left)\n",
                " \n",
                "        # the recur on right child\n",
                "        printPostorder(root.right)\n",
                " \n",
                "        # now print the data of node\n",
                "        print(root.val),\n",
                " \n",
                " \n",
                "# A function to do preorder tree traversal\n",
                "def printPreorder(root):\n",
                " \n",
                "    if root:\n",
                " \n",
                "        # First print the data of node\n",
                "        print(root.val),\n",
                " \n",
                "        # Then recur on left child\n",
                "        printPreorder(root.left)\n",
                " \n",
                "        # Finally recur on right child\n",
                "        printPreorder(root.right)\n",
                " \n",
                " \n",
                "# Driver code\n",
                "root = Node(1)\n",
                "root.left = Node(2)\n",
                "root.right = Node(3)\n",
                "root.left.left = Node(4)\n",
                "root.left.right = Node(5)\n",
                "\n"
            ],
            "outputs": [
                {
                    "output_type": "stream",
                    "name": "stdout",
                    "text": [
                        "Preorder traversal of binary tree is\n",
                        "1\n",
                        "2\n",
                        "4\n",
                        "5\n",
                        "3\n",
                        "\n",
                        "Inorder traversal of binary tree is\n",
                        "4\n",
                        "2\n",
                        "5\n",
                        "1\n",
                        "3\n"
                    ]
                }
            ],
            "metadata": {}
        },
        {
            "cell_type": "markdown",
            "source": [
                "print(\"Preorder traversal of binary tree is\")\n",
                "printPreorder(root)"
            ],
            "metadata": {}
        },
        {
            "cell_type": "code",
            "execution_count": 4,
            "source": [
                " \n",
                "print(\"\\nInorder traversal of binary tree is\")\n",
                "printInorder(root)\n"
            ],
            "outputs": [
                {
                    "output_type": "stream",
                    "name": "stdout",
                    "text": [
                        "\n",
                        "Inorder traversal of binary tree is\n",
                        "4\n",
                        "2\n",
                        "5\n",
                        "1\n",
                        "3\n"
                    ]
                }
            ],
            "metadata": {}
        },
        {
            "cell_type": "code",
            "execution_count": 6,
            "source": [
                "print(\"Preorder traversal of binary tree is\")\n",
                "printPreorder(root)"
            ],
            "outputs": [
                {
                    "output_type": "stream",
                    "name": "stdout",
                    "text": [
                        "Preorder traversal of binary tree is\n",
                        "1\n",
                        "2\n",
                        "4\n",
                        "5\n",
                        "3\n"
                    ]
                }
            ],
            "metadata": {}
        },
        {
            "cell_type": "code",
            "execution_count": 5,
            "source": [
                " \n",
                "print(\"\\nPostorder traversal of binary tree is\")\n",
                "printPostorder(root)"
            ],
            "outputs": [
                {
                    "output_type": "stream",
                    "name": "stdout",
                    "text": [
                        "\n",
                        "Postorder traversal of binary tree is\n",
                        "4\n",
                        "5\n",
                        "2\n",
                        "3\n",
                        "1\n"
                    ]
                }
            ],
            "metadata": {}
        },
        {
            "cell_type": "code",
            "execution_count": null,
            "source": [],
            "outputs": [],
            "metadata": {}
        }
    ],
    "metadata": {
        "orig_nbformat": 4,
        "language_info": {
            "name": "python",
            "version": "3.9.1",
            "mimetype": "text/x-python",
            "codemirror_mode": {
                "name": "ipython",
                "version": 3
            },
            "pygments_lexer": "ipython3",
            "nbconvert_exporter": "python",
            "file_extension": ".py"
        },
        "kernelspec": {
            "name": "python3",
            "display_name": "Python 3.9.1 64-bit"
        },
        "interpreter": {
            "hash": "aee8b7b246df8f9039afb4144a1f6fd8d2ca17a180786b69acc140d282b71a49"
        }
    },
    "nbformat": 4,
    "nbformat_minor": 2
}