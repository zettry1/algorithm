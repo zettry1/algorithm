{
 "cells": [
  {
   "cell_type": "code",
   "execution_count": 1,
   "source": [
    "\n",
    "# Python program to do inorder traversal without recursion\n",
    " \n",
    "# A binary tree node\n",
    "class Node:\n",
    "     \n",
    "    # Constructor to create a new node\n",
    "    def __init__(self, data):\n",
    "        self.data = data\n",
    "        self.left = None\n",
    "        self.right = None\n",
    " \n",
    "# Iterative function for inorder tree traversal\n",
    "\n",
    " \n",
    "# Driver program to test above function\n",
    " \n",
    "\"\"\" Constructed binary tree is\n",
    "            1\n",
    "          /   \\\n",
    "         2     3\n",
    "       /  \\\n",
    "      4    5   \"\"\"\n",
    " \n",
    "root = Node(1)\n",
    "root.left = Node(2)\n",
    "root.right = Node(3)\n",
    "root.right.left = Node(6)\n",
    "root.right.right = Node(7)\n",
    "root.left.left = Node(4)\n",
    "root.left.left.right = Node(9)\n",
    " \n"
   ],
   "outputs": [],
   "metadata": {}
  },
  {
   "cell_type": "code",
   "execution_count": 2,
   "source": [
    "def inOrder(root):\n",
    "     \n",
    "    # Set current to root of binary tree\n",
    "    current = root\n",
    "    stack = [] # initialize stack\n",
    "    done = 0\n",
    "     \n",
    "    while True:\n",
    "         \n",
    "        # Reach the left most Node of the current Node\n",
    "        if current is not None:\n",
    "             \n",
    "            # Place pointer to a tree node on the stack\n",
    "            # before traversing the node's left subtree\n",
    "            stack.append(current)\n",
    "         \n",
    "            current = current.left\n",
    " \n",
    "         \n",
    "        # BackTrack from the empty subtree and visit the Node\n",
    "        # at the top of the stack; however, if the stack is\n",
    "        # empty you are done\n",
    "        elif(stack):\n",
    "            current = stack.pop()\n",
    "            print(current.data, end=\" \") # Python 3 printing\n",
    "         \n",
    "            # We have visited the node and its left\n",
    "            # subtree. Now, it's right subtree's turn\n",
    "            current = current.right\n",
    " \n",
    "        else:\n",
    "            break\n",
    "      \n",
    "    print()\n",
    "\n",
    "inOrder(root)"
   ],
   "outputs": [
    {
     "output_type": "stream",
     "name": "stdout",
     "text": [
      "4 9 2 1 6 3 7 \n"
     ]
    }
   ],
   "metadata": {}
  }
 ],
 "metadata": {
  "orig_nbformat": 4,
  "language_info": {
   "name": "python",
   "version": "3.9.1",
   "mimetype": "text/x-python",
   "codemirror_mode": {
    "name": "ipython",
    "version": 3
   },
   "pygments_lexer": "ipython3",
   "nbconvert_exporter": "python",
   "file_extension": ".py"
  },
  "kernelspec": {
   "name": "python3",
   "display_name": "Python 3.9.1 64-bit"
  },
  "interpreter": {
   "hash": "aee8b7b246df8f9039afb4144a1f6fd8d2ca17a180786b69acc140d282b71a49"
  }
 },
 "nbformat": 4,
 "nbformat_minor": 2
}