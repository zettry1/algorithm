{
 "cells": [
  {
   "cell_type": "code",
   "execution_count": 1,
   "metadata": {
    "vscode": {
     "languageId": "ruby"
    }
   },
   "outputs": [],
   "source": [
    "#Def Koningsberg bridge problem\n",
    "\n",
    "\n",
    "BRIDGES=[\n",
    "    \"AaB\",\n",
    "    \"AbB\",\n",
    "    \"AcC\",\n",
    "    \"AdC\",\n",
    "    \"AeD\",\n",
    "    \"BfD\",\n",
    "    \"CgD\"\n",
    "]\n",
    "\n",
    "def get_walks_starting_from(area,bridges=BRIDGES):\n",
    "    walks=[]\n",
    "    def make_walks(area,walked=None,birdges_crossed=None):\n",
    "        walked = walked or area\n",
    "\n",
    "        birdges_crossed = birdges_crossed or ()\n",
    "\n",
    "        available_bridges=[bridge for bridge in bridges if area in bridge and bridge not in birdges_crossed]\n",
    "\n",
    "        if not available_bridges:\n",
    "            walks.append(walked)\n",
    "\n",
    "        for bridge in available_bridges:\n",
    "\n",
    "            crossing = bridge[1:] if bridge[0] == area else bridge[1::-1]\n",
    "            make_walks(area=crossing[-1],walked=walked+crossing,birdges_crossed=(bridge,*birdges_crossed))\n",
    "\n",
    "    make_walks(area)\n",
    "\n",
    "    return walks\n",
    "\n"
   ]
  },
  {
   "cell_type": "code",
   "execution_count": null,
   "metadata": {
    "vscode": {
     "languageId": "ruby"
    }
   },
   "outputs": [],
   "source": [
    "def bfs(graph,root):\n",
    "    queue=[]\n",
    "    discovered=[False]*len(graph.data)\n",
    "    discovered[root] = True\n",
    "    queue.append(root) \n",
    "    idx = 0\n",
    "    while idx<len(queue):\n",
    "        #deque\n",
    "        current = queue[idx]\n",
    "        idx+=1\n",
    "\n",
    "        #check all the edges of current\n",
    "        for node in graph.data[current]:\n",
    "            if not discovered[node]:\n",
    "                discovered[node] = True\n",
    "                queue.append(node)\n",
    "    return queue\n",
    "\n",
    "\n",
    "\n",
    "\n"
   ]
  }
 ],
 "metadata": {
  "interpreter": {
   "hash": "b0fa6594d8f4cbf19f97940f81e996739fb7646882a419484c72d19e05852a7e"
  },
  "kernelspec": {
   "display_name": "Python 3.9.13 64-bit",
   "language": "python",
   "name": "python3"
  },
  "language_info": {
   "codemirror_mode": {
    "name": "ipython",
    "version": 3
   },
   "file_extension": ".py",
   "mimetype": "text/x-python",
   "name": "python",
   "nbconvert_exporter": "python",
   "pygments_lexer": "ipython3",
   "version": "3.9.13"
  },
  "orig_nbformat": 4
 },
 "nbformat": 4,
 "nbformat_minor": 2
}
